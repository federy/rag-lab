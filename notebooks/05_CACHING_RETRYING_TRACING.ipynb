{
 "cells": [
  {
   "cell_type": "markdown",
   "id": "d03aff5e-4626-4c29-adb5-6a0cccf7aefd",
   "metadata": {},
   "source": [
    "# Get API Keys"
   ]
  },
  {
   "cell_type": "code",
   "execution_count": 1,
   "id": "1e4bf905-8e64-4f94-9da5-a8de7d5c4e97",
   "metadata": {},
   "outputs": [
    {
     "data": {
      "text/plain": [
       "True"
      ]
     },
     "execution_count": 1,
     "metadata": {},
     "output_type": "execute_result"
    }
   ],
   "source": [
    "from dotenv import load_dotenv\n",
    "\n",
    "load_dotenv()"
   ]
  },
  {
   "cell_type": "markdown",
   "id": "eab30167-8c99-4d1b-a842-c41e1b8ea453",
   "metadata": {},
   "source": [
    "# Set up Tracing"
   ]
  },
  {
   "cell_type": "code",
   "execution_count": 2,
   "id": "ec5dadde-367b-41c4-812e-aafcb2e8d691",
   "metadata": {},
   "outputs": [],
   "source": [
    "# from openai import AsyncOpenAI\n",
    "from langfuse.openai import AsyncOpenAI"
   ]
  },
  {
   "cell_type": "markdown",
   "id": "f2cd43d3-631e-46a0-8535-6ca45e1258dd",
   "metadata": {},
   "source": [
    "# Set up the client"
   ]
  },
  {
   "cell_type": "code",
   "execution_count": 3,
   "id": "996a4d01-314c-4dce-9002-fee1ec9ac0fb",
   "metadata": {},
   "outputs": [],
   "source": [
    "client = AsyncOpenAI()"
   ]
  },
  {
   "cell_type": "code",
   "execution_count": 4,
   "id": "1f60a868-7cd0-4d54-bdf1-306b3407cfe0",
   "metadata": {},
   "outputs": [],
   "source": [
    "GPT4O_MINI = \"o4-mini-2025-04-16\""
   ]
  },
  {
   "cell_type": "code",
   "execution_count": null,
   "id": "c6c18d91-bc85-46ce-aaca-d271d1234d9d",
   "metadata": {},
   "outputs": [],
   "source": []
  },
  {
   "cell_type": "markdown",
   "id": "66c0611c-baf6-4d3f-981d-d2a04f3566e5",
   "metadata": {},
   "source": [
    "# Chat Helpers"
   ]
  },
  {
   "cell_type": "code",
   "execution_count": 5,
   "id": "5e751ba5-8207-43c4-8f3a-e3a7928c2dc7",
   "metadata": {},
   "outputs": [],
   "source": [
    "def _msg(role, content):\n",
    "    return {'role': role, 'content': content}\n",
    "\n",
    "def system(content):\n",
    "    return _msg('system', content)\n",
    "\n",
    "def user(content):\n",
    "    return _msg('user', content)\n",
    "\n",
    "def assistant(content):\n",
    "    return _msg('assistant', content)"
   ]
  },
  {
   "cell_type": "markdown",
   "id": "71f8c397-fcfe-444d-8779-d28cd33cb910",
   "metadata": {},
   "source": [
    "# Cache to disk"
   ]
  },
  {
   "cell_type": "code",
   "execution_count": 6,
   "id": "594ad9d0-a67b-410d-8c2c-8691bdfbc129",
   "metadata": {},
   "outputs": [],
   "source": [
    "from diskcache import Cache"
   ]
  },
  {
   "cell_type": "code",
   "execution_count": 7,
   "id": "6f4f7551-fd6d-427c-b7f5-afa7455644a6",
   "metadata": {},
   "outputs": [],
   "source": [
    "# cache = Cache() # temporary cache\n",
    "cache = Cache(directory=\".cache_course\")"
   ]
  },
  {
   "cell_type": "code",
   "execution_count": 8,
   "id": "e255e8a7-2c19-408d-999f-4af9628ce9d2",
   "metadata": {},
   "outputs": [],
   "source": [
    "#cache.set(\"Hello\", \"blabla\")\n",
    "#cache.get(\"Hello\")"
   ]
  },
  {
   "cell_type": "code",
   "execution_count": 9,
   "id": "6f98b746-23bb-4306-bd35-f324e6810ec4",
   "metadata": {},
   "outputs": [],
   "source": [
    "import asyncio"
   ]
  },
  {
   "cell_type": "code",
   "execution_count": 10,
   "id": "fc0e456f-67b2-47ca-95c8-494a6fcd0183",
   "metadata": {},
   "outputs": [],
   "source": [
    "async def set_async(key, val, **kwargs):\n",
    "    return await asyncio.to_thread(cache.set, key, val, **kwargs)\n",
    "\n",
    "async def get_async(key, default=None, **kwargs):\n",
    "    return await asyncio.to_thread(cache.get, key, default, **kwargs)"
   ]
  },
  {
   "cell_type": "code",
   "execution_count": 11,
   "id": "f45ecd9a-d34f-4b1a-8d2f-9193117f6271",
   "metadata": {},
   "outputs": [
    {
     "data": {
      "text/plain": [
       "('NOT FOUND', 'blabla', True, 'yes')"
      ]
     },
     "execution_count": 11,
     "metadata": {},
     "output_type": "execute_result"
    }
   ],
   "source": [
    "# sanity checks\n",
    "(\n",
    "    await get_async(\"key_that_does_not_exist\", default=\"NOT FOUND\"),\n",
    "    await get_async(\"Hello\"),\n",
    "    await set_async(\"key_exist\", \"yes\"),\n",
    "    await get_async(\"key_exist\"),\n",
    ")"
   ]
  },
  {
   "cell_type": "markdown",
   "id": "171b6c6a-1cfe-476a-a785-94d21a0d87ee",
   "metadata": {},
   "source": [
    "# LLMs calls are cached and as well traced"
   ]
  },
  {
   "cell_type": "code",
   "execution_count": 12,
   "id": "2dc3c5c8-5192-4615-86a2-29bbb8274009",
   "metadata": {},
   "outputs": [],
   "source": [
    "from hashlib import md5"
   ]
  },
  {
   "cell_type": "code",
   "execution_count": 13,
   "id": "8e8e8171-14d1-4573-8d96-5cd5709a0ede",
   "metadata": {},
   "outputs": [],
   "source": [
    "import json\n",
    "\n",
    "def make_cache_key(key_name, **kwargs):\n",
    "    kwargs_string = json.dumps(kwargs, sort_keys=True)\n",
    "    kwargs_hash = md5(kwargs_string.encode('utf-8')).hexdigest()\n",
    "    cache_key = f\"{key_name}__{kwargs_hash}\"\n",
    "    \n",
    "    return cache_key"
   ]
  },
  {
   "cell_type": "code",
   "execution_count": 14,
   "id": "78aa79ef-4cca-4201-863a-ba99481d07eb",
   "metadata": {},
   "outputs": [],
   "source": [
    "def _make_cache_key_for_chat_completion(\n",
    "    *,\n",
    "    model,\n",
    "    messages,\n",
    "    **kwargs,\n",
    "):\n",
    "    return make_cache_key(\n",
    "        \"openai_chat_completion\",\n",
    "        model=model,\n",
    "        messages=messages,\n",
    "        **kwargs\n",
    "    )"
   ]
  },
  {
   "cell_type": "code",
   "execution_count": 34,
   "id": "ee4d460d-88d8-4e49-bba4-9e5a32e641d8",
   "metadata": {},
   "outputs": [
    {
     "name": "stdout",
     "output_type": "stream",
     "text": [
      "caught\n"
     ]
    }
   ],
   "source": [
    "from random import randint\n",
    "\n",
    "class FakeRateLimitError(RateLimitError):\n",
    "    def __init__(self):\n",
    "        pass\n",
    "\n",
    "try:\n",
    "    if (randint(0, 10) % 2 == 0):\n",
    "        raise FakeRateLimitError()\n",
    "    else:\n",
    "        print('all good')\n",
    "except RateLimitError as e:\n",
    "    print(\"caught\")"
   ]
  },
  {
   "cell_type": "code",
   "execution_count": 40,
   "id": "e0b3e6ea-fd52-46ce-9be9-87ed6059cfb2",
   "metadata": {},
   "outputs": [],
   "source": [
    "from openai.types.chat import ChatCompletion\n",
    "from functools import update_wrapper, wraps\n",
    "from openai import APITimeoutError, RateLimitError\n",
    "import backoff\n",
    "\n",
    "CACHE_MISS_SENTINEL = object()\n",
    "\n",
    "@wraps(client.chat.completions.create)\n",
    "async def cached_chat_completion(\n",
    "    *,\n",
    "    model,\n",
    "    messages,\n",
    "    **kwargs,\n",
    ") -> ChatCompletion:\n",
    "    # CREATE CAHE KEY\n",
    "    cache_key = _make_cache_key_for_chat_completion(\n",
    "        model=model,\n",
    "        messages=messages,\n",
    "        **kwargs\n",
    "    )\n",
    "    cached_value = await get_async(cache_key, default=CACHE_MISS_SENTINEL)\n",
    "    # CACHE MISS\n",
    "    if cached_value is CACHE_MISS_SENTINEL:\n",
    "        @backoff.on_exception(\n",
    "            backoff.expo,\n",
    "            (APITimeoutError, RateLimitError)\n",
    "        )\n",
    "        async def do_call():\n",
    "            print(\"trying\")\n",
    "            if (randint(0, 10) % 2 == 0):\n",
    "                print(\"rate limit error\")\n",
    "                raise FakeRateLimitError()\n",
    "            return await client.chat.completions.create(\n",
    "                model=model,\n",
    "                messages=messages,\n",
    "                **kwargs\n",
    "            )\n",
    "        completion = await do_call()\n",
    "        await set_async(cache_key, completion.json())\n",
    "        return completion\n",
    "    # CACHE HIT\n",
    "    else:\n",
    "        # TODO: Tracing code (next section)\n",
    "        return ChatCompletion.validate(json.loads(cached_value))\n",
    "\n",
    "#cached_chat_completion = update_wrapper(\n",
    "#    cached_chat_completion,\n",
    "#    wrapped=client.chat.completions.create\n",
    "#)\n",
    "    "
   ]
  },
  {
   "cell_type": "code",
   "execution_count": 41,
   "id": "663d5a97-ad1a-498d-bb60-2cd2e67e96d4",
   "metadata": {},
   "outputs": [
    {
     "name": "stdout",
     "output_type": "stream",
     "text": [
      "trying\n",
      "rate limit error\n",
      "trying\n",
      "rate limit error\n",
      "trying\n",
      "rate limit error\n",
      "trying\n"
     ]
    },
    {
     "name": "stderr",
     "output_type": "stream",
     "text": [
      "/tmp/ipykernel_809027/1437833088.py:39: PydanticDeprecatedSince20: The `json` method is deprecated; use `model_dump_json` instead. Deprecated in Pydantic V2.0 to be removed in V3.0. See Pydantic V2 Migration Guide at https://errors.pydantic.dev/2.11/migration/\n",
      "  await set_async(cache_key, completion.json())\n"
     ]
    }
   ],
   "source": [
    "completion = await cached_chat_completion(\n",
    "    messages=[user(\"What is caching in software engineering??????????!!\")],\n",
    "    model=GPT4O_MINI,\n",
    "    max_completion_tokens=1000,\n",
    "    temperature=1.0\n",
    ")"
   ]
  },
  {
   "cell_type": "code",
   "execution_count": null,
   "id": "cfa047b5-2e0a-4b57-8346-b1e163a2536d",
   "metadata": {},
   "outputs": [],
   "source": []
  }
 ],
 "metadata": {
  "kernelspec": {
   "display_name": "rag-course",
   "language": "python",
   "name": "rag-course"
  },
  "language_info": {
   "codemirror_mode": {
    "name": "ipython",
    "version": 3
   },
   "file_extension": ".py",
   "mimetype": "text/x-python",
   "name": "python",
   "nbconvert_exporter": "python",
   "pygments_lexer": "ipython3",
   "version": "3.12.11"
  }
 },
 "nbformat": 4,
 "nbformat_minor": 5
}
