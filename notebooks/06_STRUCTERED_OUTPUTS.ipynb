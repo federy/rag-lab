{
 "cells": [
  {
   "cell_type": "markdown",
   "id": "4bcec85d-3315-4c45-9f15-22343f2aa758",
   "metadata": {},
   "source": [
    "# Load API Keys"
   ]
  },
  {
   "cell_type": "code",
   "execution_count": 1,
   "id": "fbebdac8-ab74-4300-8cf3-ba68f84b790d",
   "metadata": {},
   "outputs": [
    {
     "data": {
      "text/plain": [
       "True"
      ]
     },
     "execution_count": 1,
     "metadata": {},
     "output_type": "execute_result"
    }
   ],
   "source": [
    "from dotenv import load_dotenv\n",
    "\n",
    "load_dotenv()"
   ]
  },
  {
   "cell_type": "markdown",
   "id": "23954bce-b5f7-445c-9c1e-243f8760a989",
   "metadata": {},
   "source": [
    "# Tracing"
   ]
  },
  {
   "cell_type": "code",
   "execution_count": 2,
   "id": "ae7c7d9c-8755-489a-85da-59302fbee896",
   "metadata": {},
   "outputs": [],
   "source": [
    "from langfuse.openai import AsyncOpenAI"
   ]
  },
  {
   "cell_type": "markdown",
   "id": "1c06cbf8-de1b-4ebf-9cd6-8745cbea2825",
   "metadata": {},
   "source": [
    "# Setup LLM Call Helpers"
   ]
  },
  {
   "cell_type": "code",
   "execution_count": 3,
   "id": "b1ebff70-90a5-40c7-b51d-e266a5fd7dda",
   "metadata": {},
   "outputs": [],
   "source": [
    "client = AsyncOpenAI()"
   ]
  },
  {
   "cell_type": "code",
   "execution_count": 4,
   "id": "53d41df5-18d6-4f10-b80e-d92ef89aea36",
   "metadata": {},
   "outputs": [],
   "source": [
    "GPT4O_MINI = \"o4-mini-2025-04-16\""
   ]
  },
  {
   "cell_type": "code",
   "execution_count": 5,
   "id": "d3e5947d-7728-4016-b44e-41fc7471100d",
   "metadata": {},
   "outputs": [],
   "source": [
    "def _msg(role, content):\n",
    "    return {'role': role, 'content': content}\n",
    "\n",
    "def system(content):\n",
    "    return _msg('system', content)\n",
    "\n",
    "def user(content):\n",
    "    return _msg('user', content)\n",
    "\n",
    "def assistant(content):\n",
    "    return _msg('assistant', content)"
   ]
  },
  {
   "cell_type": "markdown",
   "id": "8711385f-a56c-413c-9864-d3eb7f675e1c",
   "metadata": {},
   "source": [
    "# Demo"
   ]
  },
  {
   "cell_type": "code",
   "execution_count": 12,
   "id": "46a93873-52bd-4cb4-b634-0ba201b594a0",
   "metadata": {},
   "outputs": [],
   "source": [
    "# instead of\n",
    "# client.chat.completions.create\n",
    "# use:\n",
    "from pydantic import BaseModel\n",
    "\n",
    "class CalendarEvent(BaseModel):                 #####################################\n",
    "    name: str                                   ############# SCHEMA ################\n",
    "    date: str                                   #####################################\n",
    "    participants: list[str]                     #####################################\n",
    "\n",
    "completion = await client.chat.completions.parse(\n",
    "    model=GPT4O_MINI,\n",
    "    messages=[\n",
    "        {\"role\": \"system\", \"content\": \"Extract the event information.\"},\n",
    "        {\n",
    "            \"role\": \"user\",\n",
    "            \"content\": \"Alice and Bob are going to a science fair on Friday.\",\n",
    "        },\n",
    "    ],\n",
    "    response_format=CalendarEvent,\n",
    "    # max_output_tokens=5  ### WILL NOT WORK because not enough tokens to output the full json string\n",
    ")\n",
    "\n",
    "#print(comopletion.choices[0].message.parsed)"
   ]
  },
  {
   "cell_type": "code",
   "execution_count": 13,
   "id": "7ed56b91-ee7e-4785-be13-4072bf29580e",
   "metadata": {},
   "outputs": [
    {
     "data": {
      "text/plain": [
       "ParsedChatCompletion[CalendarEvent](id='chatcmpl-C5u2XLRFIUdYh1bnPwA0kRJSa3QTB', choices=[ParsedChoice[CalendarEvent](finish_reason='stop', index=0, logprobs=None, message=ParsedChatCompletionMessage[CalendarEvent](content='{\"name\":\"Science Fair\",\"date\":\"Friday\",\"participants\":[\"Alice\",\"Bob\"]}', refusal=None, role='assistant', annotations=[], audio=None, function_call=None, tool_calls=None, parsed=CalendarEvent(name='Science Fair', date='Friday', participants=['Alice', 'Bob'])))], created=1755523093, model='o4-mini-2025-04-16', object='chat.completion', service_tier='default', system_fingerprint=None, usage=CompletionUsage(completion_tokens=231, prompt_tokens=90, total_tokens=321, completion_tokens_details=CompletionTokensDetails(accepted_prediction_tokens=0, audio_tokens=0, reasoning_tokens=192, rejected_prediction_tokens=0), prompt_tokens_details=PromptTokensDetails(audio_tokens=0, cached_tokens=0)))"
      ]
     },
     "execution_count": 13,
     "metadata": {},
     "output_type": "execute_result"
    }
   ],
   "source": [
    "completion"
   ]
  },
  {
   "cell_type": "code",
   "execution_count": 19,
   "id": "8cdd9816-3302-49a6-84ec-304d8639011c",
   "metadata": {},
   "outputs": [],
   "source": [
    "completion.choices[0].message.refusal"
   ]
  },
  {
   "cell_type": "code",
   "execution_count": null,
   "id": "0a7991bb-9757-4deb-80da-989176d8d151",
   "metadata": {},
   "outputs": [],
   "source": [
    "import json\n",
    "\n",
    "response_as_dict = json.loads(event.model_dump_json())"
   ]
  },
  {
   "cell_type": "code",
   "execution_count": null,
   "id": "95474f48-6861-4238-adf3-75998609fe72",
   "metadata": {},
   "outputs": [],
   "source": []
  }
 ],
 "metadata": {
  "kernelspec": {
   "display_name": "rag-course",
   "language": "python",
   "name": "rag-course"
  },
  "language_info": {
   "codemirror_mode": {
    "name": "ipython",
    "version": 3
   },
   "file_extension": ".py",
   "mimetype": "text/x-python",
   "name": "python",
   "nbconvert_exporter": "python",
   "pygments_lexer": "ipython3",
   "version": "3.12.11"
  }
 },
 "nbformat": 4,
 "nbformat_minor": 5
}
