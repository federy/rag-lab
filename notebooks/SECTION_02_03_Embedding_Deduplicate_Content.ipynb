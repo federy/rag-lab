{
 "cells": [
  {
   "cell_type": "markdown",
   "id": "f5182128-f68a-4a0a-9ac0-e6c20814157a",
   "metadata": {},
   "source": [
    "# Setup"
   ]
  },
  {
   "cell_type": "markdown",
   "id": "892105ce-f8b6-4cd5-80c8-0abca5987b05",
   "metadata": {},
   "source": [
    "## Load API Keys"
   ]
  },
  {
   "cell_type": "code",
   "execution_count": 1,
   "id": "82b38784-25e1-46d8-8d18-26181922d170",
   "metadata": {},
   "outputs": [
    {
     "data": {
      "text/plain": [
       "True"
      ]
     },
     "execution_count": 1,
     "metadata": {},
     "output_type": "execute_result"
    }
   ],
   "source": [
    "from dotenv import load_dotenv\n",
    "\n",
    "load_dotenv()"
   ]
  },
  {
   "cell_type": "markdown",
   "id": "5b1b8d13-009e-4589-a593-215b90675e31",
   "metadata": {},
   "source": [
    "## Tracing"
   ]
  },
  {
   "cell_type": "code",
   "execution_count": 2,
   "id": "4e223b2f-4045-446a-8393-f678211a26a1",
   "metadata": {},
   "outputs": [],
   "source": [
    "from langfuse.openai import AsyncOpenAI  # autoinstrmenttion"
   ]
  },
  {
   "cell_type": "markdown",
   "id": "abdbf19d-9643-464a-9645-893865380296",
   "metadata": {},
   "source": [
    "## Setup Embedding Call Helpers"
   ]
  },
  {
   "cell_type": "code",
   "execution_count": 3,
   "id": "4cff8e79-588c-4586-90ea-fa556824be06",
   "metadata": {},
   "outputs": [],
   "source": [
    "client = AsyncOpenAI()"
   ]
  },
  {
   "cell_type": "code",
   "execution_count": 4,
   "id": "f622e028-248d-411c-be07-ceb07cbb983d",
   "metadata": {},
   "outputs": [],
   "source": [
    "EMBED_MODEL = \"text-embedding-3-large\""
   ]
  },
  {
   "cell_type": "markdown",
   "id": "2f7e8c03-826b-4ef5-afd8-0f04c53aac60",
   "metadata": {},
   "source": [
    "## Demo Embedding Call"
   ]
  },
  {
   "cell_type": "code",
   "execution_count": 5,
   "id": "be7a80d5-0bea-4dea-85ea-e55d5cfafffe",
   "metadata": {},
   "outputs": [],
   "source": [
    "embedding = await client.embeddings.create(\n",
    "    input='Union[str, List[str], Iterable[int], Iterable[Iterable[int]]]',\n",
    "    model=EMBED_MODEL\n",
    ")"
   ]
  },
  {
   "cell_type": "markdown",
   "id": "43ae9080-e8f0-4a97-904f-9da8244e8313",
   "metadata": {},
   "source": [
    "## Embedding Call Helpers"
   ]
  },
  {
   "cell_type": "code",
   "execution_count": 6,
   "id": "cac8492d-92da-44ff-ace3-e4137754d38e",
   "metadata": {},
   "outputs": [],
   "source": [
    "def get_embedding(e) -> list[float]:\n",
    "    return e.data[0].embedding"
   ]
  },
  {
   "cell_type": "code",
   "execution_count": 7,
   "id": "fa9b734d-0e0c-47d7-8b72-ad2894a40a8b",
   "metadata": {},
   "outputs": [],
   "source": [
    "this_embedding = get_embedding(embedding)"
   ]
  },
  {
   "cell_type": "markdown",
   "id": "c2d07d56-92b6-4fae-a338-b58bfe7b8d32",
   "metadata": {},
   "source": [
    "## Compute Cosine Similarity"
   ]
  },
  {
   "cell_type": "code",
   "execution_count": 8,
   "id": "50069418-a7eb-4e52-8668-5360459ace49",
   "metadata": {},
   "outputs": [],
   "source": [
    "from sklearn.metrics.pairwise import cosine_similarity\n",
    "import numpy as np\n",
    "from openai.types.create_embedding_response import CreateEmbeddingResponse"
   ]
  },
  {
   "cell_type": "code",
   "execution_count": 9,
   "id": "c0b79b71-5a7c-455a-ab3f-afdcd98bca50",
   "metadata": {},
   "outputs": [],
   "source": [
    "def embedding_cosine_sim(e1: CreateEmbeddingResponse, e2: CreateEmbeddingResponse) -> float:\n",
    "    e1, e2 = get_embedding(e1), get_embedding(e2)\n",
    "    to_np = lambda e: np.array(e).reshape(1, -1)\n",
    "    e1, e2 = to_np(e1), to_np(e2)\n",
    "    _cos_sim = cosine_similarity(e1, e2)\n",
    "    return _cos_sim[0][0]"
   ]
  },
  {
   "cell_type": "code",
   "execution_count": 10,
   "id": "81c3193b-211c-40d9-9b18-8f79651f998d",
   "metadata": {},
   "outputs": [
    {
     "data": {
      "text/plain": [
       "np.float64(0.9999999999999976)"
      ]
     },
     "execution_count": 10,
     "metadata": {},
     "output_type": "execute_result"
    }
   ],
   "source": [
    "embedding_cosine_sim(embedding, embedding)"
   ]
  },
  {
   "cell_type": "markdown",
   "id": "8faf523b-5001-456a-972a-537e9b85bfbd",
   "metadata": {},
   "source": [
    "## Cache System "
   ]
  },
  {
   "cell_type": "code",
   "execution_count": 11,
   "id": "e974b152-059a-4927-af65-ca3e4fad9864",
   "metadata": {},
   "outputs": [],
   "source": [
    "from diskcache import Cache"
   ]
  },
  {
   "cell_type": "code",
   "execution_count": 12,
   "id": "12234460-2cf8-44ae-b47e-299340c3e711",
   "metadata": {},
   "outputs": [],
   "source": [
    "cache = Cache(directory=\".cache_course\")"
   ]
  },
  {
   "cell_type": "code",
   "execution_count": 13,
   "id": "a964f6a8-f2fb-4990-892e-f754d0aee253",
   "metadata": {},
   "outputs": [],
   "source": [
    "import asyncio"
   ]
  },
  {
   "cell_type": "code",
   "execution_count": 14,
   "id": "cce28600-6e67-4857-a970-6dca9ee307bd",
   "metadata": {},
   "outputs": [],
   "source": [
    "async def set_async(key, val, **kwargs):\n",
    "    return await asyncio.to_thread(cache.set, key, val, **kwargs)\n",
    "\n",
    "async def get_async(key, default=None, **kwargs):\n",
    "    return await asyncio.to_thread(cache.get, key, default, **kwargs)"
   ]
  },
  {
   "cell_type": "code",
   "execution_count": 15,
   "id": "e834cfcf-56b1-4519-8abf-b7f316b99294",
   "metadata": {},
   "outputs": [],
   "source": [
    "import json\n",
    "from hashlib import md5\n",
    "\n",
    "def make_cache_key(key_name, **kwargs):\n",
    "    kwargs_string = json.dumps(kwargs, sort_keys=True)\n",
    "    kwargs_hash = md5(kwargs_string.encode('utf-8')).hexdigest()\n",
    "    cache_key = f\"{key_name}__{kwargs_hash}\"\n",
    "    return cache_key"
   ]
  },
  {
   "cell_type": "markdown",
   "id": "2d45d042-aa12-41f8-9415-1b5b98c30a85",
   "metadata": {},
   "source": [
    "## [EMBEDDING] Cached and Retried Calls"
   ]
  },
  {
   "cell_type": "code",
   "execution_count": 16,
   "id": "95eec4f7-c72a-4adc-8226-b769d6742db7",
   "metadata": {},
   "outputs": [],
   "source": [
    "from pydantic import BaseModel\n",
    "\n",
    "def _make_key_for_cached_embedding_with_retry(\n",
    "    *,\n",
    "    model,\n",
    "    input,\n",
    "    **kwargs,\n",
    "):\n",
    "    return make_cache_key(\n",
    "        \"openai_parsed_chat\",\n",
    "        model=model,\n",
    "        input=input,\n",
    "        **kwargs\n",
    "    )"
   ]
  },
  {
   "cell_type": "code",
   "execution_count": 17,
   "id": "75621a9d-a4ba-46f8-ba63-cf544a12fbbd",
   "metadata": {},
   "outputs": [],
   "source": [
    "from openai.types.create_embedding_response import CreateEmbeddingResponse\n",
    "from functools import wraps\n",
    "from openai import APITimeoutError, RateLimitError\n",
    "from pydantic import BaseModel\n",
    "import backoff\n",
    "\n",
    "\n",
    "CACHE_MISS_SENTINEL = object()\n",
    "\n",
    "\n",
    "@wraps(client.embeddings.create)\n",
    "async def cached_embedding_with_retry(\n",
    "    *,\n",
    "    model,\n",
    "    input,\n",
    "    **kwargs,\n",
    ") -> CreateEmbeddingResponse:\n",
    "    # CREATE CACHE KEY\n",
    "    cache_key = _make_key_for_cached_embedding_with_retry(\n",
    "        model=model,\n",
    "        input=input,\n",
    "        **kwargs\n",
    "    )\n",
    "\n",
    "    cached_value = await get_async(cache_key, default=CACHE_MISS_SENTINEL)\n",
    "    # CACHE MISS\n",
    "    if cached_value is CACHE_MISS_SENTINEL:\n",
    "        @backoff.on_exception(\n",
    "            backoff.expo,\n",
    "            (APITimeoutError, RateLimitError)\n",
    "        )\n",
    "        async def do_call():\n",
    "            return await client.embeddings.create(\n",
    "                model=model,\n",
    "                input=input,\n",
    "                **kwargs\n",
    "            )\n",
    "        embedding = await do_call()\n",
    "        await set_async(cache_key, embedding.model_dump_json())\n",
    "        return embedding\n",
    "    # CACHE HIT\n",
    "    else:\n",
    "        embedding = CreateEmbeddingResponse.model_validate(json.loads(cached_value))\n",
    "        return embedding\n",
    "        \n",
    "        "
   ]
  },
  {
   "cell_type": "code",
   "execution_count": 18,
   "id": "7e4eac1c-f6cc-4568-8923-7a320ad37d5e",
   "metadata": {},
   "outputs": [],
   "source": [
    "embedding = await cached_embedding_with_retry(\n",
    "    input='Union[str, List[str], Iterable[int], Iterable[Iterable[int]]]',\n",
    "    model=EMBED_MODEL\n",
    ")"
   ]
  },
  {
   "cell_type": "code",
   "execution_count": 19,
   "id": "c3a90443-12ab-4f8e-9b21-d83835e2a9ca",
   "metadata": {},
   "outputs": [
    {
     "data": {
      "text/plain": [
       "0.010675324127078056"
      ]
     },
     "execution_count": 19,
     "metadata": {},
     "output_type": "execute_result"
    }
   ],
   "source": [
    "get_embedding(embedding)[0]"
   ]
  },
  {
   "cell_type": "markdown",
   "id": "03140cb5-dbf0-4384-acd4-30f83f37f07e",
   "metadata": {},
   "source": [
    "## [LLM] Cached, Retried, and Traced Calls"
   ]
  },
  {
   "cell_type": "code",
   "execution_count": 20,
   "id": "04f735b0-8844-4608-bcdd-17a46e0ae135",
   "metadata": {},
   "outputs": [],
   "source": [
    "from pydantic import BaseModel\n",
    "\n",
    "def _make_key_for_cached_chat_completion_parsed_with_retry(\n",
    "    *,\n",
    "    model,\n",
    "    messages,\n",
    "    response_format: BaseModel,\n",
    "    **kwargs,\n",
    "):\n",
    "    return make_cache_key(\n",
    "        \"openai_parsed_chat\",\n",
    "        model=model,\n",
    "        messages=messages,\n",
    "        response_format=response_format.model_json_schema(),\n",
    "        **kwargs\n",
    "    )"
   ]
  },
  {
   "cell_type": "code",
   "execution_count": 21,
   "id": "cec357b6-49ad-4649-93cd-12ab44a682e9",
   "metadata": {},
   "outputs": [],
   "source": [
    "from openai.types.chat import ParsedChatCompletion\n",
    "from functools import wraps\n",
    "from openai import APITimeoutError, RateLimitError\n",
    "from pydantic import BaseModel\n",
    "from typing_extensions import TypeVar\n",
    "import backoff\n",
    "\n",
    "ResponseFormatT = TypeVar(\"ResponseFormatT\", bound=BaseModel)\n",
    "\n",
    "CACHE_MISS_SENTINEL = object()\n",
    "\n",
    "\n",
    "@wraps(client.chat.completions.parse)\n",
    "async def cached_chat_completion_parsed_with_retry(\n",
    "    *,\n",
    "    model,\n",
    "    messages,\n",
    "    response_format: ResponseFormatT,\n",
    "    **kwargs,\n",
    ") -> ParsedChatCompletion[ResponseFormatT]:\n",
    "    # CREATE CACHE KEY\n",
    "    cache_key = _make_key_for_cached_chat_completion_parsed_with_retry(\n",
    "        model=model,\n",
    "        messages=messages,\n",
    "        response_format=response_format,\n",
    "        **kwargs\n",
    "    )\n",
    "\n",
    "    cached_value = await get_async(cache_key, default=CACHE_MISS_SENTINEL)\n",
    "    # CACHE MISS\n",
    "    if cached_value is CACHE_MISS_SENTINEL:\n",
    "        @backoff.on_exception(\n",
    "            backoff.expo,\n",
    "            (APITimeoutError, RateLimitError)\n",
    "        )\n",
    "        async def do_call():\n",
    "            return await client.chat.completions.parse(\n",
    "                model=model,\n",
    "                messages=messages,\n",
    "                response_format=response_format,\n",
    "                **kwargs\n",
    "            )\n",
    "        completion = await do_call()\n",
    "        await set_async(cache_key, completion.model_dump_json())\n",
    "        return completion\n",
    "    # CACHE HIT\n",
    "    else:\n",
    "        # TODO: Tracing Code (next section)\n",
    "        # return \n",
    "        completion = ParsedChatCompletion.model_validate(json.loads(cached_value))\n",
    "        for choice in completion.choices:\n",
    "            if not choice.message.refusal:\n",
    "                choice.message.parsed = response_format.model_validate(\n",
    "                    choice.message.parsed\n",
    "                )\n",
    "        return completion\n",
    "        \n",
    "        "
   ]
  },
  {
   "cell_type": "markdown",
   "id": "b075e092-e285-4935-b883-b2f306dbdc95",
   "metadata": {},
   "source": [
    "## Sanity Checks"
   ]
  },
  {
   "cell_type": "code",
   "execution_count": 22,
   "id": "76779c2c-c47d-4d4f-af35-f1acf57d9d1c",
   "metadata": {},
   "outputs": [
    {
     "data": {
      "text/plain": [
       "np.float64(0.9999999999999976)"
      ]
     },
     "execution_count": 22,
     "metadata": {},
     "output_type": "execute_result"
    }
   ],
   "source": [
    "# sanity check\n",
    "embedding = await cached_embedding_with_retry(\n",
    "    input=\"input: 'Union[str, List[str], Iterable[int], Iterable[Iterable[int]]]'\",\n",
    "    model=EMBED_MODEL\n",
    ")\n",
    "embedding_cosine_sim(embedding, embedding)"
   ]
  },
  {
   "cell_type": "code",
   "execution_count": 23,
   "id": "821503f1-e528-42db-bd2d-397924c8928a",
   "metadata": {},
   "outputs": [
    {
     "data": {
      "text/plain": [
       "CalendarEvent(name='Science Fair', date='Friday', participants=['Alice', 'Bob'])"
      ]
     },
     "execution_count": 23,
     "metadata": {},
     "output_type": "execute_result"
    }
   ],
   "source": [
    "# sanity check\n",
    "from pydantic import BaseModel\n",
    "\n",
    "class CalendarEvent(BaseModel):\n",
    "    name: str\n",
    "    date: str\n",
    "    participants: list[str]\n",
    "\n",
    "completion = await cached_chat_completion_parsed_with_retry(\n",
    "    model=\"gpt-4o-2024-08-06\",\n",
    "    messages=[\n",
    "        {\"role\": \"system\", \"content\": \"Extract the event information.\"},\n",
    "        {\"role\": \"user\", \"content\": \"Alice and Bob are going to a science fair on Friday.\"},\n",
    "    ],\n",
    "    response_format=CalendarEvent,\n",
    ")\n",
    "\n",
    "event = completion.choices[0].message.parsed\n",
    "event"
   ]
  },
  {
   "cell_type": "markdown",
   "id": "3e6a2938-b278-4efa-b94b-f4a205526f07",
   "metadata": {},
   "source": [
    "---"
   ]
  },
  {
   "cell_type": "markdown",
   "id": "4e924ca7-e3b2-4d2f-99a1-d4a3225c1c55",
   "metadata": {},
   "source": [
    "# Synthetic Data Filtering"
   ]
  },
  {
   "cell_type": "markdown",
   "id": "2acb9771-aef4-4ab3-af70-a51f0aa0f4f5",
   "metadata": {},
   "source": [
    "## Get the embedding for each questions"
   ]
  },
  {
   "cell_type": "code",
   "execution_count": 24,
   "id": "57c9969c-53c5-4b8e-9a1a-e81b62ca5fdf",
   "metadata": {},
   "outputs": [],
   "source": [
    "import pandas as pd\n",
    "import ast\n",
    "emails = pd.read_csv('paul_allen_sent_email_with_questions_v1.csv')\n",
    "emails['questions'] = emails['questions'].apply(ast.literal_eval)"
   ]
  },
  {
   "cell_type": "markdown",
   "id": "b125dc7a-2865-4a97-b8c6-ade8b0a5dcd3",
   "metadata": {},
   "source": [
    "## Create a data structure that will hold the Message ID, Question ID and the embedding of the question"
   ]
  },
  {
   "cell_type": "code",
   "execution_count": 25,
   "id": "b82533d5-7b58-4e63-a5ba-83a4c8c88431",
   "metadata": {},
   "outputs": [],
   "source": [
    "def _make_ds(id_message, id_question, question, embedding=None):\n",
    "    return {\n",
    "        \"id_message\": id_message,\n",
    "        \"id_question\": id_question,\n",
    "        \"question\": question,\n",
    "        \"embedding\": embedding\n",
    "    }"
   ]
  },
  {
   "cell_type": "code",
   "execution_count": 26,
   "id": "8f9a28c2-2e35-4391-a3c4-7c830aad760a",
   "metadata": {},
   "outputs": [],
   "source": [
    "questions_with_embeddings = []\n",
    "index_for_questions_with_embeddings = {}"
   ]
  },
  {
   "cell_type": "code",
   "execution_count": 27,
   "id": "ca8cc0de-4070-48a3-a853-b4f949ee7753",
   "metadata": {},
   "outputs": [],
   "source": [
    "for e_idx, email in emails.iterrows():\n",
    "    index_for_questions_with_embeddings[e_idx] = {}\n",
    "    for q_idx, question in enumerate(emails.questions):\n",
    "        _ds = _make_ds(e_idx, q_idx, question)\n",
    "        index_for_questions_with_embeddings[e_idx][q_idx] = _ds\n",
    "        questions_with_embeddings.append(_ds)"
   ]
  },
  {
   "cell_type": "code",
   "execution_count": 37,
   "id": "55d260a4-063b-4d1b-9829-6c8efb4545f0",
   "metadata": {},
   "outputs": [
    {
     "data": {
      "text/plain": [
       "{'id_message': 0, 'id_question': 1, 'question': [], 'embedding': None}"
      ]
     },
     "execution_count": 37,
     "metadata": {},
     "output_type": "execute_result"
    }
   ],
   "source": [
    "questions_with_embeddings[1]"
   ]
  },
  {
   "cell_type": "code",
   "execution_count": 33,
   "id": "23291c1f-71c8-4669-8485-cdc2db16a082",
   "metadata": {},
   "outputs": [],
   "source": [
    "import traceback\n",
    "tasks = []\n",
    "\n",
    "for ds in questions_with_embeddings[1:41]:\n",
    "    async def do_task(ds):\n",
    "        try:\n",
    "            ds['embedding'] = await cached_embedding_with_retry(input=ds['question'], model=EMBED_MODEL)\n",
    "        except Exception as e:\n",
    "            return (ds, e, traceback.format_exc())\n",
    "    tasks.append(do_task(ds))"
   ]
  },
  {
   "cell_type": "code",
   "execution_count": 34,
   "id": "c0e36223-1641-412c-afaa-bf3292242afe",
   "metadata": {},
   "outputs": [
    {
     "data": {
      "text/plain": [
       "40"
      ]
     },
     "execution_count": 34,
     "metadata": {},
     "output_type": "execute_result"
    }
   ],
   "source": [
    "len(tasks)"
   ]
  },
  {
   "cell_type": "code",
   "execution_count": 35,
   "id": "73e813d7-374a-40e4-adc1-2cbdf777e798",
   "metadata": {},
   "outputs": [
    {
     "name": "stderr",
     "output_type": "stream",
     "text": [
      "100%|██████████| 40/40 [00:00<00:00, 50.78it/s]\n"
     ]
    }
   ],
   "source": [
    "from tqdm.asyncio import tqdm_asyncio\n",
    "\n",
    "results = await tqdm_asyncio.gather(*tasks)"
   ]
  },
  {
   "cell_type": "code",
   "execution_count": 36,
   "id": "e1eef573-f1d0-48fd-9121-48d4c4c55118",
   "metadata": {},
   "outputs": [
    {
     "data": {
      "text/plain": [
       "[({'id_message': 0, 'id_question': 1, 'question': [], 'embedding': None},\n",
       "  openai.BadRequestError('Error code: 400 - {\\'error\\': {\\'message\\': \"\\'$.input\\' is invalid. Please check the API reference: https://platform.openai.com/docs/api-reference.\", \\'type\\': \\'invalid_request_error\\', \\'param\\': None, \\'code\\': None}}'),\n",
       "  'Traceback (most recent call last):\\n  File \"/tmp/ipykernel_3566510/2241576899.py\", line 7, in do_task\\n    ds[\\'embedding\\'] = await cached_embedding_with_retry(input=ds[\\'question\\'], model=EMBED_MODEL)\\n                      ^^^^^^^^^^^^^^^^^^^^^^^^^^^^^^^^^^^^^^^^^^^^^^^^^^^^^^^^^^^^^^^^^^^^^^^^^^\\n  File \"/tmp/ipykernel_3566510/3686650940.py\", line 38, in cached_embedding_with_retry\\n    embedding = await do_call()\\n                ^^^^^^^^^^^^^^^\\n  File \"/home/admin/LIVE/course/.venv/lib64/python3.12/site-packages/backoff/_async.py\", line 151, in retry\\n    ret = await target(*args, **kwargs)\\n          ^^^^^^^^^^^^^^^^^^^^^^^^^^^^^\\n  File \"/tmp/ipykernel_3566510/3686650940.py\", line 33, in do_call\\n    return await client.embeddings.create(\\n           ^^^^^^^^^^^^^^^^^^^^^^^^^^^^^^^\\n  File \"/home/admin/LIVE/course/.venv/lib64/python3.12/site-packages/openai/resources/embeddings.py\", line 251, in create\\n    return await self._post(\\n           ^^^^^^^^^^^^^^^^^\\n  File \"/home/admin/LIVE/course/.venv/lib64/python3.12/site-packages/openai/_base_client.py\", line 1794, in post\\n    return await self.request(cast_to, opts, stream=stream, stream_cls=stream_cls)\\n           ^^^^^^^^^^^^^^^^^^^^^^^^^^^^^^^^^^^^^^^^^^^^^^^^^^^^^^^^^^^^^^^^^^^^^^^\\n  File \"/home/admin/LIVE/course/.venv/lib64/python3.12/site-packages/openai/_base_client.py\", line 1594, in request\\n    raise self._make_status_error_from_response(err.response) from None\\nopenai.BadRequestError: Error code: 400 - {\\'error\\': {\\'message\\': \"\\'$.input\\' is invalid. Please check the API reference: https://platform.openai.com/docs/api-reference.\", \\'type\\': \\'invalid_request_error\\', \\'param\\': None, \\'code\\': None}}\\n'),\n",
       " ({'id_message': 0, 'id_question': 2, 'question': [], 'embedding': None},\n",
       "  openai.BadRequestError('Error code: 400 - {\\'error\\': {\\'message\\': \"\\'$.input\\' is invalid. Please check the API reference: https://platform.openai.com/docs/api-reference.\", \\'type\\': \\'invalid_request_error\\', \\'param\\': None, \\'code\\': None}}'),\n",
       "  'Traceback (most recent call last):\\n  File \"/tmp/ipykernel_3566510/2241576899.py\", line 7, in do_task\\n    ds[\\'embedding\\'] = await cached_embedding_with_retry(input=ds[\\'question\\'], model=EMBED_MODEL)\\n                      ^^^^^^^^^^^^^^^^^^^^^^^^^^^^^^^^^^^^^^^^^^^^^^^^^^^^^^^^^^^^^^^^^^^^^^^^^^\\n  File \"/tmp/ipykernel_3566510/3686650940.py\", line 38, in cached_embedding_with_retry\\n    embedding = await do_call()\\n                ^^^^^^^^^^^^^^^\\n  File \"/home/admin/LIVE/course/.venv/lib64/python3.12/site-packages/backoff/_async.py\", line 151, in retry\\n    ret = await target(*args, **kwargs)\\n          ^^^^^^^^^^^^^^^^^^^^^^^^^^^^^\\n  File \"/tmp/ipykernel_3566510/3686650940.py\", line 33, in do_call\\n    return await client.embeddings.create(\\n           ^^^^^^^^^^^^^^^^^^^^^^^^^^^^^^^\\n  File \"/home/admin/LIVE/course/.venv/lib64/python3.12/site-packages/openai/resources/embeddings.py\", line 251, in create\\n    return await self._post(\\n           ^^^^^^^^^^^^^^^^^\\n  File \"/home/admin/LIVE/course/.venv/lib64/python3.12/site-packages/openai/_base_client.py\", line 1794, in post\\n    return await self.request(cast_to, opts, stream=stream, stream_cls=stream_cls)\\n           ^^^^^^^^^^^^^^^^^^^^^^^^^^^^^^^^^^^^^^^^^^^^^^^^^^^^^^^^^^^^^^^^^^^^^^^\\n  File \"/home/admin/LIVE/course/.venv/lib64/python3.12/site-packages/openai/_base_client.py\", line 1594, in request\\n    raise self._make_status_error_from_response(err.response) from None\\nopenai.BadRequestError: Error code: 400 - {\\'error\\': {\\'message\\': \"\\'$.input\\' is invalid. Please check the API reference: https://platform.openai.com/docs/api-reference.\", \\'type\\': \\'invalid_request_error\\', \\'param\\': None, \\'code\\': None}}\\n'),\n",
       " None,\n",
       " None,\n",
       " ({'id_message': 0, 'id_question': 5, 'question': [], 'embedding': None},\n",
       "  openai.BadRequestError('Error code: 400 - {\\'error\\': {\\'message\\': \"\\'$.input\\' is invalid. Please check the API reference: https://platform.openai.com/docs/api-reference.\", \\'type\\': \\'invalid_request_error\\', \\'param\\': None, \\'code\\': None}}'),\n",
       "  'Traceback (most recent call last):\\n  File \"/tmp/ipykernel_3566510/2241576899.py\", line 7, in do_task\\n    ds[\\'embedding\\'] = await cached_embedding_with_retry(input=ds[\\'question\\'], model=EMBED_MODEL)\\n                      ^^^^^^^^^^^^^^^^^^^^^^^^^^^^^^^^^^^^^^^^^^^^^^^^^^^^^^^^^^^^^^^^^^^^^^^^^^\\n  File \"/tmp/ipykernel_3566510/3686650940.py\", line 38, in cached_embedding_with_retry\\n    embedding = await do_call()\\n                ^^^^^^^^^^^^^^^\\n  File \"/home/admin/LIVE/course/.venv/lib64/python3.12/site-packages/backoff/_async.py\", line 151, in retry\\n    ret = await target(*args, **kwargs)\\n          ^^^^^^^^^^^^^^^^^^^^^^^^^^^^^\\n  File \"/tmp/ipykernel_3566510/3686650940.py\", line 33, in do_call\\n    return await client.embeddings.create(\\n           ^^^^^^^^^^^^^^^^^^^^^^^^^^^^^^^\\n  File \"/home/admin/LIVE/course/.venv/lib64/python3.12/site-packages/openai/resources/embeddings.py\", line 251, in create\\n    return await self._post(\\n           ^^^^^^^^^^^^^^^^^\\n  File \"/home/admin/LIVE/course/.venv/lib64/python3.12/site-packages/openai/_base_client.py\", line 1794, in post\\n    return await self.request(cast_to, opts, stream=stream, stream_cls=stream_cls)\\n           ^^^^^^^^^^^^^^^^^^^^^^^^^^^^^^^^^^^^^^^^^^^^^^^^^^^^^^^^^^^^^^^^^^^^^^^\\n  File \"/home/admin/LIVE/course/.venv/lib64/python3.12/site-packages/openai/_base_client.py\", line 1594, in request\\n    raise self._make_status_error_from_response(err.response) from None\\nopenai.BadRequestError: Error code: 400 - {\\'error\\': {\\'message\\': \"\\'$.input\\' is invalid. Please check the API reference: https://platform.openai.com/docs/api-reference.\", \\'type\\': \\'invalid_request_error\\', \\'param\\': None, \\'code\\': None}}\\n'),\n",
       " None,\n",
       " ({'id_message': 0, 'id_question': 7, 'question': [], 'embedding': None},\n",
       "  openai.BadRequestError('Error code: 400 - {\\'error\\': {\\'message\\': \"\\'$.input\\' is invalid. Please check the API reference: https://platform.openai.com/docs/api-reference.\", \\'type\\': \\'invalid_request_error\\', \\'param\\': None, \\'code\\': None}}'),\n",
       "  'Traceback (most recent call last):\\n  File \"/tmp/ipykernel_3566510/2241576899.py\", line 7, in do_task\\n    ds[\\'embedding\\'] = await cached_embedding_with_retry(input=ds[\\'question\\'], model=EMBED_MODEL)\\n                      ^^^^^^^^^^^^^^^^^^^^^^^^^^^^^^^^^^^^^^^^^^^^^^^^^^^^^^^^^^^^^^^^^^^^^^^^^^\\n  File \"/tmp/ipykernel_3566510/3686650940.py\", line 38, in cached_embedding_with_retry\\n    embedding = await do_call()\\n                ^^^^^^^^^^^^^^^\\n  File \"/home/admin/LIVE/course/.venv/lib64/python3.12/site-packages/backoff/_async.py\", line 151, in retry\\n    ret = await target(*args, **kwargs)\\n          ^^^^^^^^^^^^^^^^^^^^^^^^^^^^^\\n  File \"/tmp/ipykernel_3566510/3686650940.py\", line 33, in do_call\\n    return await client.embeddings.create(\\n           ^^^^^^^^^^^^^^^^^^^^^^^^^^^^^^^\\n  File \"/home/admin/LIVE/course/.venv/lib64/python3.12/site-packages/openai/resources/embeddings.py\", line 251, in create\\n    return await self._post(\\n           ^^^^^^^^^^^^^^^^^\\n  File \"/home/admin/LIVE/course/.venv/lib64/python3.12/site-packages/openai/_base_client.py\", line 1794, in post\\n    return await self.request(cast_to, opts, stream=stream, stream_cls=stream_cls)\\n           ^^^^^^^^^^^^^^^^^^^^^^^^^^^^^^^^^^^^^^^^^^^^^^^^^^^^^^^^^^^^^^^^^^^^^^^\\n  File \"/home/admin/LIVE/course/.venv/lib64/python3.12/site-packages/openai/_base_client.py\", line 1594, in request\\n    raise self._make_status_error_from_response(err.response) from None\\nopenai.BadRequestError: Error code: 400 - {\\'error\\': {\\'message\\': \"\\'$.input\\' is invalid. Please check the API reference: https://platform.openai.com/docs/api-reference.\", \\'type\\': \\'invalid_request_error\\', \\'param\\': None, \\'code\\': None}}\\n'),\n",
       " ({'id_message': 0, 'id_question': 8, 'question': [], 'embedding': None},\n",
       "  openai.BadRequestError('Error code: 400 - {\\'error\\': {\\'message\\': \"\\'$.input\\' is invalid. Please check the API reference: https://platform.openai.com/docs/api-reference.\", \\'type\\': \\'invalid_request_error\\', \\'param\\': None, \\'code\\': None}}'),\n",
       "  'Traceback (most recent call last):\\n  File \"/tmp/ipykernel_3566510/2241576899.py\", line 7, in do_task\\n    ds[\\'embedding\\'] = await cached_embedding_with_retry(input=ds[\\'question\\'], model=EMBED_MODEL)\\n                      ^^^^^^^^^^^^^^^^^^^^^^^^^^^^^^^^^^^^^^^^^^^^^^^^^^^^^^^^^^^^^^^^^^^^^^^^^^\\n  File \"/tmp/ipykernel_3566510/3686650940.py\", line 38, in cached_embedding_with_retry\\n    embedding = await do_call()\\n                ^^^^^^^^^^^^^^^\\n  File \"/home/admin/LIVE/course/.venv/lib64/python3.12/site-packages/backoff/_async.py\", line 151, in retry\\n    ret = await target(*args, **kwargs)\\n          ^^^^^^^^^^^^^^^^^^^^^^^^^^^^^\\n  File \"/tmp/ipykernel_3566510/3686650940.py\", line 33, in do_call\\n    return await client.embeddings.create(\\n           ^^^^^^^^^^^^^^^^^^^^^^^^^^^^^^^\\n  File \"/home/admin/LIVE/course/.venv/lib64/python3.12/site-packages/openai/resources/embeddings.py\", line 251, in create\\n    return await self._post(\\n           ^^^^^^^^^^^^^^^^^\\n  File \"/home/admin/LIVE/course/.venv/lib64/python3.12/site-packages/openai/_base_client.py\", line 1794, in post\\n    return await self.request(cast_to, opts, stream=stream, stream_cls=stream_cls)\\n           ^^^^^^^^^^^^^^^^^^^^^^^^^^^^^^^^^^^^^^^^^^^^^^^^^^^^^^^^^^^^^^^^^^^^^^^\\n  File \"/home/admin/LIVE/course/.venv/lib64/python3.12/site-packages/openai/_base_client.py\", line 1594, in request\\n    raise self._make_status_error_from_response(err.response) from None\\nopenai.BadRequestError: Error code: 400 - {\\'error\\': {\\'message\\': \"\\'$.input\\' is invalid. Please check the API reference: https://platform.openai.com/docs/api-reference.\", \\'type\\': \\'invalid_request_error\\', \\'param\\': None, \\'code\\': None}}\\n'),\n",
       " None,\n",
       " None,\n",
       " None,\n",
       " ({'id_message': 0, 'id_question': 12, 'question': [], 'embedding': None},\n",
       "  openai.BadRequestError('Error code: 400 - {\\'error\\': {\\'message\\': \"\\'$.input\\' is invalid. Please check the API reference: https://platform.openai.com/docs/api-reference.\", \\'type\\': \\'invalid_request_error\\', \\'param\\': None, \\'code\\': None}}'),\n",
       "  'Traceback (most recent call last):\\n  File \"/tmp/ipykernel_3566510/2241576899.py\", line 7, in do_task\\n    ds[\\'embedding\\'] = await cached_embedding_with_retry(input=ds[\\'question\\'], model=EMBED_MODEL)\\n                      ^^^^^^^^^^^^^^^^^^^^^^^^^^^^^^^^^^^^^^^^^^^^^^^^^^^^^^^^^^^^^^^^^^^^^^^^^^\\n  File \"/tmp/ipykernel_3566510/3686650940.py\", line 38, in cached_embedding_with_retry\\n    embedding = await do_call()\\n                ^^^^^^^^^^^^^^^\\n  File \"/home/admin/LIVE/course/.venv/lib64/python3.12/site-packages/backoff/_async.py\", line 151, in retry\\n    ret = await target(*args, **kwargs)\\n          ^^^^^^^^^^^^^^^^^^^^^^^^^^^^^\\n  File \"/tmp/ipykernel_3566510/3686650940.py\", line 33, in do_call\\n    return await client.embeddings.create(\\n           ^^^^^^^^^^^^^^^^^^^^^^^^^^^^^^^\\n  File \"/home/admin/LIVE/course/.venv/lib64/python3.12/site-packages/openai/resources/embeddings.py\", line 251, in create\\n    return await self._post(\\n           ^^^^^^^^^^^^^^^^^\\n  File \"/home/admin/LIVE/course/.venv/lib64/python3.12/site-packages/openai/_base_client.py\", line 1794, in post\\n    return await self.request(cast_to, opts, stream=stream, stream_cls=stream_cls)\\n           ^^^^^^^^^^^^^^^^^^^^^^^^^^^^^^^^^^^^^^^^^^^^^^^^^^^^^^^^^^^^^^^^^^^^^^^\\n  File \"/home/admin/LIVE/course/.venv/lib64/python3.12/site-packages/openai/_base_client.py\", line 1594, in request\\n    raise self._make_status_error_from_response(err.response) from None\\nopenai.BadRequestError: Error code: 400 - {\\'error\\': {\\'message\\': \"\\'$.input\\' is invalid. Please check the API reference: https://platform.openai.com/docs/api-reference.\", \\'type\\': \\'invalid_request_error\\', \\'param\\': None, \\'code\\': None}}\\n'),\n",
       " None,\n",
       " None,\n",
       " None,\n",
       " ({'id_message': 0, 'id_question': 16, 'question': [], 'embedding': None},\n",
       "  openai.BadRequestError('Error code: 400 - {\\'error\\': {\\'message\\': \"\\'$.input\\' is invalid. Please check the API reference: https://platform.openai.com/docs/api-reference.\", \\'type\\': \\'invalid_request_error\\', \\'param\\': None, \\'code\\': None}}'),\n",
       "  'Traceback (most recent call last):\\n  File \"/tmp/ipykernel_3566510/2241576899.py\", line 7, in do_task\\n    ds[\\'embedding\\'] = await cached_embedding_with_retry(input=ds[\\'question\\'], model=EMBED_MODEL)\\n                      ^^^^^^^^^^^^^^^^^^^^^^^^^^^^^^^^^^^^^^^^^^^^^^^^^^^^^^^^^^^^^^^^^^^^^^^^^^\\n  File \"/tmp/ipykernel_3566510/3686650940.py\", line 38, in cached_embedding_with_retry\\n    embedding = await do_call()\\n                ^^^^^^^^^^^^^^^\\n  File \"/home/admin/LIVE/course/.venv/lib64/python3.12/site-packages/backoff/_async.py\", line 151, in retry\\n    ret = await target(*args, **kwargs)\\n          ^^^^^^^^^^^^^^^^^^^^^^^^^^^^^\\n  File \"/tmp/ipykernel_3566510/3686650940.py\", line 33, in do_call\\n    return await client.embeddings.create(\\n           ^^^^^^^^^^^^^^^^^^^^^^^^^^^^^^^\\n  File \"/home/admin/LIVE/course/.venv/lib64/python3.12/site-packages/openai/resources/embeddings.py\", line 251, in create\\n    return await self._post(\\n           ^^^^^^^^^^^^^^^^^\\n  File \"/home/admin/LIVE/course/.venv/lib64/python3.12/site-packages/openai/_base_client.py\", line 1794, in post\\n    return await self.request(cast_to, opts, stream=stream, stream_cls=stream_cls)\\n           ^^^^^^^^^^^^^^^^^^^^^^^^^^^^^^^^^^^^^^^^^^^^^^^^^^^^^^^^^^^^^^^^^^^^^^^\\n  File \"/home/admin/LIVE/course/.venv/lib64/python3.12/site-packages/openai/_base_client.py\", line 1594, in request\\n    raise self._make_status_error_from_response(err.response) from None\\nopenai.BadRequestError: Error code: 400 - {\\'error\\': {\\'message\\': \"\\'$.input\\' is invalid. Please check the API reference: https://platform.openai.com/docs/api-reference.\", \\'type\\': \\'invalid_request_error\\', \\'param\\': None, \\'code\\': None}}\\n'),\n",
       " None,\n",
       " None,\n",
       " ({'id_message': 0, 'id_question': 19, 'question': [], 'embedding': None},\n",
       "  openai.BadRequestError('Error code: 400 - {\\'error\\': {\\'message\\': \"\\'$.input\\' is invalid. Please check the API reference: https://platform.openai.com/docs/api-reference.\", \\'type\\': \\'invalid_request_error\\', \\'param\\': None, \\'code\\': None}}'),\n",
       "  'Traceback (most recent call last):\\n  File \"/tmp/ipykernel_3566510/2241576899.py\", line 7, in do_task\\n    ds[\\'embedding\\'] = await cached_embedding_with_retry(input=ds[\\'question\\'], model=EMBED_MODEL)\\n                      ^^^^^^^^^^^^^^^^^^^^^^^^^^^^^^^^^^^^^^^^^^^^^^^^^^^^^^^^^^^^^^^^^^^^^^^^^^\\n  File \"/tmp/ipykernel_3566510/3686650940.py\", line 38, in cached_embedding_with_retry\\n    embedding = await do_call()\\n                ^^^^^^^^^^^^^^^\\n  File \"/home/admin/LIVE/course/.venv/lib64/python3.12/site-packages/backoff/_async.py\", line 151, in retry\\n    ret = await target(*args, **kwargs)\\n          ^^^^^^^^^^^^^^^^^^^^^^^^^^^^^\\n  File \"/tmp/ipykernel_3566510/3686650940.py\", line 33, in do_call\\n    return await client.embeddings.create(\\n           ^^^^^^^^^^^^^^^^^^^^^^^^^^^^^^^\\n  File \"/home/admin/LIVE/course/.venv/lib64/python3.12/site-packages/openai/resources/embeddings.py\", line 251, in create\\n    return await self._post(\\n           ^^^^^^^^^^^^^^^^^\\n  File \"/home/admin/LIVE/course/.venv/lib64/python3.12/site-packages/openai/_base_client.py\", line 1794, in post\\n    return await self.request(cast_to, opts, stream=stream, stream_cls=stream_cls)\\n           ^^^^^^^^^^^^^^^^^^^^^^^^^^^^^^^^^^^^^^^^^^^^^^^^^^^^^^^^^^^^^^^^^^^^^^^\\n  File \"/home/admin/LIVE/course/.venv/lib64/python3.12/site-packages/openai/_base_client.py\", line 1594, in request\\n    raise self._make_status_error_from_response(err.response) from None\\nopenai.BadRequestError: Error code: 400 - {\\'error\\': {\\'message\\': \"\\'$.input\\' is invalid. Please check the API reference: https://platform.openai.com/docs/api-reference.\", \\'type\\': \\'invalid_request_error\\', \\'param\\': None, \\'code\\': None}}\\n'),\n",
       " None,\n",
       " None,\n",
       " ({'id_message': 0, 'id_question': 22, 'question': [], 'embedding': None},\n",
       "  openai.BadRequestError('Error code: 400 - {\\'error\\': {\\'message\\': \"\\'$.input\\' is invalid. Please check the API reference: https://platform.openai.com/docs/api-reference.\", \\'type\\': \\'invalid_request_error\\', \\'param\\': None, \\'code\\': None}}'),\n",
       "  'Traceback (most recent call last):\\n  File \"/tmp/ipykernel_3566510/2241576899.py\", line 7, in do_task\\n    ds[\\'embedding\\'] = await cached_embedding_with_retry(input=ds[\\'question\\'], model=EMBED_MODEL)\\n                      ^^^^^^^^^^^^^^^^^^^^^^^^^^^^^^^^^^^^^^^^^^^^^^^^^^^^^^^^^^^^^^^^^^^^^^^^^^\\n  File \"/tmp/ipykernel_3566510/3686650940.py\", line 38, in cached_embedding_with_retry\\n    embedding = await do_call()\\n                ^^^^^^^^^^^^^^^\\n  File \"/home/admin/LIVE/course/.venv/lib64/python3.12/site-packages/backoff/_async.py\", line 151, in retry\\n    ret = await target(*args, **kwargs)\\n          ^^^^^^^^^^^^^^^^^^^^^^^^^^^^^\\n  File \"/tmp/ipykernel_3566510/3686650940.py\", line 33, in do_call\\n    return await client.embeddings.create(\\n           ^^^^^^^^^^^^^^^^^^^^^^^^^^^^^^^\\n  File \"/home/admin/LIVE/course/.venv/lib64/python3.12/site-packages/openai/resources/embeddings.py\", line 251, in create\\n    return await self._post(\\n           ^^^^^^^^^^^^^^^^^\\n  File \"/home/admin/LIVE/course/.venv/lib64/python3.12/site-packages/openai/_base_client.py\", line 1794, in post\\n    return await self.request(cast_to, opts, stream=stream, stream_cls=stream_cls)\\n           ^^^^^^^^^^^^^^^^^^^^^^^^^^^^^^^^^^^^^^^^^^^^^^^^^^^^^^^^^^^^^^^^^^^^^^^\\n  File \"/home/admin/LIVE/course/.venv/lib64/python3.12/site-packages/openai/_base_client.py\", line 1594, in request\\n    raise self._make_status_error_from_response(err.response) from None\\nopenai.BadRequestError: Error code: 400 - {\\'error\\': {\\'message\\': \"\\'$.input\\' is invalid. Please check the API reference: https://platform.openai.com/docs/api-reference.\", \\'type\\': \\'invalid_request_error\\', \\'param\\': None, \\'code\\': None}}\\n'),\n",
       " None,\n",
       " None,\n",
       " None,\n",
       " ({'id_message': 0, 'id_question': 26, 'question': [], 'embedding': None},\n",
       "  openai.BadRequestError('Error code: 400 - {\\'error\\': {\\'message\\': \"\\'$.input\\' is invalid. Please check the API reference: https://platform.openai.com/docs/api-reference.\", \\'type\\': \\'invalid_request_error\\', \\'param\\': None, \\'code\\': None}}'),\n",
       "  'Traceback (most recent call last):\\n  File \"/tmp/ipykernel_3566510/2241576899.py\", line 7, in do_task\\n    ds[\\'embedding\\'] = await cached_embedding_with_retry(input=ds[\\'question\\'], model=EMBED_MODEL)\\n                      ^^^^^^^^^^^^^^^^^^^^^^^^^^^^^^^^^^^^^^^^^^^^^^^^^^^^^^^^^^^^^^^^^^^^^^^^^^\\n  File \"/tmp/ipykernel_3566510/3686650940.py\", line 38, in cached_embedding_with_retry\\n    embedding = await do_call()\\n                ^^^^^^^^^^^^^^^\\n  File \"/home/admin/LIVE/course/.venv/lib64/python3.12/site-packages/backoff/_async.py\", line 151, in retry\\n    ret = await target(*args, **kwargs)\\n          ^^^^^^^^^^^^^^^^^^^^^^^^^^^^^\\n  File \"/tmp/ipykernel_3566510/3686650940.py\", line 33, in do_call\\n    return await client.embeddings.create(\\n           ^^^^^^^^^^^^^^^^^^^^^^^^^^^^^^^\\n  File \"/home/admin/LIVE/course/.venv/lib64/python3.12/site-packages/openai/resources/embeddings.py\", line 251, in create\\n    return await self._post(\\n           ^^^^^^^^^^^^^^^^^\\n  File \"/home/admin/LIVE/course/.venv/lib64/python3.12/site-packages/openai/_base_client.py\", line 1794, in post\\n    return await self.request(cast_to, opts, stream=stream, stream_cls=stream_cls)\\n           ^^^^^^^^^^^^^^^^^^^^^^^^^^^^^^^^^^^^^^^^^^^^^^^^^^^^^^^^^^^^^^^^^^^^^^^\\n  File \"/home/admin/LIVE/course/.venv/lib64/python3.12/site-packages/openai/_base_client.py\", line 1594, in request\\n    raise self._make_status_error_from_response(err.response) from None\\nopenai.BadRequestError: Error code: 400 - {\\'error\\': {\\'message\\': \"\\'$.input\\' is invalid. Please check the API reference: https://platform.openai.com/docs/api-reference.\", \\'type\\': \\'invalid_request_error\\', \\'param\\': None, \\'code\\': None}}\\n'),\n",
       " ({'id_message': 0, 'id_question': 27, 'question': [], 'embedding': None},\n",
       "  openai.BadRequestError('Error code: 400 - {\\'error\\': {\\'message\\': \"\\'$.input\\' is invalid. Please check the API reference: https://platform.openai.com/docs/api-reference.\", \\'type\\': \\'invalid_request_error\\', \\'param\\': None, \\'code\\': None}}'),\n",
       "  'Traceback (most recent call last):\\n  File \"/tmp/ipykernel_3566510/2241576899.py\", line 7, in do_task\\n    ds[\\'embedding\\'] = await cached_embedding_with_retry(input=ds[\\'question\\'], model=EMBED_MODEL)\\n                      ^^^^^^^^^^^^^^^^^^^^^^^^^^^^^^^^^^^^^^^^^^^^^^^^^^^^^^^^^^^^^^^^^^^^^^^^^^\\n  File \"/tmp/ipykernel_3566510/3686650940.py\", line 38, in cached_embedding_with_retry\\n    embedding = await do_call()\\n                ^^^^^^^^^^^^^^^\\n  File \"/home/admin/LIVE/course/.venv/lib64/python3.12/site-packages/backoff/_async.py\", line 151, in retry\\n    ret = await target(*args, **kwargs)\\n          ^^^^^^^^^^^^^^^^^^^^^^^^^^^^^\\n  File \"/tmp/ipykernel_3566510/3686650940.py\", line 33, in do_call\\n    return await client.embeddings.create(\\n           ^^^^^^^^^^^^^^^^^^^^^^^^^^^^^^^\\n  File \"/home/admin/LIVE/course/.venv/lib64/python3.12/site-packages/openai/resources/embeddings.py\", line 251, in create\\n    return await self._post(\\n           ^^^^^^^^^^^^^^^^^\\n  File \"/home/admin/LIVE/course/.venv/lib64/python3.12/site-packages/openai/_base_client.py\", line 1794, in post\\n    return await self.request(cast_to, opts, stream=stream, stream_cls=stream_cls)\\n           ^^^^^^^^^^^^^^^^^^^^^^^^^^^^^^^^^^^^^^^^^^^^^^^^^^^^^^^^^^^^^^^^^^^^^^^\\n  File \"/home/admin/LIVE/course/.venv/lib64/python3.12/site-packages/openai/_base_client.py\", line 1594, in request\\n    raise self._make_status_error_from_response(err.response) from None\\nopenai.BadRequestError: Error code: 400 - {\\'error\\': {\\'message\\': \"\\'$.input\\' is invalid. Please check the API reference: https://platform.openai.com/docs/api-reference.\", \\'type\\': \\'invalid_request_error\\', \\'param\\': None, \\'code\\': None}}\\n'),\n",
       " None,\n",
       " ({'id_message': 0, 'id_question': 29, 'question': [], 'embedding': None},\n",
       "  openai.BadRequestError('Error code: 400 - {\\'error\\': {\\'message\\': \"\\'$.input\\' is invalid. Please check the API reference: https://platform.openai.com/docs/api-reference.\", \\'type\\': \\'invalid_request_error\\', \\'param\\': None, \\'code\\': None}}'),\n",
       "  'Traceback (most recent call last):\\n  File \"/tmp/ipykernel_3566510/2241576899.py\", line 7, in do_task\\n    ds[\\'embedding\\'] = await cached_embedding_with_retry(input=ds[\\'question\\'], model=EMBED_MODEL)\\n                      ^^^^^^^^^^^^^^^^^^^^^^^^^^^^^^^^^^^^^^^^^^^^^^^^^^^^^^^^^^^^^^^^^^^^^^^^^^\\n  File \"/tmp/ipykernel_3566510/3686650940.py\", line 38, in cached_embedding_with_retry\\n    embedding = await do_call()\\n                ^^^^^^^^^^^^^^^\\n  File \"/home/admin/LIVE/course/.venv/lib64/python3.12/site-packages/backoff/_async.py\", line 151, in retry\\n    ret = await target(*args, **kwargs)\\n          ^^^^^^^^^^^^^^^^^^^^^^^^^^^^^\\n  File \"/tmp/ipykernel_3566510/3686650940.py\", line 33, in do_call\\n    return await client.embeddings.create(\\n           ^^^^^^^^^^^^^^^^^^^^^^^^^^^^^^^\\n  File \"/home/admin/LIVE/course/.venv/lib64/python3.12/site-packages/openai/resources/embeddings.py\", line 251, in create\\n    return await self._post(\\n           ^^^^^^^^^^^^^^^^^\\n  File \"/home/admin/LIVE/course/.venv/lib64/python3.12/site-packages/openai/_base_client.py\", line 1794, in post\\n    return await self.request(cast_to, opts, stream=stream, stream_cls=stream_cls)\\n           ^^^^^^^^^^^^^^^^^^^^^^^^^^^^^^^^^^^^^^^^^^^^^^^^^^^^^^^^^^^^^^^^^^^^^^^\\n  File \"/home/admin/LIVE/course/.venv/lib64/python3.12/site-packages/openai/_base_client.py\", line 1594, in request\\n    raise self._make_status_error_from_response(err.response) from None\\nopenai.BadRequestError: Error code: 400 - {\\'error\\': {\\'message\\': \"\\'$.input\\' is invalid. Please check the API reference: https://platform.openai.com/docs/api-reference.\", \\'type\\': \\'invalid_request_error\\', \\'param\\': None, \\'code\\': None}}\\n'),\n",
       " None,\n",
       " None,\n",
       " None,\n",
       " ({'id_message': 0, 'id_question': 33, 'question': [], 'embedding': None},\n",
       "  openai.BadRequestError('Error code: 400 - {\\'error\\': {\\'message\\': \"\\'$.input\\' is invalid. Please check the API reference: https://platform.openai.com/docs/api-reference.\", \\'type\\': \\'invalid_request_error\\', \\'param\\': None, \\'code\\': None}}'),\n",
       "  'Traceback (most recent call last):\\n  File \"/tmp/ipykernel_3566510/2241576899.py\", line 7, in do_task\\n    ds[\\'embedding\\'] = await cached_embedding_with_retry(input=ds[\\'question\\'], model=EMBED_MODEL)\\n                      ^^^^^^^^^^^^^^^^^^^^^^^^^^^^^^^^^^^^^^^^^^^^^^^^^^^^^^^^^^^^^^^^^^^^^^^^^^\\n  File \"/tmp/ipykernel_3566510/3686650940.py\", line 38, in cached_embedding_with_retry\\n    embedding = await do_call()\\n                ^^^^^^^^^^^^^^^\\n  File \"/home/admin/LIVE/course/.venv/lib64/python3.12/site-packages/backoff/_async.py\", line 151, in retry\\n    ret = await target(*args, **kwargs)\\n          ^^^^^^^^^^^^^^^^^^^^^^^^^^^^^\\n  File \"/tmp/ipykernel_3566510/3686650940.py\", line 33, in do_call\\n    return await client.embeddings.create(\\n           ^^^^^^^^^^^^^^^^^^^^^^^^^^^^^^^\\n  File \"/home/admin/LIVE/course/.venv/lib64/python3.12/site-packages/openai/resources/embeddings.py\", line 251, in create\\n    return await self._post(\\n           ^^^^^^^^^^^^^^^^^\\n  File \"/home/admin/LIVE/course/.venv/lib64/python3.12/site-packages/openai/_base_client.py\", line 1794, in post\\n    return await self.request(cast_to, opts, stream=stream, stream_cls=stream_cls)\\n           ^^^^^^^^^^^^^^^^^^^^^^^^^^^^^^^^^^^^^^^^^^^^^^^^^^^^^^^^^^^^^^^^^^^^^^^\\n  File \"/home/admin/LIVE/course/.venv/lib64/python3.12/site-packages/openai/_base_client.py\", line 1594, in request\\n    raise self._make_status_error_from_response(err.response) from None\\nopenai.BadRequestError: Error code: 400 - {\\'error\\': {\\'message\\': \"\\'$.input\\' is invalid. Please check the API reference: https://platform.openai.com/docs/api-reference.\", \\'type\\': \\'invalid_request_error\\', \\'param\\': None, \\'code\\': None}}\\n'),\n",
       " None,\n",
       " None,\n",
       " None,\n",
       " None,\n",
       " None,\n",
       " None,\n",
       " None]"
      ]
     },
     "execution_count": 36,
     "metadata": {},
     "output_type": "execute_result"
    }
   ],
   "source": [
    "results"
   ]
  },
  {
   "cell_type": "code",
   "execution_count": null,
   "id": "c04f26ba-9434-4df7-aff1-a7f0394934c9",
   "metadata": {},
   "outputs": [],
   "source": []
  }
 ],
 "metadata": {
  "kernelspec": {
   "display_name": "rag-course",
   "language": "python",
   "name": "rag-course"
  },
  "language_info": {
   "codemirror_mode": {
    "name": "ipython",
    "version": 3
   },
   "file_extension": ".py",
   "mimetype": "text/x-python",
   "name": "python",
   "nbconvert_exporter": "python",
   "pygments_lexer": "ipython3",
   "version": "3.12.11"
  }
 },
 "nbformat": 4,
 "nbformat_minor": 5
}
