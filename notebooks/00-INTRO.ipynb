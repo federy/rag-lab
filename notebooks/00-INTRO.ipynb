{
 "cells": [
  {
   "cell_type": "markdown",
   "id": "a67e7b6a-2d86-499d-be31-2e91ef96a874",
   "metadata": {},
   "source": [
    "# Load API Keys"
   ]
  },
  {
   "cell_type": "code",
   "execution_count": 1,
   "id": "46e94240-2c02-4d6f-a7ca-5706c0f2b160",
   "metadata": {},
   "outputs": [],
   "source": [
    "from dotenv import load_dotenv"
   ]
  },
  {
   "cell_type": "code",
   "execution_count": 2,
   "id": "bd51bd99-de7f-46ff-88f1-3d6007e159ff",
   "metadata": {},
   "outputs": [
    {
     "data": {
      "text/plain": [
       "True"
      ]
     },
     "execution_count": 2,
     "metadata": {},
     "output_type": "execute_result"
    }
   ],
   "source": [
    "load_dotenv()"
   ]
  },
  {
   "cell_type": "markdown",
   "id": "ad2a26cb-f986-4f37-81b8-705e0082b8a0",
   "metadata": {},
   "source": [
    "# call OpenAI"
   ]
  },
  {
   "cell_type": "code",
   "execution_count": 3,
   "id": "0e486573-e881-4bfa-9687-2cdc1c2f71b2",
   "metadata": {},
   "outputs": [],
   "source": [
    "from openai import OpenAI"
   ]
  },
  {
   "cell_type": "code",
   "execution_count": 4,
   "id": "886d8ace-a811-44e3-b25e-36a9bb79410c",
   "metadata": {},
   "outputs": [],
   "source": [
    "client = OpenAI()"
   ]
  },
  {
   "cell_type": "code",
   "execution_count": 5,
   "id": "9ce8ee6f-bf56-4bc0-94f3-382ebf3141e6",
   "metadata": {},
   "outputs": [],
   "source": [
    "GPT4O_MINI = \"o4-mini-2025-04-16\""
   ]
  },
  {
   "cell_type": "code",
   "execution_count": 6,
   "id": "b9a87dc0-bef1-47a2-8768-d31926d459fb",
   "metadata": {},
   "outputs": [],
   "source": [
    "def _msg(role, content):\n",
    "    return {'role': role, 'content': content}\n",
    "\n",
    "def system(content):\n",
    "    return _msg('system', content)\n",
    "\n",
    "def user(content):\n",
    "    return _msg('user', content)\n",
    "\n",
    "def assistant(content):\n",
    "    return _msg('assistant', content)"
   ]
  },
  {
   "cell_type": "code",
   "execution_count": 7,
   "id": "7f06446d-d1d0-4c4e-b5e5-fdf90ca4cd6a",
   "metadata": {},
   "outputs": [],
   "source": [
    "chat_history = [\n",
    "    system (\"you are an helpful assistant\"),\n",
    "    user(\"Hey what is Python?\"),\n",
    "    assistant(\"Python is a good programming language\"),\n",
    "    user(\"Why is that...???\")\n",
    "]"
   ]
  },
  {
   "cell_type": "code",
   "execution_count": 8,
   "id": "543091e5-440c-410a-81cb-34404f85bb58",
   "metadata": {},
   "outputs": [
    {
     "name": "stdout",
     "output_type": "stream",
     "text": [
      "[{'content': 'you are an helpful assistant', 'role': 'system'},\n",
      " {'content': 'Hey what is Python?', 'role': 'user'},\n",
      " {'content': 'Python is a good programming language', 'role': 'assistant'},\n",
      " {'content': 'Why is that...???', 'role': 'user'}]\n"
     ]
    }
   ],
   "source": [
    "from pprint import pprint\n",
    "\n",
    "pprint(chat_history)"
   ]
  },
  {
   "cell_type": "code",
   "execution_count": 9,
   "id": "1c579dac-21fb-4b55-8cf8-05ba7d3112a6",
   "metadata": {},
   "outputs": [],
   "source": [
    "completion = client.chat.completions.create(\n",
    "    messages=chat_history,\n",
    "    model=GPT4O_MINI\n",
    ")"
   ]
  },
  {
   "cell_type": "code",
   "execution_count": 10,
   "id": "1518c3a7-3c5a-4989-81bb-7a4e870900d7",
   "metadata": {},
   "outputs": [],
   "source": [
    "chat_history.append(\n",
    "    assistant(completion.choices[0].message.content)\n",
    ")"
   ]
  },
  {
   "cell_type": "code",
   "execution_count": 11,
   "id": "e5ebfd75-9817-4a47-b9fa-a2c3bbd4f6d5",
   "metadata": {},
   "outputs": [],
   "source": [
    "chat_history.append(\n",
    "    user(\"What about Typescript?\")\n",
    ")"
   ]
  },
  {
   "cell_type": "code",
   "execution_count": 12,
   "id": "423e02af-4b7b-43f7-96a2-9afeedb365fa",
   "metadata": {},
   "outputs": [
    {
     "name": "stdout",
     "output_type": "stream",
     "text": [
      "[{'content': 'you are an helpful assistant', 'role': 'system'},\n",
      " {'content': 'Hey what is Python?', 'role': 'user'},\n",
      " {'content': 'Python is a good programming language', 'role': 'assistant'},\n",
      " {'content': 'Why is that...???', 'role': 'user'},\n",
      " {'content': 'There are several reasons why Python is often described as a '\n",
      "             '“good” (or even great) programming language:\\n'\n",
      "             '\\n'\n",
      "             '1. Readable, “English-like” Syntax  \\n'\n",
      "             '   • Clean, uncluttered look makes code easy to write and '\n",
      "             'understand  \\n'\n",
      "             '   • Indentation enforces consistent formatting and helps '\n",
      "             'prevent errors  \\n'\n",
      "             '\\n'\n",
      "             '2. Easy to Learn and Use  \\n'\n",
      "             '   • Low barrier to entry for beginners—fewer “boilerplate” '\n",
      "             'constructs  \\n'\n",
      "             '   • Interactive REPL (Read–Eval–Print Loop) lets you experiment '\n",
      "             'in real time  \\n'\n",
      "             '\\n'\n",
      "             '3. Versatility and Flexibility  \\n'\n",
      "             '   • Supports multiple programming styles (procedural, '\n",
      "             'object-oriented, functional)  \\n'\n",
      "             '   • Widely used for web development (e.g. Django, Flask), data '\n",
      "             'science (e.g. pandas, NumPy), automation, game development, '\n",
      "             'scripting and more  \\n'\n",
      "             '\\n'\n",
      "             '4. Rich, Mature Standard Library  \\n'\n",
      "             '   • “Batteries included” approach gives you modules for file '\n",
      "             'I/O, networking, text processing, concurrent programming, '\n",
      "             'etc.  \\n'\n",
      "             '   • Reduces the need to reinvent the wheel for common tasks  \\n'\n",
      "             '\\n'\n",
      "             '5. Huge Third-Party Ecosystem  \\n'\n",
      "             '   • Tens of thousands of packages available on the Python '\n",
      "             'Package Index (PyPI)  \\n'\n",
      "             '   • Active community producing libraries for machine learning '\n",
      "             '(TensorFlow, PyTorch), scientific computing, visualization, '\n",
      "             'cloud services, and beyond  \\n'\n",
      "             '\\n'\n",
      "             '6. Cross-Platform and Interoperable  \\n'\n",
      "             '   • Runs on Windows, macOS, Linux, Unix and many embedded '\n",
      "             'systems  \\n'\n",
      "             '   • Can interoperate with C/C++, Java, .NET and other languages '\n",
      "             'when needed  \\n'\n",
      "             '\\n'\n",
      "             '7. Strong Community and Corporate Support  \\n'\n",
      "             '   • Vast online resources—tutorials, forums, Q&A sites like '\n",
      "             'Stack Overflow  \\n'\n",
      "             '   • Backed by organizations (e.g. Python Software Foundation) '\n",
      "             'and companies (Google, Netflix, NASA)  \\n'\n",
      "             '\\n'\n",
      "             '8. Rapid Development and Prototyping  \\n'\n",
      "             '   • Dynamic typing and high-level data structures let you build '\n",
      "             'and iterate quickly  \\n'\n",
      "             '   • Ideal for startups and research projects where time to '\n",
      "             'proof-of-concept matters  \\n'\n",
      "             '\\n'\n",
      "             'Taken together, these factors make Python both approachable for '\n",
      "             'newcomers and powerful enough for large-scale, production-grade '\n",
      "             'applications.',\n",
      "  'role': 'assistant'},\n",
      " {'content': 'What about Typescript?', 'role': 'user'}]\n"
     ]
    }
   ],
   "source": [
    "pprint(chat_history)"
   ]
  },
  {
   "cell_type": "code",
   "execution_count": 13,
   "id": "6e384604-49a3-4733-8290-e61faf35cef4",
   "metadata": {},
   "outputs": [],
   "source": [
    "completion = client.chat.completions.create(\n",
    "    messages=chat_history,\n",
    "    model=GPT4O_MINI\n",
    ")"
   ]
  },
  {
   "cell_type": "code",
   "execution_count": 14,
   "id": "f69f1f80-e042-4bdc-a442-c9a4b78cb889",
   "metadata": {},
   "outputs": [
    {
     "data": {
      "text/plain": [
       "'TypeScript is a modern, statically-typed superset of JavaScript that adds optional type annotations and compile-time checking on top of standard JS. Here’s what makes it popular:\\n\\n1. Static Typing and Early Error Detection  \\n   • You declare types for variables, function parameters, and return values.  \\n   • The TypeScript compiler (tsc) catches mismatches or undefined properties before you even run the code.  \\n   • Fewer runtime surprises and easier refactoring in large codebases.\\n\\n2. Better Tooling and IDE Support  \\n   • Editors like VS Code can offer smarter auto-completion, jump-to-definition, find-all-references and inline documentation.  \\n   • Refactoring tools (rename symbols, extract methods) work more reliably because the compiler knows your types.  \\n\\n3. Familiar JavaScript Ecosystem  \\n   • You can rename files from .js to .ts and your existing JS still works—TypeScript is a superset.  \\n   • All JS libraries and frameworks (React, Angular, Vue, Node.js) can be used directly, often with community-maintained type definitions (DefinitelyTyped).  \\n\\n4. Modern Language Features  \\n   • Interfaces and type aliases let you describe complex object shapes.  \\n   • Generics enable reusable, type-safe data structures and functions.  \\n   • Enums, tuples, union/intersection types and async/await parity with ESNext features.  \\n\\n5. Scalability for Large Projects  \\n   • As a project grows, types serve as lightweight documentation: APIs, input/output shapes, third-party modules.  \\n   • Teams find it easier to onboard new developers because the types describe data contracts explicitly.  \\n\\n6. Configurable Strictness  \\n   • You can dial in how strict the compiler is: from “allow anything” (very close to plain JS) up to “noImplicitAny”/“strictNullChecks” (maximum safety).  \\n   • This flexibility lets you migrate incrementally or adopt only the features you need.\\n\\n7. Strong Community and Corporate Adoption  \\n   • Developed and maintained by Microsoft, widely used at companies like Google, Slack, Airbnb, and Asana.  \\n   • Thousands of open-source projects ship type definitions so you get type safety even for libraries you didn’t write.  \\n\\n8. Build Step and Toolchain Considerations  \\n   • Unlike Python (interpreted) you must compile/transpile TypeScript to JavaScript before running in browsers or Node.js.  \\n   • You’ll typically integrate tsc or Babel into your build process (Webpack, Rollup, esbuild, etc.).  \\n\\nUse Cases  \\n– Front-end applications: Angular is built around TypeScript, and React/Vue projects often choose it for better maintainability.  \\n– Back-end services: Node.js servers, serverless functions or tooling scripts.  \\n– Shared code-base: Libraries or monorepos where type definitions help coordinate multiple teams.  \\n\\nIn short, TypeScript brings the safety and developer-experience benefits of static typing to the JavaScript world, making it easier to build, maintain and scale complex applications.'"
      ]
     },
     "execution_count": 14,
     "metadata": {},
     "output_type": "execute_result"
    }
   ],
   "source": [
    "completion.choices[0].message.content"
   ]
  },
  {
   "cell_type": "markdown",
   "id": "33389e33-4163-49da-a6fb-db4a17c64f66",
   "metadata": {},
   "source": [
    "# Asynchronous\n",
    "\n",
    "Concurrently instead of sequentially"
   ]
  },
  {
   "cell_type": "code",
   "execution_count": 15,
   "id": "fcd9200a-dda0-412e-b7c7-3fee9ed16231",
   "metadata": {},
   "outputs": [],
   "source": [
    "from openai import AsyncOpenAI"
   ]
  },
  {
   "cell_type": "code",
   "execution_count": 16,
   "id": "7dff1541-7c62-41e1-a38a-34cf296774c5",
   "metadata": {},
   "outputs": [],
   "source": [
    "client = AsyncOpenAI()"
   ]
  },
  {
   "cell_type": "code",
   "execution_count": 17,
   "id": "8c89e683-ea94-4f6d-9e86-4b0586b4377e",
   "metadata": {},
   "outputs": [],
   "source": [
    "chat_history = [\n",
    "    system (\"you are an helpful assistant\"),\n",
    "    user(\"Hey what is Python?\"),\n",
    "    assistant(\"Python is a good programming language\"),\n",
    "    user(\"Why is that...???\")\n",
    "]"
   ]
  },
  {
   "cell_type": "code",
   "execution_count": 18,
   "id": "b82a6da5-af0e-4085-91f8-de9d2398d15e",
   "metadata": {},
   "outputs": [],
   "source": [
    "#print(1)\n",
    "#completion = await client.chat.completions.create(\n",
    "#    messages=chat_history,\n",
    "#    model=GPT4O_MINI,\n",
    "#    max_completion_tokens=50\n",
    "#)\n",
    "#print(2)\n",
    "#completion = await client.chat.completions.create(\n",
    "#    messages=chat_history,\n",
    "#    model=GPT4O_MINI,\n",
    "#    max_completion_tokens=50\n",
    "#)\n",
    "#print(3)\n",
    "\n",
    "#completion_task_1 = client.chat.completions.create(\n",
    "#    messages=chat_history,\n",
    "#    model=GPT4O_MINI,\n",
    "#    max_completion_tokens=50\n",
    "#)\n",
    "\n",
    "#completion_task_2 = client.chat.completions.create(\n",
    "#    messages=chat_history,\n",
    "#    model=GPT4O_MINI,\n",
    "#    max_completion_tokens=50\n",
    "#)\n",
    "\n",
    "completion_tasks = []\n",
    "\n",
    "for i in range(50):\n",
    "    completion_task = client.chat.completions.create(\n",
    "        messages=chat_history,\n",
    "        model=GPT4O_MINI,\n",
    "        max_completion_tokens=50\n",
    "    )\n",
    "    completion_tasks.append(completion_task)"
   ]
  },
  {
   "cell_type": "code",
   "execution_count": 19,
   "id": "1c4cb2de-44ec-4f0f-a164-6ccdb6e2d060",
   "metadata": {},
   "outputs": [],
   "source": [
    "import asyncio"
   ]
  },
  {
   "cell_type": "code",
   "execution_count": 20,
   "id": "1e91680f-20bd-4b5d-91a0-48a6155d0cd8",
   "metadata": {},
   "outputs": [],
   "source": [
    "results = await asyncio.gather(*completion_tasks)"
   ]
  },
  {
   "cell_type": "code",
   "execution_count": 21,
   "id": "3fd21fe8-d2ee-494c-9b99-7c6af6561a83",
   "metadata": {},
   "outputs": [
    {
     "data": {
      "text/plain": [
       "ChatCompletion(id='chatcmpl-C1ZoTGySUeOiRXc8znPj42yGq5hn8', choices=[Choice(finish_reason='length', index=0, logprobs=None, message=ChatCompletionMessage(content='', refusal=None, role='assistant', annotations=[], audio=None, function_call=None, tool_calls=None))], created=1754492029, model='o4-mini-2025-04-16', object='chat.completion', service_tier='default', system_fingerprint=None, usage=CompletionUsage(completion_tokens=50, prompt_tokens=41, total_tokens=91, completion_tokens_details=CompletionTokensDetails(accepted_prediction_tokens=0, audio_tokens=0, reasoning_tokens=50, rejected_prediction_tokens=0), prompt_tokens_details=PromptTokensDetails(audio_tokens=0, cached_tokens=0)))"
      ]
     },
     "execution_count": 21,
     "metadata": {},
     "output_type": "execute_result"
    }
   ],
   "source": [
    "results[0]"
   ]
  },
  {
   "cell_type": "code",
   "execution_count": 22,
   "id": "de6e12f3-4486-44ea-826e-9a6be470c830",
   "metadata": {},
   "outputs": [
    {
     "name": "stdout",
     "output_type": "stream",
     "text": [
      "0\n",
      "1\n",
      "2\n",
      "3\n",
      "4\n",
      "5\n",
      "6\n",
      "7\n",
      "8\n",
      "9\n",
      "10\n",
      "11\n",
      "12\n",
      "13\n",
      "14\n",
      "15\n",
      "16\n",
      "17\n",
      "18\n",
      "19\n",
      "20\n",
      "21\n",
      "22\n",
      "23\n",
      "24\n",
      "25\n",
      "26\n",
      "27\n",
      "28\n",
      "29\n",
      "30\n",
      "31\n",
      "32\n",
      "33\n",
      "34\n",
      "35\n",
      "36\n",
      "37\n",
      "38\n",
      "39\n",
      "40\n",
      "41\n",
      "42\n",
      "43\n",
      "44\n",
      "45\n",
      "46\n",
      "47\n",
      "48\n",
      "49\n"
     ]
    }
   ],
   "source": [
    "for i in range(50):\n",
    "    print(i)\n",
    "    completion = await client.chat.completions.create(\n",
    "        messages=chat_history,\n",
    "        model=GPT4O_MINI,\n",
    "        max_completion_tokens=50\n",
    "    )"
   ]
  },
  {
   "cell_type": "code",
   "execution_count": null,
   "id": "97f1acac-7987-4444-942a-3df06b923254",
   "metadata": {},
   "outputs": [],
   "source": []
  }
 ],
 "metadata": {
  "kernelspec": {
   "display_name": "rag-course",
   "language": "python",
   "name": "rag-course"
  },
  "language_info": {
   "codemirror_mode": {
    "name": "ipython",
    "version": 3
   },
   "file_extension": ".py",
   "mimetype": "text/x-python",
   "name": "python",
   "nbconvert_exporter": "python",
   "pygments_lexer": "ipython3",
   "version": "3.12.11"
  }
 },
 "nbformat": 4,
 "nbformat_minor": 5
}
