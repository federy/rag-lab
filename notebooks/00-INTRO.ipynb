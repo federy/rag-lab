{
 "cells": [
  {
   "cell_type": "markdown",
   "id": "a67e7b6a-2d86-499d-be31-2e91ef96a874",
   "metadata": {},
   "source": [
    "# Load API Keys"
   ]
  },
  {
   "cell_type": "code",
   "execution_count": 1,
   "id": "46e94240-2c02-4d6f-a7ca-5706c0f2b160",
   "metadata": {},
   "outputs": [],
   "source": [
    "from dotenv import load_dotenv"
   ]
  },
  {
   "cell_type": "code",
   "execution_count": 2,
   "id": "bd51bd99-de7f-46ff-88f1-3d6007e159ff",
   "metadata": {},
   "outputs": [
    {
     "data": {
      "text/plain": [
       "True"
      ]
     },
     "execution_count": 2,
     "metadata": {},
     "output_type": "execute_result"
    }
   ],
   "source": [
    "load_dotenv()"
   ]
  },
  {
   "cell_type": "markdown",
   "id": "ad2a26cb-f986-4f37-81b8-705e0082b8a0",
   "metadata": {},
   "source": [
    "# call OpenAI"
   ]
  },
  {
   "cell_type": "code",
   "execution_count": 3,
   "id": "0e486573-e881-4bfa-9687-2cdc1c2f71b2",
   "metadata": {},
   "outputs": [],
   "source": [
    "from openai import OpenAI"
   ]
  },
  {
   "cell_type": "code",
   "execution_count": 4,
   "id": "886d8ace-a811-44e3-b25e-36a9bb79410c",
   "metadata": {},
   "outputs": [],
   "source": [
    "client = OpenAI()"
   ]
  },
  {
   "cell_type": "code",
   "execution_count": 5,
   "id": "9ce8ee6f-bf56-4bc0-94f3-382ebf3141e6",
   "metadata": {},
   "outputs": [],
   "source": [
    "GPT4O_MINI = \"o4-mini-2025-04-16\""
   ]
  },
  {
   "cell_type": "code",
   "execution_count": 6,
   "id": "b9a87dc0-bef1-47a2-8768-d31926d459fb",
   "metadata": {},
   "outputs": [],
   "source": [
    "def _msg(role, content):\n",
    "    return {'role': role, 'content': content}\n",
    "\n",
    "def system(content):\n",
    "    return _msg('system', content)\n",
    "\n",
    "def user(content):\n",
    "    return _msg('user', content)\n",
    "\n",
    "def assistant(content):\n",
    "    return _msg('assistant', content)"
   ]
  },
  {
   "cell_type": "code",
   "execution_count": 7,
   "id": "7f06446d-d1d0-4c4e-b5e5-fdf90ca4cd6a",
   "metadata": {},
   "outputs": [],
   "source": [
    "chat_history = [\n",
    "    system (\"you are an helpful assistant\"),\n",
    "    user(\"Hey what is Python?\"),\n",
    "    assistant(\"Python is a good programming language\"),\n",
    "    user(\"Why is that...???\")\n",
    "]"
   ]
  },
  {
   "cell_type": "code",
   "execution_count": 8,
   "id": "543091e5-440c-410a-81cb-34404f85bb58",
   "metadata": {},
   "outputs": [
    {
     "name": "stdout",
     "output_type": "stream",
     "text": [
      "[{'content': 'you are an helpful assistant', 'role': 'system'},\n",
      " {'content': 'Hey what is Python?', 'role': 'user'},\n",
      " {'content': 'Python is a good programming language', 'role': 'assistant'},\n",
      " {'content': 'Why is that...???', 'role': 'user'}]\n"
     ]
    }
   ],
   "source": [
    "from pprint import pprint\n",
    "\n",
    "pprint(chat_history)"
   ]
  },
  {
   "cell_type": "code",
   "execution_count": 9,
   "id": "1c579dac-21fb-4b55-8cf8-05ba7d3112a6",
   "metadata": {},
   "outputs": [],
   "source": [
    "completion = client.chat.completions.create(\n",
    "    messages=chat_history,\n",
    "    model=GPT4O_MINI\n",
    ")"
   ]
  },
  {
   "cell_type": "code",
   "execution_count": 13,
   "id": "1518c3a7-3c5a-4989-81bb-7a4e870900d7",
   "metadata": {},
   "outputs": [],
   "source": [
    "chat_history.append(\n",
    "    assistant(completion.choices[0].message.content)\n",
    ")"
   ]
  },
  {
   "cell_type": "code",
   "execution_count": 14,
   "id": "e5ebfd75-9817-4a47-b9fa-a2c3bbd4f6d5",
   "metadata": {},
   "outputs": [],
   "source": [
    "chat_history.append(\n",
    "    user(\"What about Typescript?\")\n",
    ")"
   ]
  },
  {
   "cell_type": "code",
   "execution_count": 15,
   "id": "423e02af-4b7b-43f7-96a2-9afeedb365fa",
   "metadata": {},
   "outputs": [
    {
     "name": "stdout",
     "output_type": "stream",
     "text": [
      "[{'content': 'you are an helpful assistant', 'role': 'system'},\n",
      " {'content': 'Hey what is Python?', 'role': 'user'},\n",
      " {'content': 'Python is a good programming language', 'role': 'assistant'},\n",
      " {'content': 'Why is that...???', 'role': 'user'},\n",
      " {'content': 'Python is widely regarded as a “good” programming language for '\n",
      "             'several reasons:\\n'\n",
      "             '\\n'\n",
      "             '1. Readability & Simplicity  \\n'\n",
      "             '   • Clear, English-like syntax makes code easy to write and '\n",
      "             'understand.  \\n'\n",
      "             '   • Enforces indentation-based blocks, which promotes '\n",
      "             'consistent style.  \\n'\n",
      "             '\\n'\n",
      "             '2. Beginner-Friendly  \\n'\n",
      "             '   • Small core language surface—easy to pick up for '\n",
      "             'newcomers.  \\n'\n",
      "             '   • Immediate feedback via the interactive REPL '\n",
      "             '(read–eval–print loop).  \\n'\n",
      "             '\\n'\n",
      "             '3. Extensive Standard Library (“Batteries Included”)  \\n'\n",
      "             '   • Modules for file I/O, networking, regular expressions, data '\n",
      "             'serialization, and more are built in.  \\n'\n",
      "             '   • Reduces the need to reinvent common functionality.  \\n'\n",
      "             '\\n'\n",
      "             '4. Vast Ecosystem of Third-Party Packages  \\n'\n",
      "             '   • PyPI hosts over 400 000 packages for web frameworks '\n",
      "             '(Django, Flask), data science (NumPy, pandas), machine learning '\n",
      "             '(scikit-learn, TensorFlow), automation, game development, '\n",
      "             'etc.  \\n'\n",
      "             '   • Easy installs via pip or conda.  \\n'\n",
      "             '\\n'\n",
      "             '5. Versatility & Cross-Platform  \\n'\n",
      "             '   • Runs on Windows, macOS, Linux, even some mobile and '\n",
      "             'embedded platforms.  \\n'\n",
      "             '   • Used in web development, data analysis, scientific '\n",
      "             'computing, AI, scripting, automation, DevOps, and more.  \\n'\n",
      "             '\\n'\n",
      "             '6. Strong Community & Support  \\n'\n",
      "             '   • Millions of developers worldwide—forums, tutorials, '\n",
      "             'open-source projects.  \\n'\n",
      "             '   • Regular language updates driven by the Python Enhancement '\n",
      "             'Proposal (PEP) process.  \\n'\n",
      "             '\\n'\n",
      "             '7. Integration & Extensibility  \\n'\n",
      "             '   • Easily calls into C/C++ libraries for performance.  \\n'\n",
      "             '   • Interoperates with other languages (Java via Jython, .NET '\n",
      "             'via IronPython).  \\n'\n",
      "             '\\n'\n",
      "             '8. Productivity & Maintenance  \\n'\n",
      "             '   • High-level data structures (lists, dicts, sets) speed up '\n",
      "             'development.  \\n'\n",
      "             '   • Dynamic typing and garbage collection reduce '\n",
      "             'boilerplate.  \\n'\n",
      "             '   • Well-documented, readable code—easier to maintain and '\n",
      "             'onboard new team members.  \\n'\n",
      "             '\\n'\n",
      "             'Because of these factors, many organizations—from startups to '\n",
      "             'enterprises—choose Python for prototypes, production systems, '\n",
      "             'research, and education alike. Would you like to see a quick '\n",
      "             'code example or delve into a particular use case?',\n",
      "  'role': 'assistant'},\n",
      " {'content': 'What about Typescript?', 'role': 'user'}]\n"
     ]
    }
   ],
   "source": [
    "pprint(chat_history)"
   ]
  },
  {
   "cell_type": "code",
   "execution_count": 16,
   "id": "6e384604-49a3-4733-8290-e61faf35cef4",
   "metadata": {},
   "outputs": [],
   "source": [
    "completion = client.chat.completions.create(\n",
    "    messages=chat_history,\n",
    "    model=GPT4O_MINI\n",
    ")"
   ]
  },
  {
   "cell_type": "code",
   "execution_count": 18,
   "id": "f69f1f80-e042-4bdc-a442-c9a4b78cb889",
   "metadata": {},
   "outputs": [
    {
     "data": {
      "text/plain": [
       "'TypeScript is a statically typed superset of JavaScript developed by Microsoft. It adds optional type annotations and modern language features on top of plain JS—and then compiles (“transpiles”) back to browser- or Node-compatible JavaScript.  \\n\\nKey Reasons to Use TypeScript  \\n\\n1. Static Typing & Early Error Detection  \\n • Optional type annotations (string, number, interfaces, enums, generics)  \\n • Catches mismatches and common mistakes at compile time rather than in production  \\n\\n2. Improved Tooling & IDE Support  \\n • Rich autocompletion, jump-to-definition, refactoring and inline documentation in editors like VS Code  \\n • Better code navigation in large codebases  \\n\\n3. Modern Language Features  \\n • Class-based OOP, modules/namespaces, decorators, async/await, tuple types, union/intersection types  \\n • Back-ported features so you can use ESNext syntax even on older JS runtimes  \\n\\n4. Scalability & Maintainability  \\n • Clear contracts via interfaces and type definitions  \\n • Easier onboarding: types document expected shapes of data and function signatures  \\n • Refactoring confidence—renames or API changes get flagged wherever they break types  \\n\\n5. Interoperability with JavaScript  \\n • You can adopt it gradually: rename .js files to .ts/.tsx and add annotations incrementally  \\n • Seamless use of existing JS libraries (via DefinitelyTyped type definitions)  \\n\\n6. Strong Ecosystem & Community  \\n • Supported by major frameworks (Angular, NestJS) and libraries (React, Vue)  \\n • A vast collection of @types packages on npm for popular libraries  \\n\\n7. Configuration Flexibility  \\n • tsconfig.json lets you target different ECMAScript versions, enable strictness checks (noImplicitAny, strictNullChecks) and control module resolution  \\n\\n8. Better Collaboration  \\n • Types serve as living documentation—team members immediately know how functions should be used  \\n • Reduces back-and-forth code reviews for simple type errors  \\n\\nPotential Trade-Offs  \\n • Requires an extra build/transpile step before running your code  \\n • A learning curve if you’re not used to static typing  \\n • Sometimes types can be verbose, especially with advanced generics  \\n\\nIn many teams, TypeScript strikes a balance between the flexibility of JavaScript and the safety of a strongly typed language—making it a popular choice for both green-field apps and large, long-lived codebases.  \\n\\nWould you like to see a short example comparing plain JavaScript and TypeScript?'"
      ]
     },
     "execution_count": 18,
     "metadata": {},
     "output_type": "execute_result"
    }
   ],
   "source": [
    "completion.choices[0].message.content"
   ]
  },
  {
   "cell_type": "code",
   "execution_count": null,
   "id": "165b510a-491c-4f34-9f5f-2fea984ffd3a",
   "metadata": {},
   "outputs": [],
   "source": []
  }
 ],
 "metadata": {
  "kernelspec": {
   "display_name": "rag-course",
   "language": "python",
   "name": "rag-course"
  },
  "language_info": {
   "codemirror_mode": {
    "name": "ipython",
    "version": 3
   },
   "file_extension": ".py",
   "mimetype": "text/x-python",
   "name": "python",
   "nbconvert_exporter": "python",
   "pygments_lexer": "ipython3",
   "version": "3.12.11"
  }
 },
 "nbformat": 4,
 "nbformat_minor": 5
}
