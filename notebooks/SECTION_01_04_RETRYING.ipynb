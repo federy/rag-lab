{
 "cells": [
  {
   "cell_type": "code",
   "execution_count": 1,
   "id": "a347a5dc-2ab5-4346-a82a-b9c9619ee993",
   "metadata": {},
   "outputs": [],
   "source": [
    "from openai import RateLimitError, APITimeoutError\n",
    "from openai import AsyncOpenAI\n",
    "from dotenv import load_dotenv\n",
    "\n",
    "load_dotenv()\n",
    "model = \"o4-mini-2025-04-16\"\n",
    "client = AsyncOpenAI()"
   ]
  },
  {
   "cell_type": "code",
   "execution_count": null,
   "id": "55e3d755-b710-4692-8f5f-2502493494c9",
   "metadata": {},
   "outputs": [],
   "source": [
    "# WE WANT TO HAVE A RETRY ON THIS FUNCTION CALL\n",
    "# function call\n",
    "await client.chat.completions.create(\n",
    "    model=model,\n",
    "    messages=[dict(role=\"user\", content=\"What is Python programming?\")]\n",
    ")"
   ]
  },
  {
   "cell_type": "code",
   "execution_count": 2,
   "id": "b1e74127-a135-45ad-9d1d-7c5ff2d94cd5",
   "metadata": {},
   "outputs": [],
   "source": [
    "import backoff"
   ]
  },
  {
   "cell_type": "code",
   "execution_count": 3,
   "id": "98b99f36-83f1-4c1d-beac-df49e41c29ad",
   "metadata": {},
   "outputs": [],
   "source": [
    "from functools import wraps"
   ]
  },
  {
   "cell_type": "code",
   "execution_count": 4,
   "id": "5e9730cd-ed05-4356-bbe7-e86ba9df4472",
   "metadata": {},
   "outputs": [],
   "source": [
    "@wraps(client.chat.completions.create)\n",
    "@backoff.on_exception(\n",
    "    backoff.expo,\n",
    "    (RateLimitError, APITimeoutError)\n",
    ")\n",
    "async def do_call(\n",
    "    *,\n",
    "    model,\n",
    "    messages,\n",
    "    **kwargs\n",
    "):\n",
    "    await client.chat.completions.create(\n",
    "        model=model,\n",
    "        messages=messages,\n",
    "        **kwargs\n",
    "    )\n"
   ]
  },
  {
   "cell_type": "code",
   "execution_count": 5,
   "id": "bf869352-479c-4235-8721-cfa420089638",
   "metadata": {},
   "outputs": [
    {
     "data": {
      "text/plain": [
       "\u001b[31mSignature:\u001b[39m\n",
       "do_call(\n",
       "    *,\n",
       "    messages: \u001b[33m'Iterable[ChatCompletionMessageParam]'\u001b[39m,\n",
       "    model: \u001b[33m'Union[str, ChatModel]'\u001b[39m,\n",
       "    audio: \u001b[33m'Optional[ChatCompletionAudioParam] | NotGiven'\u001b[39m = NOT_GIVEN,\n",
       "    frequency_penalty: \u001b[33m'Optional[float] | NotGiven'\u001b[39m = NOT_GIVEN,\n",
       "    function_call: \u001b[33m'completion_create_params.FunctionCall | NotGiven'\u001b[39m = NOT_GIVEN,\n",
       "    functions: \u001b[33m'Iterable[completion_create_params.Function] | NotGiven'\u001b[39m = NOT_GIVEN,\n",
       "    logit_bias: \u001b[33m'Optional[Dict[str, int]] | NotGiven'\u001b[39m = NOT_GIVEN,\n",
       "    logprobs: \u001b[33m'Optional[bool] | NotGiven'\u001b[39m = NOT_GIVEN,\n",
       "    max_completion_tokens: \u001b[33m'Optional[int] | NotGiven'\u001b[39m = NOT_GIVEN,\n",
       "    max_tokens: \u001b[33m'Optional[int] | NotGiven'\u001b[39m = NOT_GIVEN,\n",
       "    metadata: \u001b[33m'Optional[Metadata] | NotGiven'\u001b[39m = NOT_GIVEN,\n",
       "    modalities: \u001b[33m\"Optional[List[Literal['text', 'audio']]] | NotGiven\"\u001b[39m = NOT_GIVEN,\n",
       "    n: \u001b[33m'Optional[int] | NotGiven'\u001b[39m = NOT_GIVEN,\n",
       "    parallel_tool_calls: \u001b[33m'bool | NotGiven'\u001b[39m = NOT_GIVEN,\n",
       "    prediction: \u001b[33m'Optional[ChatCompletionPredictionContentParam] | NotGiven'\u001b[39m = NOT_GIVEN,\n",
       "    presence_penalty: \u001b[33m'Optional[float] | NotGiven'\u001b[39m = NOT_GIVEN,\n",
       "    prompt_cache_key: \u001b[33m'str | NotGiven'\u001b[39m = NOT_GIVEN,\n",
       "    reasoning_effort: \u001b[33m'Optional[ReasoningEffort] | NotGiven'\u001b[39m = NOT_GIVEN,\n",
       "    response_format: \u001b[33m'completion_create_params.ResponseFormat | NotGiven'\u001b[39m = NOT_GIVEN,\n",
       "    safety_identifier: \u001b[33m'str | NotGiven'\u001b[39m = NOT_GIVEN,\n",
       "    seed: \u001b[33m'Optional[int] | NotGiven'\u001b[39m = NOT_GIVEN,\n",
       "    service_tier: \u001b[33m\"Optional[Literal['auto', 'default', 'flex', 'scale', 'priority']] | NotGiven\"\u001b[39m = NOT_GIVEN,\n",
       "    stop: \u001b[33m'Union[Optional[str], List[str], None] | NotGiven'\u001b[39m = NOT_GIVEN,\n",
       "    store: \u001b[33m'Optional[bool] | NotGiven'\u001b[39m = NOT_GIVEN,\n",
       "    stream: \u001b[33m'Optional[Literal[False]] | Literal[True] | NotGiven'\u001b[39m = NOT_GIVEN,\n",
       "    stream_options: \u001b[33m'Optional[ChatCompletionStreamOptionsParam] | NotGiven'\u001b[39m = NOT_GIVEN,\n",
       "    temperature: \u001b[33m'Optional[float] | NotGiven'\u001b[39m = NOT_GIVEN,\n",
       "    tool_choice: \u001b[33m'ChatCompletionToolChoiceOptionParam | NotGiven'\u001b[39m = NOT_GIVEN,\n",
       "    tools: \u001b[33m'Iterable[ChatCompletionToolParam] | NotGiven'\u001b[39m = NOT_GIVEN,\n",
       "    top_logprobs: \u001b[33m'Optional[int] | NotGiven'\u001b[39m = NOT_GIVEN,\n",
       "    top_p: \u001b[33m'Optional[float] | NotGiven'\u001b[39m = NOT_GIVEN,\n",
       "    user: \u001b[33m'str | NotGiven'\u001b[39m = NOT_GIVEN,\n",
       "    web_search_options: \u001b[33m'completion_create_params.WebSearchOptions | NotGiven'\u001b[39m = NOT_GIVEN,\n",
       "    extra_headers: \u001b[33m'Headers | None'\u001b[39m = \u001b[38;5;28;01mNone\u001b[39;00m,\n",
       "    extra_query: \u001b[33m'Query | None'\u001b[39m = \u001b[38;5;28;01mNone\u001b[39;00m,\n",
       "    extra_body: \u001b[33m'Body | None'\u001b[39m = \u001b[38;5;28;01mNone\u001b[39;00m,\n",
       "    timeout: \u001b[33m'float | httpx.Timeout | None | NotGiven'\u001b[39m = NOT_GIVEN,\n",
       ") -> \u001b[33m'ChatCompletion | AsyncStream[ChatCompletionChunk]'\u001b[39m\n",
       "\u001b[31mDocstring:\u001b[39m <no docstring>\n",
       "\u001b[31mFile:\u001b[39m      ~/LIVE/course/.venv/lib64/python3.12/site-packages/openai/resources/chat/completions/completions.py\n",
       "\u001b[31mType:\u001b[39m      function"
      ]
     },
     "metadata": {},
     "output_type": "display_data"
    }
   ],
   "source": [
    "do_call?"
   ]
  },
  {
   "cell_type": "markdown",
   "id": "7ae7e5fe-5b9b-49d7-9c97-831eb0d8313a",
   "metadata": {},
   "source": [
    "def my_decorator(func):\n",
    "    def new_func():\n",
    "        func()\n",
    "    return new_func"
   ]
  },
  {
   "cell_type": "markdown",
   "id": "12dd8a34-76ac-4cba-96aa-8185c2f6a6fa",
   "metadata": {},
   "source": [
    "# What does a decorator do?"
   ]
  },
  {
   "cell_type": "code",
   "execution_count": 14,
   "id": "0e373c54-2115-4d2a-8461-5386c4071511",
   "metadata": {},
   "outputs": [],
   "source": [
    "def my_decorator(func):\n",
    "    def new_func():\n",
    "        print(\"DECORATED\")\n",
    "        func()\n",
    "    return new_func"
   ]
  },
  {
   "cell_type": "code",
   "execution_count": 19,
   "id": "b3d6e6d4-d9e5-41af-9d4e-5219b7caa8f3",
   "metadata": {},
   "outputs": [],
   "source": [
    "def hello_world():\n",
    "    print(\"Hello world!\")"
   ]
  },
  {
   "cell_type": "code",
   "execution_count": 20,
   "id": "a2c3644a-19bc-4b50-8f21-19d1a8ded678",
   "metadata": {},
   "outputs": [
    {
     "name": "stdout",
     "output_type": "stream",
     "text": [
      "Hello world!\n"
     ]
    }
   ],
   "source": [
    "hello_world()"
   ]
  },
  {
   "cell_type": "code",
   "execution_count": 24,
   "id": "2e3cec74-d794-47fb-a652-e29034b793b5",
   "metadata": {},
   "outputs": [
    {
     "name": "stdout",
     "output_type": "stream",
     "text": [
      "DECORATED\n",
      "Hello world!\n"
     ]
    }
   ],
   "source": [
    "hello_world = my_decorator(hello_world)\n",
    "hello_world()"
   ]
  },
  {
   "cell_type": "code",
   "execution_count": 25,
   "id": "ebaedd20-4369-4602-a579-d7de900d2237",
   "metadata": {},
   "outputs": [],
   "source": [
    "# This is a shortcut for the last line of code\n",
    "@my_decorator\n",
    "def hello_world():\n",
    "    print(\"Hello world!\")"
   ]
  },
  {
   "cell_type": "code",
   "execution_count": 26,
   "id": "87a8da67-b0cb-4766-a35e-b799bc2aef73",
   "metadata": {},
   "outputs": [
    {
     "name": "stdout",
     "output_type": "stream",
     "text": [
      "DECORATED\n",
      "Hello world!\n"
     ]
    }
   ],
   "source": [
    "hello_world()"
   ]
  },
  {
   "cell_type": "code",
   "execution_count": null,
   "id": "483cc9da-ee15-439c-9e42-f68376497797",
   "metadata": {},
   "outputs": [],
   "source": []
  }
 ],
 "metadata": {
  "kernelspec": {
   "display_name": "rag-course",
   "language": "python",
   "name": "rag-course"
  },
  "language_info": {
   "codemirror_mode": {
    "name": "ipython",
    "version": 3
   },
   "file_extension": ".py",
   "mimetype": "text/x-python",
   "name": "python",
   "nbconvert_exporter": "python",
   "pygments_lexer": "ipython3",
   "version": "3.12.11"
  }
 },
 "nbformat": 4,
 "nbformat_minor": 5
}
