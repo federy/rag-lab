{
 "cells": [
  {
   "cell_type": "markdown",
   "id": "892105ce-f8b6-4cd5-80c8-0abca5987b05",
   "metadata": {},
   "source": [
    "# Load API Keys"
   ]
  },
  {
   "cell_type": "code",
   "execution_count": 1,
   "id": "82b38784-25e1-46d8-8d18-26181922d170",
   "metadata": {},
   "outputs": [
    {
     "data": {
      "text/plain": [
       "True"
      ]
     },
     "execution_count": 1,
     "metadata": {},
     "output_type": "execute_result"
    }
   ],
   "source": [
    "from dotenv import load_dotenv\n",
    "\n",
    "load_dotenv()"
   ]
  },
  {
   "cell_type": "markdown",
   "id": "5b1b8d13-009e-4589-a593-215b90675e31",
   "metadata": {},
   "source": [
    "# Tracing"
   ]
  },
  {
   "cell_type": "code",
   "execution_count": 2,
   "id": "4e223b2f-4045-446a-8393-f678211a26a1",
   "metadata": {},
   "outputs": [],
   "source": [
    "from langfuse.openai import AsyncOpenAI  # autoinstrmenttion"
   ]
  },
  {
   "cell_type": "markdown",
   "id": "abdbf19d-9643-464a-9645-893865380296",
   "metadata": {},
   "source": [
    "# Setup LLM Call Helpers"
   ]
  },
  {
   "cell_type": "code",
   "execution_count": 3,
   "id": "4cff8e79-588c-4586-90ea-fa556824be06",
   "metadata": {},
   "outputs": [],
   "source": [
    "client = AsyncOpenAI()"
   ]
  },
  {
   "cell_type": "code",
   "execution_count": 4,
   "id": "f622e028-248d-411c-be07-ceb07cbb983d",
   "metadata": {},
   "outputs": [],
   "source": [
    "GPT4O_MINI = \"gpt-4o-mini-2024-07-18\""
   ]
  },
  {
   "cell_type": "code",
   "execution_count": 5,
   "id": "ac4177a2-f8d6-4507-b8d0-0a48f1384013",
   "metadata": {},
   "outputs": [],
   "source": [
    "def _msg(role, content):\n",
    "    return {'role': role, 'content': content}\n",
    "\n",
    "def system(content):\n",
    "    return _msg('system', content)\n",
    "\n",
    "def user(content):\n",
    "    return _msg('user', content)\n",
    "\n",
    "def assistant(content):\n",
    "    return _msg('assistant', content)"
   ]
  },
  {
   "cell_type": "markdown",
   "id": "8faf523b-5001-456a-972a-537e9b85bfbd",
   "metadata": {},
   "source": [
    "# Cache System "
   ]
  },
  {
   "cell_type": "code",
   "execution_count": 6,
   "id": "e974b152-059a-4927-af65-ca3e4fad9864",
   "metadata": {},
   "outputs": [],
   "source": [
    "from diskcache import Cache"
   ]
  },
  {
   "cell_type": "code",
   "execution_count": 7,
   "id": "12234460-2cf8-44ae-b47e-299340c3e711",
   "metadata": {},
   "outputs": [],
   "source": [
    "cache = Cache(directory=\".cache_course\")"
   ]
  },
  {
   "cell_type": "code",
   "execution_count": 8,
   "id": "a964f6a8-f2fb-4990-892e-f754d0aee253",
   "metadata": {},
   "outputs": [],
   "source": [
    "import asyncio"
   ]
  },
  {
   "cell_type": "code",
   "execution_count": 9,
   "id": "cce28600-6e67-4857-a970-6dca9ee307bd",
   "metadata": {},
   "outputs": [],
   "source": [
    "async def set_async(key, val, **kwargs):\n",
    "    return await asyncio.to_thread(cache.set, key, val, **kwargs)\n",
    "\n",
    "async def get_async(key, default=None, **kwargs):\n",
    "    return await asyncio.to_thread(cache.get, key, default, **kwargs)"
   ]
  },
  {
   "cell_type": "markdown",
   "id": "2d45d042-aa12-41f8-9415-1b5b98c30a85",
   "metadata": {},
   "source": [
    "# Implementing Cached, Retried and Traced Structured Ouputs completion"
   ]
  },
  {
   "cell_type": "code",
   "execution_count": 10,
   "id": "e834cfcf-56b1-4519-8abf-b7f316b99294",
   "metadata": {},
   "outputs": [],
   "source": [
    "import json\n",
    "from hashlib import md5\n",
    "\n",
    "def make_cache_key(key_name, **kwargs):\n",
    "    kwargs_string = json.dumps(kwargs, sort_keys=True)\n",
    "    kwargs_hash = md5(kwargs_string.encode('utf-8')).hexdigest()\n",
    "    cache_key = f\"{key_name}__{kwargs_hash}\"\n",
    "    return cache_key"
   ]
  },
  {
   "cell_type": "code",
   "execution_count": 11,
   "id": "95eec4f7-c72a-4adc-8226-b769d6742db7",
   "metadata": {},
   "outputs": [],
   "source": [
    "from pydantic import BaseModel\n",
    "\n",
    "def _make_key_for_cached_chat_completion_parsed_with_retry(\n",
    "    *,\n",
    "    model,\n",
    "    messages,\n",
    "    response_format: BaseModel,\n",
    "    **kwargs,\n",
    "):\n",
    "    return make_cache_key(\n",
    "        \"openai_parsed_chat\",\n",
    "        model=model,\n",
    "        messages=messages,\n",
    "        response_format=response_format.model_json_schema(),\n",
    "        **kwargs\n",
    "    )"
   ]
  },
  {
   "cell_type": "code",
   "execution_count": 12,
   "id": "75621a9d-a4ba-46f8-ba63-cf544a12fbbd",
   "metadata": {},
   "outputs": [],
   "source": [
    "from openai.types.chat import ParsedChatCompletion\n",
    "from functools import wraps\n",
    "from openai import APITimeoutError, RateLimitError\n",
    "from typing_extensions import TypeVar\n",
    "import backoff\n",
    "\n",
    "ResponseFormatT = TypeVar(\"ResponseFormatT\", bound=BaseModel)\n",
    "\n",
    "CACHE_MISS_SENTINEL = object()\n",
    "\n",
    "\n",
    "@wraps(client.chat.completions.parse)\n",
    "async def cached_chat_completion_parsed_with_retry(\n",
    "    *,\n",
    "    model,\n",
    "    messages,\n",
    "    response_format: ResponseFormatT,\n",
    "    **kwargs,\n",
    ") -> ParsedChatCompletion[ResponseFormatT]:\n",
    "    # CREATE CACHE KEY\n",
    "    cache_key = _make_key_for_cached_chat_completion_parsed_with_retry(\n",
    "        model=model,\n",
    "        messages=messages,\n",
    "        response_format=response_format,\n",
    "        **kwargs\n",
    "    )\n",
    "\n",
    "    cached_value = await get_async(cache_key, default=CACHE_MISS_SENTINEL)\n",
    "    # CACHE MISS\n",
    "    if cached_value is CACHE_MISS_SENTINEL:\n",
    "        @backoff.on_exception(\n",
    "            backoff.expo,\n",
    "            (APITimeoutError, RateLimitError)\n",
    "        )\n",
    "        async def do_call():\n",
    "            return await client.chat.completions.parse(\n",
    "                model=model,\n",
    "                messages=messages,\n",
    "                response_format=response_format,\n",
    "                **kwargs\n",
    "            )\n",
    "        completion = await do_call()\n",
    "        await set_async(cache_key, completion.model_dump_json())\n",
    "        return completion\n",
    "    # CACHE HIT\n",
    "    else:\n",
    "        # TODO: Tracing Code (next section)\n",
    "        # return \n",
    "        completion = ParsedChatCompletion.model_validate(json.loads(cached_value))\n",
    "        for choice in completion.choices:\n",
    "            if not choice.message.refusal:\n",
    "                choice.message.parsed = response_format.model_validate(\n",
    "                    choice.message.parsed\n",
    "                )\n",
    "        return completion\n",
    "        \n",
    "        "
   ]
  },
  {
   "cell_type": "markdown",
   "id": "f4773a04-c0fe-4e74-a78f-650fc5db47cf",
   "metadata": {},
   "source": [
    "# DATA_GENERATION"
   ]
  },
  {
   "cell_type": "markdown",
   "id": "b159b743-aa5e-4af0-a01b-1a2e298af72b",
   "metadata": {},
   "source": [
    "## Load the dataset"
   ]
  },
  {
   "cell_type": "code",
   "execution_count": 13,
   "id": "4e03c27b-13bd-43c0-a796-1bae70948b6b",
   "metadata": {},
   "outputs": [],
   "source": [
    "import pandas as pd"
   ]
  },
  {
   "cell_type": "code",
   "execution_count": 14,
   "id": "d3eb8259-5546-4946-8f97-db9b10d9d666",
   "metadata": {},
   "outputs": [],
   "source": [
    "emails = pd.read_csv('paul_allen_sent_emails.csv')"
   ]
  },
  {
   "cell_type": "code",
   "execution_count": 15,
   "id": "0c8d3a34-f784-496c-a7bb-19c860a18403",
   "metadata": {},
   "outputs": [
    {
     "data": {
      "text/html": [
       "<div>\n",
       "<style scoped>\n",
       "    .dataframe tbody tr th:only-of-type {\n",
       "        vertical-align: middle;\n",
       "    }\n",
       "\n",
       "    .dataframe tbody tr th {\n",
       "        vertical-align: top;\n",
       "    }\n",
       "\n",
       "    .dataframe thead th {\n",
       "        text-align: right;\n",
       "    }\n",
       "</style>\n",
       "<table border=\"1\" class=\"dataframe\">\n",
       "  <thead>\n",
       "    <tr style=\"text-align: right;\">\n",
       "      <th></th>\n",
       "      <th>content</th>\n",
       "      <th>Message-ID</th>\n",
       "      <th>Date</th>\n",
       "      <th>Correspondants</th>\n",
       "    </tr>\n",
       "  </thead>\n",
       "  <tbody>\n",
       "    <tr>\n",
       "      <th>0</th>\n",
       "      <td>jeff, i want to bid $2.8 for sagewood with a r...</td>\n",
       "      <td>&lt;13537630.1075855669909.JavaMail.evans@thyme</td>\n",
       "      <td>Mon, 31 Dec 1979 16:00:00 -0800 (PST</td>\n",
       "      <td>Jeff Smith</td>\n",
       "    </tr>\n",
       "    <tr>\n",
       "      <th>1</th>\n",
       "      <td>attached is the systems wish list for the gas ...</td>\n",
       "      <td>&lt;27903020.1075855669931.JavaMail.evans@thyme</td>\n",
       "      <td>Mon, 31 Dec 1979 16:00:00 -0800 (PST</td>\n",
       "      <td>John J Lavorato, Beth Perlman, Hunter S Shivel...</td>\n",
       "    </tr>\n",
       "    <tr>\n",
       "      <th>2</th>\n",
       "      <td>how is your racing going? what category are yo...</td>\n",
       "      <td>&lt;12929996.1075855668941.JavaMail.evans@thyme</td>\n",
       "      <td>Mon, 31 Dec 1979 16:00:00 -0800 (PST</td>\n",
       "      <td>muller@thedoghousemail.co</td>\n",
       "    </tr>\n",
       "  </tbody>\n",
       "</table>\n",
       "</div>"
      ],
      "text/plain": [
       "                                             content  \\\n",
       "0  jeff, i want to bid $2.8 for sagewood with a r...   \n",
       "1  attached is the systems wish list for the gas ...   \n",
       "2  how is your racing going? what category are yo...   \n",
       "\n",
       "                                     Message-ID  \\\n",
       "0  <13537630.1075855669909.JavaMail.evans@thyme   \n",
       "1  <27903020.1075855669931.JavaMail.evans@thyme   \n",
       "2  <12929996.1075855668941.JavaMail.evans@thyme   \n",
       "\n",
       "                                   Date  \\\n",
       "0  Mon, 31 Dec 1979 16:00:00 -0800 (PST   \n",
       "1  Mon, 31 Dec 1979 16:00:00 -0800 (PST   \n",
       "2  Mon, 31 Dec 1979 16:00:00 -0800 (PST   \n",
       "\n",
       "                                      Correspondants  \n",
       "0                                         Jeff Smith  \n",
       "1  John J Lavorato, Beth Perlman, Hunter S Shivel...  \n",
       "2                          muller@thedoghousemail.co  "
      ]
     },
     "execution_count": 15,
     "metadata": {},
     "output_type": "execute_result"
    }
   ],
   "source": [
    "emails.head(n=3)"
   ]
  },
  {
   "cell_type": "code",
   "execution_count": 16,
   "id": "68308293-fa0f-4526-a612-dc831d31e129",
   "metadata": {},
   "outputs": [
    {
     "name": "stdout",
     "output_type": "stream",
     "text": [
      "396 lines x 396 rows\n"
     ]
    }
   ],
   "source": [
    "print(f\"{emails.shape[0]} lines x {emails.shape[0]} rows\")"
   ]
  },
  {
   "cell_type": "markdown",
   "id": "35cd4d13-da53-45ec-af9c-6bd75b86a700",
   "metadata": {},
   "source": [
    "## Prompt Engineering"
   ]
  },
  {
   "cell_type": "code",
   "execution_count": 45,
   "id": "b40e6e57-b81a-4e2b-b9d4-fc95c2bf11e2",
   "metadata": {},
   "outputs": [],
   "source": [
    "from jinja2 import Template # To take better into account the spcecial characters that print(f\"{user_name} {prompt}\\n\\nThis is a test for dedent...\")\n",
    "from textwrap import dedent # To remove all the characters that we don't want"
   ]
  },
  {
   "cell_type": "markdown",
   "id": "71917842-fb82-4435-aea1-c3a6b97378a7",
   "metadata": {},
   "source": [
    "## Test jinja2 and textwrap.dedent"
   ]
  },
  {
   "cell_type": "code",
   "execution_count": 46,
   "id": "d8e22e75-e121-4101-98ac-54720f6fb82f",
   "metadata": {},
   "outputs": [],
   "source": [
    "# Without dedent\n",
    "prompt_template = Template(\n",
    "    \"\"\"\\\n",
    "    {{ user_name }} {{ prompt }}\n",
    "\n",
    "    This is a test for dedent.\n",
    "\n",
    "    I want to check.\n",
    "    \"\"\"\n",
    ")"
   ]
  },
  {
   "cell_type": "code",
   "execution_count": 47,
   "id": "5c7c409d-5681-4fd1-8c18-1cf55e4db131",
   "metadata": {},
   "outputs": [
    {
     "name": "stdout",
     "output_type": "stream",
     "text": [
      "    Paul Allen Generate questions from emails\n",
      "\n",
      "    This is a test for dedent.\n",
      "\n",
      "    I want to check.\n",
      "    \n"
     ]
    }
   ],
   "source": [
    "print(prompt_template.render(user_name=\"Paul Allen\", prompt=\"Generate questions from emails\"))"
   ]
  },
  {
   "cell_type": "code",
   "execution_count": 48,
   "id": "a3f50d40-7056-458e-8833-4f402c412173",
   "metadata": {},
   "outputs": [],
   "source": [
    "prompt_template = Template(\n",
    "    dedent(\n",
    "        \"\"\"\\\n",
    "        {{ user_name }} {{ prompt }}\n",
    "\n",
    "        This is a test for dedent.\n",
    "\n",
    "        I want to check.\n",
    "        \"\"\"\n",
    "    )\n",
    ")"
   ]
  },
  {
   "cell_type": "code",
   "execution_count": 49,
   "id": "8b44f2f8-a861-4ba8-abc7-84c5eb0b1b59",
   "metadata": {},
   "outputs": [
    {
     "name": "stdout",
     "output_type": "stream",
     "text": [
      "Paul Allen Generate questions from emails\n",
      "\n",
      "This is a test for dedent.\n",
      "\n",
      "I want to check.\n"
     ]
    }
   ],
   "source": [
    "print(prompt_template.render(user_name=\"Paul Allen\", prompt=\"Generate questions from emails\"))"
   ]
  },
  {
   "cell_type": "markdown",
   "id": "84e85f53-d949-46ae-a6d6-42e673ce6b80",
   "metadata": {},
   "source": [
    "## Apply the prompt to real data"
   ]
  },
  {
   "cell_type": "code",
   "execution_count": 50,
   "id": "219df654-7488-4bd1-9ed4-4e769373c38e",
   "metadata": {},
   "outputs": [],
   "source": [
    "from pydantic import BaseModel\n",
    "\n",
    "class GeneratedQuestions(BaseModel):\n",
    "    useless_to_recall: bool\n",
    "    questions: list[str]"
   ]
  },
  {
   "cell_type": "code",
   "execution_count": 51,
   "id": "bd911445-484f-4c82-950b-a00d8ad76821",
   "metadata": {},
   "outputs": [],
   "source": [
    "prompt_template = Template(\n",
    "    dedent(\n",
    "        \"\"\"\\\n",
    "        You are Paul Allen, also known as Phillip Allen, and you sent this email.\n",
    "        \n",
    "        <email_content>\n",
    "        {{ email_content }}\n",
    "        </email_content>\n",
    "        \n",
    "        You will read one email and decide if generating retrieval questions is useful.\n",
    "        If it is useful, generate high-signal, content-bearing questions that are directly\n",
    "        answerable from the email text itself (no outside knowledge).\n",
    "        \n",
    "        \n",
    "        DECISION FIRST (think silently, then output JSON only)\n",
    "        Classify the email using this rubric:\n",
    "        \n",
    "        MARK AS USELESS (set \"useless_to_recall\": true) **IF ANY** of these are true:\n",
    "        - ATTACHMENT-ONLY/EXTERNAL-ONLY: The body only references external material\n",
    "          (e.g., \"attached...\", \"see link...\") **without** summarizing key contents.\n",
    "        - CHITCHAT/PHATIC: Greetings or personal small talk without concrete facts\n",
    "          (e.g., “How’s your training going?”, “Hope you’re well.”).\n",
    "        - ADMIN/BOILERPLATE: Autoresponder, unsubscribe, disclaimers, or purely\n",
    "          mechanical notices with no content-bearing facts.\n",
    "        - EMPTY/NEAR-EMPTY: Too short or vague to form answerable questions; no specific\n",
    "          entities, numbers, dates, terms, or commitments.\n",
    "        - NON-ANSWERABLE PROMPTS: The text is only requests to the recipient about their\n",
    "          status/opinion (not facts stated in the email itself).\n",
    "        \n",
    "        MARK AS USEFUL (set \"useless_to_recall\": false) only if the email contains\n",
    "        **content-bearing facts** that can be turned into self-contained questions.\n",
    "        Content-bearing facts include (any of):\n",
    "        - Named entities (projects/places/organizations/products)\n",
    "        - Specific quantities (numbers, currencies, percentages, counts)\n",
    "        - Dates/durations/terms (e.g., 30-year term, due Friday, Q3)\n",
    "        - Explicit actions/commitments/constraints (propose, approve, ship, capped at…)\n",
    "        - Conditions that bind facts (e.g., “contingent on X”, “dependent on Y”)\n",
    "        \n",
    "        MINIMUM SIGNAL RULE\n",
    "        - If the email does **not** contain at least one concrete, answerable fact span,\n",
    "          mark as useless.\n",
    "        \n",
    "        IF USEFUL, GENERATE QUESTIONS\n",
    "        - Questions must be self-contained and directly answerable from the email text.\n",
    "        - Avoid clarifying/meta questions (e.g., “Am I certain…”, “What type of deal is this?”),\n",
    "          and avoid formatting/recipient/greeting topics.\n",
    "        - Keep lexical hooks (proper nouns, exact numerals/units).\n",
    "        \n",
    "        OUTPUT SCHEMA (return JSON only; no extra text)\n",
    "        ```json\n",
    "        {\n",
    "          \"useless_to_recall\": boolean,\n",
    "          \"useless_reason\": \"attachment_only | chitchat | boilerplate | empty | non_answerable | n/a\",\n",
    "          \"questions\": [\"string\", \"...\"]\n",
    "        }\n",
    "        \"\"\"\n",
    "    )\n",
    ")"
   ]
  },
  {
   "cell_type": "markdown",
   "id": "21260ff5-063c-404f-87d4-3e1051b6fbcc",
   "metadata": {},
   "source": [
    "## Iterate on the prompt"
   ]
  },
  {
   "cell_type": "code",
   "execution_count": 52,
   "id": "913041e9-8676-4ac4-99cd-d741df4002dd",
   "metadata": {},
   "outputs": [],
   "source": [
    "email = emails.iloc[0]"
   ]
  },
  {
   "cell_type": "code",
   "execution_count": 53,
   "id": "1f0d0cb8-d8e6-4cd7-9e1c-696a190f03b0",
   "metadata": {},
   "outputs": [
    {
     "data": {
      "text/plain": [
       "'jeff, i want to bid $2.8 for sagewood with a rate 8.5% or less and dependent on 30 year term'"
      ]
     },
     "execution_count": 53,
     "metadata": {},
     "output_type": "execute_result"
    }
   ],
   "source": [
    "email.content"
   ]
  },
  {
   "cell_type": "code",
   "execution_count": 54,
   "id": "e8825566-ee9f-4e21-aefb-3dac4effdef5",
   "metadata": {},
   "outputs": [],
   "source": [
    "prompt = prompt_template.render(\n",
    "    email_content=email.content\n",
    ")"
   ]
  },
  {
   "cell_type": "code",
   "execution_count": 55,
   "id": "8bc1b6d5-271b-45ed-a9a3-3528b558be09",
   "metadata": {
    "scrolled": true
   },
   "outputs": [
    {
     "name": "stdout",
     "output_type": "stream",
     "text": [
      "You are Paul Allen, also known as Phillip Allen, and you sent this email.\n",
      "\n",
      "<email_content>\n",
      "jeff, i want to bid $2.8 for sagewood with a rate 8.5% or less and dependent on 30 year term\n",
      "</email_content>\n",
      "\n",
      "You will read one email and decide if generating retrieval questions is useful.\n",
      "If it is useful, generate high-signal, content-bearing questions that are directly\n",
      "answerable from the email text itself (no outside knowledge).\n",
      "\n",
      "\n",
      "DECISION FIRST (think silently, then output JSON only)\n",
      "Classify the email using this rubric:\n",
      "\n",
      "MARK AS USELESS (set \"useless_to_recall\": true) **IF ANY** of these are true:\n",
      "- ATTACHMENT-ONLY/EXTERNAL-ONLY: The body only references external material\n",
      "  (e.g., \"attached...\", \"see link...\") **without** summarizing key contents.\n",
      "- CHITCHAT/PHATIC: Greetings or personal small talk without concrete facts\n",
      "  (e.g., “How’s your training going?”, “Hope you’re well.”).\n",
      "- ADMIN/BOILERPLATE: Autoresponder, unsubscribe, disclaimers, or purely\n",
      "  mechanical notices with no content-bearing facts.\n",
      "- EMPTY/NEAR-EMPTY: Too short or vague to form answerable questions; no specific\n",
      "  entities, numbers, dates, terms, or commitments.\n",
      "- NON-ANSWERABLE PROMPTS: The text is only requests to the recipient about their\n",
      "  status/opinion (not facts stated in the email itself).\n",
      "\n",
      "MARK AS USEFUL (set \"useless_to_recall\": false) only if the email contains\n",
      "**content-bearing facts** that can be turned into self-contained questions.\n",
      "Content-bearing facts include (any of):\n",
      "- Named entities (projects/places/organizations/products)\n",
      "- Specific quantities (numbers, currencies, percentages, counts)\n",
      "- Dates/durations/terms (e.g., 30-year term, due Friday, Q3)\n",
      "- Explicit actions/commitments/constraints (propose, approve, ship, capped at…)\n",
      "- Conditions that bind facts (e.g., “contingent on X”, “dependent on Y”)\n",
      "\n",
      "MINIMUM SIGNAL RULE\n",
      "- If the email does **not** contain at least one concrete, answerable fact span,\n",
      "  mark as useless.\n",
      "\n",
      "IF USEFUL, GENERATE QUESTIONS\n",
      "- Questions must be self-contained and directly answerable from the email text.\n",
      "- Avoid clarifying/meta questions (e.g., “Am I certain…”, “What type of deal is this?”),\n",
      "  and avoid formatting/recipient/greeting topics.\n",
      "- Keep lexical hooks (proper nouns, exact numerals/units).\n",
      "\n",
      "OUTPUT SCHEMA (return JSON only; no extra text)\n",
      "```json\n",
      "{\n",
      "  \"useless_to_recall\": boolean,\n",
      "  \"useless_reason\": \"attachment_only | chitchat | boilerplate | empty | non_answerable | n/a\",\n",
      "  \"questions\": [\"string\", \"...\"]\n",
      "}\n"
     ]
    }
   ],
   "source": [
    "print(prompt)"
   ]
  },
  {
   "cell_type": "code",
   "execution_count": 56,
   "id": "a928271d-16a0-46c3-95b0-ff701aa8dbb1",
   "metadata": {},
   "outputs": [],
   "source": [
    "MODEL = GPT4O_MINI"
   ]
  },
  {
   "cell_type": "code",
   "execution_count": 57,
   "id": "3ab7ea7d-fd1c-4266-ac6b-008661dc1f34",
   "metadata": {},
   "outputs": [],
   "source": [
    "completion = await cached_chat_completion_parsed_with_retry(\n",
    "    model=MODEL,\n",
    "    messages=[user(prompt)],\n",
    "    response_format=GeneratedQuestions\n",
    ")"
   ]
  },
  {
   "cell_type": "code",
   "execution_count": 58,
   "id": "4f61e7eb-b302-45cc-9b2e-be61009b9d33",
   "metadata": {},
   "outputs": [
    {
     "data": {
      "text/plain": [
       "['What is the bid amount for Sagewood?',\n",
       " 'What interest rate is being proposed for the bid?',\n",
       " 'What is the term length associated with the bid for Sagewood?']"
      ]
     },
     "execution_count": 58,
     "metadata": {},
     "output_type": "execute_result"
    }
   ],
   "source": [
    "completion.choices[0].message.parsed.questions"
   ]
  },
  {
   "cell_type": "markdown",
   "id": "dfc08a92-9802-4b95-a160-a5692e9fbec9",
   "metadata": {},
   "source": [
    "## Bad questions category\n",
    "\n",
    "'Am I certain that the rate should be 8.5% or less?' --> clarifying - not useful to retrieve the email\n",
    "'What type of deal or project is Sagewood related to?' --> clarifying question - does not help to retrieve the email\n",
    "'Did I address the recipient by name in the email?' --> does not relate to the content\n",
    "'What type of deal or project is Sagewood related to?' --> clarifying question. Does not help to retrieve the email"
   ]
  },
  {
   "cell_type": "code",
   "execution_count": 59,
   "id": "d1ca9329-c71f-467d-b2e8-688d07c00fcb",
   "metadata": {},
   "outputs": [],
   "source": [
    "async def try_the_prompt(i):\n",
    "    email = emails.iloc[i]\n",
    "    prompt = prompt_template.render(\n",
    "        email_content=email.content\n",
    "    )\n",
    "    completion = await cached_chat_completion_parsed_with_retry(\n",
    "        model=MODEL,\n",
    "        messages=[user(prompt)],\n",
    "        response_format=GeneratedQuestions\n",
    "    )\n",
    "    return completion.choices[0].message.parsed, email.content"
   ]
  },
  {
   "cell_type": "code",
   "execution_count": 66,
   "id": "10d000d5-6a1c-4cbf-895c-d1cb2a6ba611",
   "metadata": {},
   "outputs": [],
   "source": [
    "r, e = await try_the_prompt(2)"
   ]
  },
  {
   "cell_type": "code",
   "execution_count": 67,
   "id": "0145134b-c5a7-42e2-bfdb-cdf336a0a8e5",
   "metadata": {},
   "outputs": [
    {
     "data": {
      "text/plain": [
       "'how is your racing going? what category are you up to? i'"
      ]
     },
     "execution_count": 67,
     "metadata": {},
     "output_type": "execute_result"
    }
   ],
   "source": [
    "e"
   ]
  },
  {
   "cell_type": "code",
   "execution_count": 68,
   "id": "67cb7c71-39e1-44c5-98a7-7f70b53997fd",
   "metadata": {},
   "outputs": [
    {
     "name": "stdout",
     "output_type": "stream",
     "text": [
      "List of questions: []\n",
      "\n",
      "Useless to recall? True\n"
     ]
    }
   ],
   "source": [
    "print(f\"List of questions: {r.questions}\\n\\nUseless to recall? {r.useless_to_recall}\")"
   ]
  },
  {
   "cell_type": "markdown",
   "id": "76924193-90c1-4014-bb85-0ba38df849a2",
   "metadata": {},
   "source": [
    "### notes on what we don't like in the inputs\n",
    "\n",
    "'attached is the systems wish list for the gas basis and physical trading' -> useless because we don't have access to the attachment\n",
    "'how is your racing going? what category are you up to? i' -> generated ['How is your racing going?', 'What category are you up to in racing?'] : bad questions (it is useless to recall this)"
   ]
  },
  {
   "cell_type": "markdown",
   "id": "12b7342c-a7a0-4ce3-9ea8-9354f55ea709",
   "metadata": {},
   "source": [
    "## Batching Calls\n",
    "\n",
    "The goal is to iterate much faster to identify the useless to recall emails."
   ]
  },
  {
   "cell_type": "code",
   "execution_count": null,
   "id": "2daa32fd-8e0b-4b6b-bb62-1820d1c6e21a",
   "metadata": {},
   "outputs": [],
   "source": []
  }
 ],
 "metadata": {
  "kernelspec": {
   "display_name": "rag-course",
   "language": "python",
   "name": "rag-course"
  },
  "language_info": {
   "codemirror_mode": {
    "name": "ipython",
    "version": 3
   },
   "file_extension": ".py",
   "mimetype": "text/x-python",
   "name": "python",
   "nbconvert_exporter": "python",
   "pygments_lexer": "ipython3",
   "version": "3.12.11"
  }
 },
 "nbformat": 4,
 "nbformat_minor": 5
}
