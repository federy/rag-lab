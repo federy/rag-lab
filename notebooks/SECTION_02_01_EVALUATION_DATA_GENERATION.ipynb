{
 "cells": [
  {
   "cell_type": "markdown",
   "id": "892105ce-f8b6-4cd5-80c8-0abca5987b05",
   "metadata": {},
   "source": [
    "# Load API Keys"
   ]
  },
  {
   "cell_type": "code",
   "execution_count": 1,
   "id": "82b38784-25e1-46d8-8d18-26181922d170",
   "metadata": {},
   "outputs": [
    {
     "data": {
      "text/plain": [
       "True"
      ]
     },
     "execution_count": 1,
     "metadata": {},
     "output_type": "execute_result"
    }
   ],
   "source": [
    "from dotenv import load_dotenv\n",
    "\n",
    "load_dotenv()"
   ]
  },
  {
   "cell_type": "markdown",
   "id": "5b1b8d13-009e-4589-a593-215b90675e31",
   "metadata": {},
   "source": [
    "# Tracing"
   ]
  },
  {
   "cell_type": "code",
   "execution_count": 2,
   "id": "4e223b2f-4045-446a-8393-f678211a26a1",
   "metadata": {},
   "outputs": [],
   "source": [
    "from langfuse.openai import AsyncOpenAI  # autoinstrmenttion"
   ]
  },
  {
   "cell_type": "markdown",
   "id": "abdbf19d-9643-464a-9645-893865380296",
   "metadata": {},
   "source": [
    "# Setup LLM Call Helpers"
   ]
  },
  {
   "cell_type": "code",
   "execution_count": 3,
   "id": "4cff8e79-588c-4586-90ea-fa556824be06",
   "metadata": {},
   "outputs": [],
   "source": [
    "client = AsyncOpenAI()"
   ]
  },
  {
   "cell_type": "code",
   "execution_count": 4,
   "id": "f622e028-248d-411c-be07-ceb07cbb983d",
   "metadata": {},
   "outputs": [],
   "source": [
    "GPT4O_MINI = \"gpt-4o-mini-2024-07-18\""
   ]
  },
  {
   "cell_type": "code",
   "execution_count": 5,
   "id": "ac4177a2-f8d6-4507-b8d0-0a48f1384013",
   "metadata": {},
   "outputs": [],
   "source": [
    "def _msg(role, content):\n",
    "    return {'role': role, 'content': content}\n",
    "\n",
    "def system(content):\n",
    "    return _msg('system', content)\n",
    "\n",
    "def user(content):\n",
    "    return _msg('user', content)\n",
    "\n",
    "def assistant(content):\n",
    "    return _msg('assistant', content)"
   ]
  },
  {
   "cell_type": "markdown",
   "id": "8faf523b-5001-456a-972a-537e9b85bfbd",
   "metadata": {},
   "source": [
    "# Cache System "
   ]
  },
  {
   "cell_type": "code",
   "execution_count": 6,
   "id": "e974b152-059a-4927-af65-ca3e4fad9864",
   "metadata": {},
   "outputs": [],
   "source": [
    "from diskcache import Cache"
   ]
  },
  {
   "cell_type": "code",
   "execution_count": 7,
   "id": "12234460-2cf8-44ae-b47e-299340c3e711",
   "metadata": {},
   "outputs": [],
   "source": [
    "cache = Cache(directory=\".cache_course\")"
   ]
  },
  {
   "cell_type": "code",
   "execution_count": 8,
   "id": "a964f6a8-f2fb-4990-892e-f754d0aee253",
   "metadata": {},
   "outputs": [],
   "source": [
    "import asyncio"
   ]
  },
  {
   "cell_type": "code",
   "execution_count": 9,
   "id": "cce28600-6e67-4857-a970-6dca9ee307bd",
   "metadata": {},
   "outputs": [],
   "source": [
    "async def set_async(key, val, **kwargs):\n",
    "    return await asyncio.to_thread(cache.set, key, val, **kwargs)\n",
    "\n",
    "async def get_async(key, default=None, **kwargs):\n",
    "    return await asyncio.to_thread(cache.get, key, default, **kwargs)"
   ]
  },
  {
   "cell_type": "markdown",
   "id": "2d45d042-aa12-41f8-9415-1b5b98c30a85",
   "metadata": {},
   "source": [
    "# Implementing Cached, Retried and Traced Structured Ouputs completion"
   ]
  },
  {
   "cell_type": "code",
   "execution_count": 10,
   "id": "e834cfcf-56b1-4519-8abf-b7f316b99294",
   "metadata": {},
   "outputs": [],
   "source": [
    "import json\n",
    "from hashlib import md5\n",
    "\n",
    "def make_cache_key(key_name, **kwargs):\n",
    "    kwargs_string = json.dumps(kwargs, sort_keys=True)\n",
    "    kwargs_hash = md5(kwargs_string.encode('utf-8')).hexdigest()\n",
    "    cache_key = f\"{key_name}__{kwargs_hash}\"\n",
    "    return cache_key"
   ]
  },
  {
   "cell_type": "code",
   "execution_count": 11,
   "id": "95eec4f7-c72a-4adc-8226-b769d6742db7",
   "metadata": {},
   "outputs": [],
   "source": [
    "from pydantic import BaseModel\n",
    "\n",
    "def _make_key_for_cached_chat_completion_parsed_with_retry(\n",
    "    *,\n",
    "    model,\n",
    "    messages,\n",
    "    response_format: BaseModel,\n",
    "    **kwargs,\n",
    "):\n",
    "    return make_cache_key(\n",
    "        \"openai_parsed_chat\",\n",
    "        model=model,\n",
    "        messages=messages,\n",
    "        response_format=response_format.model_json_schema(),\n",
    "        **kwargs\n",
    "    )"
   ]
  },
  {
   "cell_type": "code",
   "execution_count": 12,
   "id": "75621a9d-a4ba-46f8-ba63-cf544a12fbbd",
   "metadata": {},
   "outputs": [],
   "source": [
    "from openai.types.chat import ParsedChatCompletion\n",
    "from functools import wraps\n",
    "from openai import APITimeoutError, RateLimitError\n",
    "from typing_extensions import TypeVar\n",
    "import backoff\n",
    "\n",
    "ResponseFormatT = TypeVar(\"ResponseFormatT\", bound=BaseModel)\n",
    "\n",
    "CACHE_MISS_SENTINEL = object()\n",
    "\n",
    "\n",
    "@wraps(client.chat.completions.parse)\n",
    "async def cached_chat_completion_parsed_with_retry(\n",
    "    *,\n",
    "    model,\n",
    "    messages,\n",
    "    response_format: ResponseFormatT,\n",
    "    **kwargs,\n",
    ") -> ParsedChatCompletion[ResponseFormatT]:\n",
    "    # CREATE CACHE KEY\n",
    "    cache_key = _make_key_for_cached_chat_completion_parsed_with_retry(\n",
    "        model=model,\n",
    "        messages=messages,\n",
    "        response_format=response_format,\n",
    "        **kwargs\n",
    "    )\n",
    "\n",
    "    cached_value = await get_async(cache_key, default=CACHE_MISS_SENTINEL)\n",
    "    # CACHE MISS\n",
    "    if cached_value is CACHE_MISS_SENTINEL:\n",
    "        @backoff.on_exception(\n",
    "            backoff.expo,\n",
    "            (APITimeoutError, RateLimitError)\n",
    "        )\n",
    "        async def do_call():\n",
    "            return await client.chat.completions.parse(\n",
    "                model=model,\n",
    "                messages=messages,\n",
    "                response_format=response_format,\n",
    "                **kwargs\n",
    "            )\n",
    "        completion = await do_call()\n",
    "        await set_async(cache_key, completion.model_dump_json())\n",
    "        return completion\n",
    "    # CACHE HIT\n",
    "    else:\n",
    "        # TODO: Tracing Code (next section)\n",
    "        # return \n",
    "        completion = ParsedChatCompletion.model_validate(json.loads(cached_value))\n",
    "        for choice in completion.choices:\n",
    "            if not choice.message.refusal:\n",
    "                choice.message.parsed = response_format.model_validate(\n",
    "                    choice.message.parsed\n",
    "                )\n",
    "        return completion\n",
    "        \n",
    "        "
   ]
  },
  {
   "cell_type": "markdown",
   "id": "f4773a04-c0fe-4e74-a78f-650fc5db47cf",
   "metadata": {},
   "source": [
    "# DATA_GENERATION"
   ]
  },
  {
   "cell_type": "markdown",
   "id": "b159b743-aa5e-4af0-a01b-1a2e298af72b",
   "metadata": {},
   "source": [
    "## Load the dataset"
   ]
  },
  {
   "cell_type": "code",
   "execution_count": 13,
   "id": "4e03c27b-13bd-43c0-a796-1bae70948b6b",
   "metadata": {},
   "outputs": [],
   "source": [
    "import pandas as pd"
   ]
  },
  {
   "cell_type": "code",
   "execution_count": 14,
   "id": "d3eb8259-5546-4946-8f97-db9b10d9d666",
   "metadata": {},
   "outputs": [],
   "source": [
    "emails = pd.read_csv('paul_allen_sent_emails.csv')"
   ]
  },
  {
   "cell_type": "code",
   "execution_count": 15,
   "id": "0c8d3a34-f784-496c-a7bb-19c860a18403",
   "metadata": {},
   "outputs": [
    {
     "data": {
      "text/html": [
       "<div>\n",
       "<style scoped>\n",
       "    .dataframe tbody tr th:only-of-type {\n",
       "        vertical-align: middle;\n",
       "    }\n",
       "\n",
       "    .dataframe tbody tr th {\n",
       "        vertical-align: top;\n",
       "    }\n",
       "\n",
       "    .dataframe thead th {\n",
       "        text-align: right;\n",
       "    }\n",
       "</style>\n",
       "<table border=\"1\" class=\"dataframe\">\n",
       "  <thead>\n",
       "    <tr style=\"text-align: right;\">\n",
       "      <th></th>\n",
       "      <th>content</th>\n",
       "      <th>Message-ID</th>\n",
       "      <th>Date</th>\n",
       "      <th>Correspondants</th>\n",
       "    </tr>\n",
       "  </thead>\n",
       "  <tbody>\n",
       "    <tr>\n",
       "      <th>0</th>\n",
       "      <td>jeff, i want to bid $2.8 for sagewood with a r...</td>\n",
       "      <td>&lt;13537630.1075855669909.JavaMail.evans@thyme</td>\n",
       "      <td>Mon, 31 Dec 1979 16:00:00 -0800 (PST</td>\n",
       "      <td>Jeff Smith</td>\n",
       "    </tr>\n",
       "    <tr>\n",
       "      <th>1</th>\n",
       "      <td>attached is the systems wish list for the gas ...</td>\n",
       "      <td>&lt;27903020.1075855669931.JavaMail.evans@thyme</td>\n",
       "      <td>Mon, 31 Dec 1979 16:00:00 -0800 (PST</td>\n",
       "      <td>John J Lavorato, Beth Perlman, Hunter S Shivel...</td>\n",
       "    </tr>\n",
       "    <tr>\n",
       "      <th>2</th>\n",
       "      <td>how is your racing going? what category are yo...</td>\n",
       "      <td>&lt;12929996.1075855668941.JavaMail.evans@thyme</td>\n",
       "      <td>Mon, 31 Dec 1979 16:00:00 -0800 (PST</td>\n",
       "      <td>muller@thedoghousemail.co</td>\n",
       "    </tr>\n",
       "  </tbody>\n",
       "</table>\n",
       "</div>"
      ],
      "text/plain": [
       "                                             content  \\\n",
       "0  jeff, i want to bid $2.8 for sagewood with a r...   \n",
       "1  attached is the systems wish list for the gas ...   \n",
       "2  how is your racing going? what category are yo...   \n",
       "\n",
       "                                     Message-ID  \\\n",
       "0  <13537630.1075855669909.JavaMail.evans@thyme   \n",
       "1  <27903020.1075855669931.JavaMail.evans@thyme   \n",
       "2  <12929996.1075855668941.JavaMail.evans@thyme   \n",
       "\n",
       "                                   Date  \\\n",
       "0  Mon, 31 Dec 1979 16:00:00 -0800 (PST   \n",
       "1  Mon, 31 Dec 1979 16:00:00 -0800 (PST   \n",
       "2  Mon, 31 Dec 1979 16:00:00 -0800 (PST   \n",
       "\n",
       "                                      Correspondants  \n",
       "0                                         Jeff Smith  \n",
       "1  John J Lavorato, Beth Perlman, Hunter S Shivel...  \n",
       "2                          muller@thedoghousemail.co  "
      ]
     },
     "execution_count": 15,
     "metadata": {},
     "output_type": "execute_result"
    }
   ],
   "source": [
    "emails.head(n=3)"
   ]
  },
  {
   "cell_type": "code",
   "execution_count": 16,
   "id": "68308293-fa0f-4526-a612-dc831d31e129",
   "metadata": {},
   "outputs": [
    {
     "name": "stdout",
     "output_type": "stream",
     "text": [
      "396 lines x 396 rows\n"
     ]
    }
   ],
   "source": [
    "print(f\"{emails.shape[0]} lines x {emails.shape[0]} rows\")"
   ]
  },
  {
   "cell_type": "markdown",
   "id": "35cd4d13-da53-45ec-af9c-6bd75b86a700",
   "metadata": {},
   "source": [
    "## Prompt Engineering"
   ]
  },
  {
   "cell_type": "code",
   "execution_count": 17,
   "id": "b40e6e57-b81a-4e2b-b9d4-fc95c2bf11e2",
   "metadata": {},
   "outputs": [],
   "source": [
    "from jinja2 import Template # To take better into account the spcecial characters that print(f\"{user_name} {prompt}\\n\\nThis is a test for dedent...\")\n",
    "from textwrap import dedent # To remove all the characters that we don't want"
   ]
  },
  {
   "cell_type": "markdown",
   "id": "71917842-fb82-4435-aea1-c3a6b97378a7",
   "metadata": {},
   "source": [
    "## Test jinja2 and textwrap.dedent"
   ]
  },
  {
   "cell_type": "code",
   "execution_count": 18,
   "id": "d8e22e75-e121-4101-98ac-54720f6fb82f",
   "metadata": {},
   "outputs": [],
   "source": [
    "# Without dedent\n",
    "prompt_template = Template(\n",
    "    \"\"\"\\\n",
    "    {{ user_name }} {{ prompt }}\n",
    "\n",
    "    This is a test for dedent.\n",
    "\n",
    "    I want to check.\n",
    "    \"\"\"\n",
    ")"
   ]
  },
  {
   "cell_type": "code",
   "execution_count": 19,
   "id": "5c7c409d-5681-4fd1-8c18-1cf55e4db131",
   "metadata": {},
   "outputs": [
    {
     "name": "stdout",
     "output_type": "stream",
     "text": [
      "    Paul Allen Generate questions from emails\n",
      "\n",
      "    This is a test for dedent.\n",
      "\n",
      "    I want to check.\n",
      "    \n"
     ]
    }
   ],
   "source": [
    "print(prompt_template.render(user_name=\"Paul Allen\", prompt=\"Generate questions from emails\"))"
   ]
  },
  {
   "cell_type": "code",
   "execution_count": 20,
   "id": "a3f50d40-7056-458e-8833-4f402c412173",
   "metadata": {},
   "outputs": [],
   "source": [
    "prompt_template = Template(\n",
    "    dedent(\n",
    "        \"\"\"\\\n",
    "        {{ user_name }} {{ prompt }}\n",
    "\n",
    "        This is a test for dedent.\n",
    "\n",
    "        I want to check.\n",
    "        \"\"\"\n",
    "    )\n",
    ")"
   ]
  },
  {
   "cell_type": "code",
   "execution_count": 21,
   "id": "8b44f2f8-a861-4ba8-abc7-84c5eb0b1b59",
   "metadata": {},
   "outputs": [
    {
     "name": "stdout",
     "output_type": "stream",
     "text": [
      "Paul Allen Generate questions from emails\n",
      "\n",
      "This is a test for dedent.\n",
      "\n",
      "I want to check.\n"
     ]
    }
   ],
   "source": [
    "print(prompt_template.render(user_name=\"Paul Allen\", prompt=\"Generate questions from emails\"))"
   ]
  },
  {
   "cell_type": "markdown",
   "id": "84e85f53-d949-46ae-a6d6-42e673ce6b80",
   "metadata": {},
   "source": [
    "## Apply the prompt to real data"
   ]
  },
  {
   "cell_type": "code",
   "execution_count": 22,
   "id": "219df654-7488-4bd1-9ed4-4e769373c38e",
   "metadata": {},
   "outputs": [],
   "source": [
    "from pydantic import BaseModel\n",
    "\n",
    "class GeneratedQuestions(BaseModel):\n",
    "    useless_to_recall: bool\n",
    "    questions: list[str]"
   ]
  },
  {
   "cell_type": "code",
   "execution_count": 62,
   "id": "bd911445-484f-4c82-950b-a00d8ad76821",
   "metadata": {},
   "outputs": [],
   "source": [
    "prompt_template = Template(\n",
    "    dedent(\n",
    "        \"\"\"\\\n",
    "        You are Paul Allen, also known as Phillip Allen, and you sent this email.\n",
    "        \n",
    "        <email_content>\n",
    "        {{ email_content }}\n",
    "        </email_content>\n",
    "        \n",
    "        Return JSON only.\n",
    "\n",
    "        \n",
    "        CLASSIFY\n",
    "        Set \"useless_to_recall\" = true **unless** the email contains at least one\n",
    "        **professional, content-bearing fact** (clear business action/decision/commitment,\n",
    "        deliverable, schedule with date/time, contract/price/volume/rate/term, project or\n",
    "        asset details). Personal/household, HR/tax chat, gossip, or fragmentary jargon\n",
    "        lists are **not** professional.\n",
    "        \n",
    "        USELESS CATEGORIES (choose one for \"useless_reason\"):\n",
    "        - personal       (household approvals, errands)\n",
    "        - hr_tax         (W-2, payroll, benefits chatter)\n",
    "        - gossip         (rumors, who said what)\n",
    "        - fragment       (token/jargon lists without a predicate/action)\n",
    "        - attachment_only(link/attachment with no in-body summary)\n",
    "        - chitchat       (greetings, small talk)\n",
    "        - boilerplate    (auto-replies, disclaimers)\n",
    "        - vague          (no concrete, answerable facts)\n",
    "        \n",
    "        IF USELESS:\n",
    "        {\n",
    "          \"useless_to_recall\": true,\n",
    "          \"useless_reason\": \"<one category above>\",\n",
    "          \"questions\": []\n",
    "        }\n",
    "        \n",
    "        IF USEFUL:\n",
    "        Generate up to {{ n_questions|default(6) }} questions that are:\n",
    "        - directly answerable **verbatim** from the email (no outside info)\n",
    "        - **self-contained**\n",
    "        - include ≥1 exact token from the email (proper noun OR numeral/unit)\n",
    "        - NOT clarifying/meta/recipient/formatting questions\n",
    "        \n",
    "        STRICT CHECK (for each question):\n",
    "        If it cannot be answered exactly from the email text or lacks an exact token, drop it.\n",
    "        If no questions survive, set the email to USELESS (\"vague\").\n",
    "        \n",
    "        OUTPUT (JSON only):\n",
    "        {\n",
    "          \"useless_to_recall\": boolean,\n",
    "          \"useless_reason\": \"personal | hr_tax | gossip | fragment | attachment_only | chitchat | boilerplate | vague | n/a\",\n",
    "          \"questions\": [\"string\", \"...\"]\n",
    "        }\n",
    "        \n",
    "        Classifier anchors (do not echo in output):\n",
    "        - \"mary, it is ok to buy a carpet shampooer. about the w-2’s, how would you\" → USELESS: personal or hr_tax\n",
    "        - \"what did mary write? stage misses you? i sent 2 emails. maybe mary is stalking gary\" → USELESS: gossip\n",
    "        - \"eol report for tv in conference on 33 cash -hehub -chicago -pepl -katy -waha prompt month nymex\" → USELESS: fragment\n",
    "        - Positive example (useful): \"Approve purchase of 4 servers for Project Orion at $6.2k each, delivery by Oct 15.\"\n",
    "        \"\"\"\n",
    "    )\n",
    ")"
   ]
  },
  {
   "cell_type": "markdown",
   "id": "21260ff5-063c-404f-87d4-3e1051b6fbcc",
   "metadata": {},
   "source": [
    "## Iterate on the prompt"
   ]
  },
  {
   "cell_type": "code",
   "execution_count": 63,
   "id": "913041e9-8676-4ac4-99cd-d741df4002dd",
   "metadata": {},
   "outputs": [],
   "source": [
    "email = emails.iloc[0]"
   ]
  },
  {
   "cell_type": "code",
   "execution_count": 64,
   "id": "1f0d0cb8-d8e6-4cd7-9e1c-696a190f03b0",
   "metadata": {},
   "outputs": [
    {
     "data": {
      "text/plain": [
       "'jeff, i want to bid $2.8 for sagewood with a rate 8.5% or less and dependent on 30 year term'"
      ]
     },
     "execution_count": 64,
     "metadata": {},
     "output_type": "execute_result"
    }
   ],
   "source": [
    "email.content"
   ]
  },
  {
   "cell_type": "code",
   "execution_count": 65,
   "id": "e8825566-ee9f-4e21-aefb-3dac4effdef5",
   "metadata": {},
   "outputs": [],
   "source": [
    "prompt = prompt_template.render(\n",
    "    email_content=email.content\n",
    ")"
   ]
  },
  {
   "cell_type": "code",
   "execution_count": 66,
   "id": "8bc1b6d5-271b-45ed-a9a3-3528b558be09",
   "metadata": {
    "scrolled": true
   },
   "outputs": [
    {
     "name": "stdout",
     "output_type": "stream",
     "text": [
      "You are Paul Allen, also known as Phillip Allen, and you sent this email.\n",
      "\n",
      "<email_content>\n",
      "jeff, i want to bid $2.8 for sagewood with a rate 8.5% or less and dependent on 30 year term\n",
      "</email_content>\n",
      "\n",
      "Return JSON only.\n",
      "\n",
      "\n",
      "CLASSIFY\n",
      "Set \"useless_to_recall\" = true **unless** the email contains at least one\n",
      "**professional, content-bearing fact** (clear business action/decision/commitment,\n",
      "deliverable, schedule with date/time, contract/price/volume/rate/term, project or\n",
      "asset details). Personal/household, HR/tax chat, gossip, or fragmentary jargon\n",
      "lists are **not** professional.\n",
      "\n",
      "USELESS CATEGORIES (choose one for \"useless_reason\"):\n",
      "- personal       (household approvals, errands)\n",
      "- hr_tax         (W-2, payroll, benefits chatter)\n",
      "- gossip         (rumors, who said what)\n",
      "- fragment       (token/jargon lists without a predicate/action)\n",
      "- attachment_only(link/attachment with no in-body summary)\n",
      "- chitchat       (greetings, small talk)\n",
      "- boilerplate    (auto-replies, disclaimers)\n",
      "- vague          (no concrete, answerable facts)\n",
      "\n",
      "IF USELESS:\n",
      "{\n",
      "  \"useless_to_recall\": true,\n",
      "  \"useless_reason\": \"<one category above>\",\n",
      "  \"questions\": []\n",
      "}\n",
      "\n",
      "IF USEFUL:\n",
      "Generate up to 6 questions that are:\n",
      "- directly answerable **verbatim** from the email (no outside info)\n",
      "- **self-contained**\n",
      "- include ≥1 exact token from the email (proper noun OR numeral/unit)\n",
      "- NOT clarifying/meta/recipient/formatting questions\n",
      "\n",
      "STRICT CHECK (for each question):\n",
      "If it cannot be answered exactly from the email text or lacks an exact token, drop it.\n",
      "If no questions survive, set the email to USELESS (\"vague\").\n",
      "\n",
      "OUTPUT (JSON only):\n",
      "{\n",
      "  \"useless_to_recall\": boolean,\n",
      "  \"useless_reason\": \"personal | hr_tax | gossip | fragment | attachment_only | chitchat | boilerplate | vague | n/a\",\n",
      "  \"questions\": [\"string\", \"...\"]\n",
      "}\n",
      "\n",
      "Classifier anchors (do not echo in output):\n",
      "- \"mary, it is ok to buy a carpet shampooer. about the w-2’s, how would you\" → USELESS: personal or hr_tax\n",
      "- \"what did mary write? stage misses you? i sent 2 emails. maybe mary is stalking gary\" → USELESS: gossip\n",
      "- \"eol report for tv in conference on 33 cash -hehub -chicago -pepl -katy -waha prompt month nymex\" → USELESS: fragment\n",
      "- Positive example (useful): \"Approve purchase of 4 servers for Project Orion at $6.2k each, delivery by Oct 15.\"\n"
     ]
    }
   ],
   "source": [
    "print(prompt)"
   ]
  },
  {
   "cell_type": "code",
   "execution_count": 67,
   "id": "a928271d-16a0-46c3-95b0-ff701aa8dbb1",
   "metadata": {},
   "outputs": [],
   "source": [
    "MODEL = GPT4O_MINI"
   ]
  },
  {
   "cell_type": "code",
   "execution_count": 68,
   "id": "3ab7ea7d-fd1c-4266-ac6b-008661dc1f34",
   "metadata": {},
   "outputs": [],
   "source": [
    "completion = await cached_chat_completion_parsed_with_retry(\n",
    "    model=MODEL,\n",
    "    messages=[user(prompt)],\n",
    "    response_format=GeneratedQuestions\n",
    ")"
   ]
  },
  {
   "cell_type": "code",
   "execution_count": 69,
   "id": "4f61e7eb-b302-45cc-9b2e-be61009b9d33",
   "metadata": {},
   "outputs": [
    {
     "data": {
      "text/plain": [
       "['What is the bid amount for Sagewood?',\n",
       " 'What rate is being requested for Sagewood?',\n",
       " 'What is the term dependent on for the Sagewood bid?',\n",
       " 'What is the maximum rate mentioned for the Sagewood bid?',\n",
       " 'Who is the recipient of the email?',\n",
       " 'What asset is being referenced in the bid?']"
      ]
     },
     "execution_count": 69,
     "metadata": {},
     "output_type": "execute_result"
    }
   ],
   "source": [
    "completion.choices[0].message.parsed.questions"
   ]
  },
  {
   "cell_type": "markdown",
   "id": "dfc08a92-9802-4b95-a160-a5692e9fbec9",
   "metadata": {},
   "source": [
    "## Bad questions category\n",
    "\n",
    "'Am I certain that the rate should be 8.5% or less?' --> clarifying - not useful to retrieve the email\n",
    "'What type of deal or project is Sagewood related to?' --> clarifying question - does not help to retrieve the email\n",
    "'Did I address the recipient by name in the email?' --> does not relate to the content\n",
    "'What type of deal or project is Sagewood related to?' --> clarifying question. Does not help to retrieve the email"
   ]
  },
  {
   "cell_type": "code",
   "execution_count": 70,
   "id": "d1ca9329-c71f-467d-b2e8-688d07c00fcb",
   "metadata": {},
   "outputs": [],
   "source": [
    "async def try_the_prompt(i):\n",
    "    email = emails.iloc[i]\n",
    "    prompt = prompt_template.render(\n",
    "        email_content=email.content\n",
    "    )\n",
    "    completion = await cached_chat_completion_parsed_with_retry(\n",
    "        model=MODEL,\n",
    "        messages=[user(prompt)],\n",
    "        response_format=GeneratedQuestions\n",
    "    )\n",
    "    return completion.choices[0].message.parsed, email.content"
   ]
  },
  {
   "cell_type": "code",
   "execution_count": 71,
   "id": "10d000d5-6a1c-4cbf-895c-d1cb2a6ba611",
   "metadata": {},
   "outputs": [],
   "source": [
    "r, e = await try_the_prompt(2)"
   ]
  },
  {
   "cell_type": "code",
   "execution_count": 72,
   "id": "0145134b-c5a7-42e2-bfdb-cdf336a0a8e5",
   "metadata": {},
   "outputs": [
    {
     "data": {
      "text/plain": [
       "'how is your racing going? what category are you up to? i'"
      ]
     },
     "execution_count": 72,
     "metadata": {},
     "output_type": "execute_result"
    }
   ],
   "source": [
    "e"
   ]
  },
  {
   "cell_type": "code",
   "execution_count": 73,
   "id": "67cb7c71-39e1-44c5-98a7-7f70b53997fd",
   "metadata": {},
   "outputs": [
    {
     "name": "stdout",
     "output_type": "stream",
     "text": [
      "List of questions: []\n",
      "\n",
      "Useless to recall? True\n"
     ]
    }
   ],
   "source": [
    "print(f\"List of questions: {r.questions}\\n\\nUseless to recall? {r.useless_to_recall}\")"
   ]
  },
  {
   "cell_type": "markdown",
   "id": "76924193-90c1-4014-bb85-0ba38df849a2",
   "metadata": {},
   "source": [
    "### notes on what we don't like in the inputs\n",
    "\n",
    "'attached is the systems wish list for the gas basis and physical trading' -> useless because we don't have access to the attachment\n",
    "'how is your racing going? what category are you up to? i' -> generated ['How is your racing going?', 'What category are you up to in racing?'] : bad questions (it is useless to recall this)"
   ]
  },
  {
   "cell_type": "markdown",
   "id": "12b7342c-a7a0-4ce3-9ea8-9354f55ea709",
   "metadata": {},
   "source": [
    "## Batching Calls\n",
    "\n",
    "The goal is to iterate much faster to identify the useless to recall emails."
   ]
  },
  {
   "cell_type": "markdown",
   "id": "59fe0c94-f67e-4344-8564-abd865167a30",
   "metadata": {},
   "source": [
    "### Create the task function"
   ]
  },
  {
   "cell_type": "code",
   "execution_count": 74,
   "id": "2daa32fd-8e0b-4b6b-bb62-1820d1c6e21a",
   "metadata": {},
   "outputs": [],
   "source": [
    "import traceback\n",
    "\n",
    "async def try_the_prompt(i):\n",
    "    email = emails.iloc[i]\n",
    "    prompt = prompt_template.render(\n",
    "        email_content=email.content\n",
    "    )\n",
    "    completion = await cached_chat_completion_parsed_with_retry(\n",
    "        model=MODEL,\n",
    "        messages=[user(prompt)],\n",
    "        response_format=GeneratedQuestions\n",
    "    )\n",
    "    return completion.choices[0].message.parsed, email.content\n",
    "\n",
    "async def maybe_try_the_prompt(i):\n",
    "    try:\n",
    "        return await try_the_prompt(i)\n",
    "    except Exception as e:\n",
    "        return (i, e, traceback.format_exc())"
   ]
  },
  {
   "cell_type": "code",
   "execution_count": 75,
   "id": "abd160be-047c-41bf-9af8-bde1050b9e00",
   "metadata": {},
   "outputs": [],
   "source": [
    "tasks = [maybe_try_the_prompt(i) for i in range(10)]\n",
    "\n",
    "results = await asyncio.gather(*tasks)"
   ]
  },
  {
   "cell_type": "code",
   "execution_count": 76,
   "id": "3320ccc9-3537-4a24-9232-f6487246ef44",
   "metadata": {},
   "outputs": [
    {
     "data": {
      "text/plain": [
       "'len(failed)=0, len(results)=10'"
      ]
     },
     "execution_count": 76,
     "metadata": {},
     "output_type": "execute_result"
    }
   ],
   "source": [
    "failed = [r for r in results if isinstance(r[0], int)]\n",
    "f\"{len(failed)=}, {len(results)=}\""
   ]
  },
  {
   "cell_type": "code",
   "execution_count": 77,
   "id": "1480b7e0-9e0f-45d9-bcbb-c61cd00a9ba2",
   "metadata": {},
   "outputs": [],
   "source": [
    "from pprint import pprint"
   ]
  },
  {
   "cell_type": "code",
   "execution_count": 78,
   "id": "b10ab377-55c3-419a-88c2-599b820ae692",
   "metadata": {},
   "outputs": [
    {
     "name": "stdout",
     "output_type": "stream",
     "text": [
      "[('jeff, i want to bid $2.8 for sagewood with a rate 8.5% or less and '\n",
      "  'dependent on 30 year term',\n",
      "  {'questions': ['What is the bid amount for Sagewood?',\n",
      "                 'What rate is being requested for Sagewood?',\n",
      "                 'What is the term dependent on for the Sagewood bid?',\n",
      "                 'What is the maximum rate mentioned for the Sagewood bid?',\n",
      "                 'Who is the recipient of the email?',\n",
      "                 'What asset is being referenced in the bid?'],\n",
      "   'useless_to_recall': False}),\n",
      " ('attached is the systems wish list for the gas basis and physical trading',\n",
      "  {'questions': [], 'useless_to_recall': True}),\n",
      " ('how is your racing going? what category are you up to? i',\n",
      "  {'questions': [], 'useless_to_recall': True}),\n",
      " ('eol report for tv in conference on 33 cash -hehub -chicago -pepl -katy '\n",
      "  '-waha prompt month nymex',\n",
      "  {'questions': [], 'useless_to_recall': True}),\n",
      " (\"mary, it is ok to buy a carpet shampooer. about the w-2's, how would you\",\n",
      "  {'questions': [], 'useless_to_recall': True}),\n",
      " ('scott, thanks for the email. i have two questions: 1. the',\n",
      "  {'questions': [], 'useless_to_recall': True}),\n",
      " ('naomi, the two analysts that i have had contact with are matt lenhart and '\n",
      "  'vishal apte. matt will be represented by jeff shankman. vishal joined our '\n",
      "  'group in october. he was in the power trading group for the first 9 months. '\n",
      "  'i spoke to jim fallon and we agreed that he should be in the excellent '\n",
      "  \"category. i just don't want vishal to go unrepresented since he changed \"\n",
      "  'groups mid year. call me with questions.(x37041) phillip allen west gas '\n",
      "  'trading',\n",
      "  {'questions': ['Who are the two analysts mentioned in the email?',\n",
      "                 'Who will represent Matt Lenhart?',\n",
      "                 'In what group did Vishal Apte work for the first 9 months?',\n",
      "                 \"Who did Paul Allen speak to regarding Vishal's performance?\",\n",
      "                 'What category was Vishal agreed upon to be in?',\n",
      "                 'When did Vishal join the group?'],\n",
      "   'useless_to_recall': False}),\n",
      " ('what did mary write? stage misses you? i sent 2 emails. maybe mary is '\n",
      "  'stalking gary',\n",
      "  {'questions': [], 'useless_to_recall': True}),\n",
      " ('received the file. it worked. good job.',\n",
      "  {'questions': [], 'useless_to_recall': True}),\n",
      " ('mary received an email from you on 1/7, but there was no message. please '\n",
      "  'try again. phillip',\n",
      "  {'questions': [], 'useless_to_recall': True})]\n"
     ]
    }
   ],
   "source": [
    "pprint([(r[1], r[0].model_dump()) for r in results])"
   ]
  },
  {
   "cell_type": "markdown",
   "id": "374c8aed-2ce6-4790-834f-a3df9f76a9ff",
   "metadata": {},
   "source": [
    "## Useless to recall:\n",
    "\n",
    "'eol report for tv in conference on 33 cash -hehub -chicago -pepl -katy '\n",
    "  '-waha prompt month nymex' --> not any professional informations\n",
    "\n",
    "mary, it is ok to buy a carpet shampooer. about the w-2's, how would you --> Not any professional informations\n",
    "\"'what did mary write? stage misses you? i sent 2 emails. maybe mary is stalking gary\" --> There are not any professional informations."
   ]
  },
  {
   "cell_type": "markdown",
   "id": "4e1535ff-1ff8-4749-a4fd-88d43bc13ced",
   "metadata": {},
   "source": [
    "# Run against the full dataset"
   ]
  },
  {
   "cell_type": "code",
   "execution_count": 87,
   "id": "e8b1903b-cf96-4d62-aed3-8ac3fb7e896b",
   "metadata": {},
   "outputs": [],
   "source": [
    "import asyncio\n",
    "from tqdm.notebook import tqdm\n",
    "from tqdm.asyncio import tqdm_asyncio"
   ]
  },
  {
   "cell_type": "code",
   "execution_count": 88,
   "id": "da725df4-67c1-43f6-927a-efa52e6bcb11",
   "metadata": {},
   "outputs": [
    {
     "name": "stderr",
     "output_type": "stream",
     "text": [
      "100%|██████████| 396/396 [00:00<00:00, 962.87it/s]\n"
     ]
    }
   ],
   "source": [
    "#tasks = [maybe_try_the_prompt(i) for i in range(len(emails))]\n",
    "#results = await tqdm_asyncio.gather(*tasks)\n",
    "\n",
    "\n",
    "semaphore = asyncio.Semaphore(5)  # max 5 requêtes simultanées\n",
    "\n",
    "async def limited_call(i):\n",
    "    async with semaphore:\n",
    "        return await maybe_try_the_prompt(i)\n",
    "\n",
    "tasks = [limited_call(i) for i in range(len(emails))]\n",
    "results = await tqdm_asyncio.gather(*tasks)"
   ]
  },
  {
   "cell_type": "code",
   "execution_count": 89,
   "id": "943f8278-317d-468c-853d-ab9c9c1cf4a4",
   "metadata": {},
   "outputs": [
    {
     "data": {
      "text/plain": [
       "'len(failed)=0, len(results)=396'"
      ]
     },
     "execution_count": 89,
     "metadata": {},
     "output_type": "execute_result"
    }
   ],
   "source": [
    "failed = [r for r in results if isinstance(r[0], int)]\n",
    "f\"{len(failed)=}, {len(results)=}\""
   ]
  },
  {
   "cell_type": "code",
   "execution_count": 91,
   "id": "7cb8bdc9-e9c9-44ae-948a-2c65334d1e05",
   "metadata": {},
   "outputs": [
    {
     "data": {
      "text/plain": [
       "(GeneratedQuestions(useless_to_recall=False, questions=['What is the bid amount for Sagewood?', 'What rate is being requested for Sagewood?', 'What is the term dependent on for the Sagewood bid?', 'What is the maximum rate mentioned for the Sagewood bid?', 'Who is the recipient of the email?', 'What asset is being referenced in the bid?']),\n",
       " 'jeff, i want to bid $2.8 for sagewood with a rate 8.5% or less and dependent on 30 year term')"
      ]
     },
     "execution_count": 91,
     "metadata": {},
     "output_type": "execute_result"
    }
   ],
   "source": [
    "results[0]"
   ]
  },
  {
   "cell_type": "markdown",
   "id": "3e19979b-d073-4165-b52f-c70d827f3089",
   "metadata": {},
   "source": [
    "### Join the questions with email and save"
   ]
  },
  {
   "cell_type": "code",
   "execution_count": 99,
   "id": "12f3dd1b-2126-4950-b91a-9f45ad617382",
   "metadata": {},
   "outputs": [],
   "source": [
    "col_useless_to_recall = []\n",
    "col_questions = []\n",
    "\n",
    "for (generated_questions, _) in results:\n",
    "    col_useless_to_recall.append(generated_questions.useless_to_recall)\n",
    "    col_questions.append(generated_questions.questions)"
   ]
  },
  {
   "cell_type": "code",
   "execution_count": 100,
   "id": "a686c65e-b2ee-4e34-ab0f-a7b15580feda",
   "metadata": {},
   "outputs": [
    {
     "data": {
      "text/plain": [
       "396"
      ]
     },
     "execution_count": 100,
     "metadata": {},
     "output_type": "execute_result"
    }
   ],
   "source": [
    "len(col_questions)"
   ]
  },
  {
   "cell_type": "code",
   "execution_count": 101,
   "id": "b84153d6-7795-4674-937a-ec68db7bcd42",
   "metadata": {},
   "outputs": [
    {
     "data": {
      "text/plain": [
       "396"
      ]
     },
     "execution_count": 101,
     "metadata": {},
     "output_type": "execute_result"
    }
   ],
   "source": [
    "len(col_useless_to_recall)"
   ]
  },
  {
   "cell_type": "code",
   "execution_count": 102,
   "id": "62dfb709-3427-40cb-b80c-dd7ae9a902c7",
   "metadata": {},
   "outputs": [
    {
     "data": {
      "text/plain": [
       "396"
      ]
     },
     "execution_count": 102,
     "metadata": {},
     "output_type": "execute_result"
    }
   ],
   "source": [
    "len(emails)"
   ]
  },
  {
   "cell_type": "code",
   "execution_count": 103,
   "id": "f3eddf0b-c809-4386-88ed-b6d9a87dd127",
   "metadata": {},
   "outputs": [],
   "source": [
    "emails['useless_to_recall'] = col_useless_to_recall"
   ]
  },
  {
   "cell_type": "code",
   "execution_count": 104,
   "id": "bfd9bbcd-0b36-42cb-a823-74687897f6a7",
   "metadata": {},
   "outputs": [],
   "source": [
    "emails['questions'] = col_questions"
   ]
  },
  {
   "cell_type": "code",
   "execution_count": 107,
   "id": "79124c9a-a192-4022-918b-2d712f1637ae",
   "metadata": {},
   "outputs": [],
   "source": [
    "emails.to_csv('paul_allen_sent_email_with_questions_v1.csv', index=False)"
   ]
  },
  {
   "cell_type": "code",
   "execution_count": null,
   "id": "40119bd8-5cd0-45c1-aacf-adc027449112",
   "metadata": {},
   "outputs": [],
   "source": []
  }
 ],
 "metadata": {
  "kernelspec": {
   "display_name": "rag-course",
   "language": "python",
   "name": "rag-course"
  },
  "language_info": {
   "codemirror_mode": {
    "name": "ipython",
    "version": 3
   },
   "file_extension": ".py",
   "mimetype": "text/x-python",
   "name": "python",
   "nbconvert_exporter": "python",
   "pygments_lexer": "ipython3",
   "version": "3.12.11"
  }
 },
 "nbformat": 4,
 "nbformat_minor": 5
}
