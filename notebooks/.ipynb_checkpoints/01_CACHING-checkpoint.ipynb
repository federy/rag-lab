{
 "cells": [
  {
   "cell_type": "markdown",
   "id": "d03aff5e-4626-4c29-adb5-6a0cccf7aefd",
   "metadata": {},
   "source": [
    "# Get API Keys"
   ]
  },
  {
   "cell_type": "code",
   "execution_count": 1,
   "id": "1e4bf905-8e64-4f94-9da5-a8de7d5c4e97",
   "metadata": {},
   "outputs": [
    {
     "data": {
      "text/plain": [
       "True"
      ]
     },
     "execution_count": 1,
     "metadata": {},
     "output_type": "execute_result"
    }
   ],
   "source": [
    "from dotenv import load_dotenv\n",
    "\n",
    "load_dotenv()"
   ]
  },
  {
   "cell_type": "code",
   "execution_count": 2,
   "id": "ec5dadde-367b-41c4-812e-aafcb2e8d691",
   "metadata": {},
   "outputs": [],
   "source": [
    "from openai import AsyncOpenAI"
   ]
  },
  {
   "cell_type": "code",
   "execution_count": 3,
   "id": "996a4d01-314c-4dce-9002-fee1ec9ac0fb",
   "metadata": {},
   "outputs": [],
   "source": [
    "client = AsyncOpenAI()"
   ]
  },
  {
   "cell_type": "code",
   "execution_count": 4,
   "id": "1f60a868-7cd0-4d54-bdf1-306b3407cfe0",
   "metadata": {},
   "outputs": [],
   "source": [
    "GPT4O_MINI = \"o4-mini-2025-04-16\""
   ]
  },
  {
   "cell_type": "code",
   "execution_count": 5,
   "id": "5e751ba5-8207-43c4-8f3a-e3a7928c2dc7",
   "metadata": {},
   "outputs": [],
   "source": [
    "def _msg(role, content):\n",
    "    return {'role': role, 'content': content}\n",
    "\n",
    "def system(content):\n",
    "    return _msg('system', content)\n",
    "\n",
    "def user(content):\n",
    "    return _msg('user', content)\n",
    "\n",
    "def assistant(content):\n",
    "    return _msg('assistant', content)"
   ]
  },
  {
   "cell_type": "markdown",
   "id": "f8a5fa41-dcfa-44ea-9e43-7dcecb2cf863",
   "metadata": {},
   "source": [
    "# Not Cached"
   ]
  },
  {
   "cell_type": "code",
   "execution_count": 6,
   "id": "b0385ea2-22ee-4041-9d85-ca70d3e53e74",
   "metadata": {},
   "outputs": [],
   "source": [
    "# sanity check\n",
    "\n",
    "completion = await client.chat.completions.create(\n",
    "    messages=[user(\"What is caching in software engineering?\")],\n",
    "    model=GPT4O_MINI,\n",
    "    max_completion_tokens=1000\n",
    ")"
   ]
  },
  {
   "cell_type": "code",
   "execution_count": 7,
   "id": "ba2f3b2d-dff8-472e-aacd-13621a297188",
   "metadata": {},
   "outputs": [
    {
     "name": "stdout",
     "output_type": "stream",
     "text": [
      "('Caching in software engineering is the practice of storing copies of data or '\n",
      " 'computations in a “fast‐access” storage layer so that future requests for '\n",
      " 'the same data can be served more quickly, avoid repeated work, and reduce '\n",
      " 'load on slower or more expensive resources (databases, file systems, remote '\n",
      " 'services, etc.).\\n'\n",
      " '\\n'\n",
      " 'Key aspects of caching:\\n'\n",
      " '\\n'\n",
      " '1. What gets cached  \\n'\n",
      " '   • Computed results (e.g., function return values, rendered templates)  \\n'\n",
      " '   • Database query results or ORM objects  \\n'\n",
      " '   • HTTP responses or fragments (pages, images, JSON)  \\n'\n",
      " '   • Files or blobs (on-disk cache for downloads)  \\n'\n",
      " '\\n'\n",
      " '2. Where caches live  \\n'\n",
      " '   • In-process memory (application-level caches)  \\n'\n",
      " '   • Dedicated cache servers (Redis, Memcached)  \\n'\n",
      " '   • Content Delivery Networks (CDNs) and reverse proxies (e.g., Varnish, '\n",
      " 'Nginx)  \\n'\n",
      " '   • Browser cache or operating‐system file cache  \\n'\n",
      " '\\n'\n",
      " '3. Cache policies and mechanics  \\n'\n",
      " '   – Time-to-Live (TTL) or expiration: how long an entry stays valid.  \\n'\n",
      " '   – Eviction policies: choose which entries to drop when space is needed. '\n",
      " 'Common algorithms include  \\n'\n",
      " '     • LRU (Least Recently Used)  \\n'\n",
      " '     • LFU (Least Frequently Used)  \\n'\n",
      " '     • FIFO (First In, First Out)  \\n'\n",
      " '     • Random or custom heuristics  \\n'\n",
      " '   – Write strategies (for caches that can be written to):  \\n'\n",
      " '     • Write-through: every update goes to cache and backing store '\n",
      " 'immediately  \\n'\n",
      " '     • Write-back (lazy write): updates go to cache only and are '\n",
      " 'periodically flushed to the backing store  \\n'\n",
      " '   – Cache warming/preloading: populating the cache ahead of time with '\n",
      " 'anticipated data  \\n'\n",
      " '\\n'\n",
      " '4. Benefits  \\n'\n",
      " '   • Lower latency for end users  \\n'\n",
      " '   • Reduced load on origin servers, databases, or compute resources  \\n'\n",
      " '   • Improved throughput and scalability of applications  \\n'\n",
      " '\\n'\n",
      " '5. Challenges and pitfalls  \\n'\n",
      " '   • Stale data and cache invalidation (“one of the two hardest problems in '\n",
      " 'computer science”)  \\n'\n",
      " '   • Consistency models in distributed caches (trade-offs between freshness '\n",
      " 'and performance)  \\n'\n",
      " '   • Cache stampedes (many clients missing the cache simultaneously)  \\n'\n",
      " '     – Mitigation: request coalescing, locks, “early recompute”  \\n'\n",
      " '   • Memory pressure and cache pollution  \\n'\n",
      " '\\n'\n",
      " '6. Typical use-cases  \\n'\n",
      " '   • Web applications: page and API response caching  \\n'\n",
      " '   • Microservices: client-side or shared caches for service responses  \\n'\n",
      " '   • Databases: query result caches or materialized views  \\n'\n",
      " '   • Computation-heavy tasks: memoization of pure‐function outputs  \\n'\n",
      " '   • File systems and OS kernels: page caches to speed up disk I/O  \\n'\n",
      " '\\n'\n",
      " 'In essence, caching is about trading a small amount of fast, limited‐size '\n",
      " 'storage and added complexity for much better performance and scalability in '\n",
      " 'software systems.')\n"
     ]
    }
   ],
   "source": [
    "from pprint import pprint\n",
    "\n",
    "pprint(completion.choices[0].message.content)"
   ]
  },
  {
   "cell_type": "markdown",
   "id": "71f8c397-fcfe-444d-8779-d28cd33cb910",
   "metadata": {},
   "source": [
    "# Cached"
   ]
  },
  {
   "cell_type": "code",
   "execution_count": 8,
   "id": "594ad9d0-a67b-410d-8c2c-8691bdfbc129",
   "metadata": {},
   "outputs": [],
   "source": [
    "from diskcache import Cache"
   ]
  },
  {
   "cell_type": "code",
   "execution_count": 9,
   "id": "6f4f7551-fd6d-427c-b7f5-afa7455644a6",
   "metadata": {},
   "outputs": [],
   "source": [
    "# cache = Cache() # temporary cache\n",
    "cache = Cache(directory=\".cache_course\")"
   ]
  },
  {
   "cell_type": "code",
   "execution_count": 10,
   "id": "e255e8a7-2c19-408d-999f-4af9628ce9d2",
   "metadata": {},
   "outputs": [],
   "source": [
    "#cache.set(\"Hello\", \"blabla\")\n",
    "#cache.get(\"Hello\")"
   ]
  },
  {
   "cell_type": "code",
   "execution_count": 11,
   "id": "6f98b746-23bb-4306-bd35-f324e6810ec4",
   "metadata": {},
   "outputs": [],
   "source": [
    "import asyncio"
   ]
  },
  {
   "cell_type": "code",
   "execution_count": 12,
   "id": "fc0e456f-67b2-47ca-95c8-494a6fcd0183",
   "metadata": {},
   "outputs": [],
   "source": [
    "async def set_async(key, val, **kwargs):\n",
    "    return await asyncio.to_thread(cache.set, key, val, **kwargs)\n",
    "\n",
    "async def get_async(key, default=None, **kwargs):\n",
    "    return await asyncio.to_thread(cache.get, key, default, **kwargs)"
   ]
  },
  {
   "cell_type": "code",
   "execution_count": 18,
   "id": "f45ecd9a-d34f-4b1a-8d2f-9193117f6271",
   "metadata": {},
   "outputs": [
    {
     "data": {
      "text/plain": [
       "('NOT FOUND', 'blabla', True, 'yes')"
      ]
     },
     "execution_count": 18,
     "metadata": {},
     "output_type": "execute_result"
    }
   ],
   "source": [
    "# sanity checks\n",
    "(\n",
    "    await get_async(\"key_that_does_not_exist\", default=\"NOT FOUND\"),\n",
    "    await get_async(\"Hello\"),\n",
    "    await set_async(\"key_exist\", \"yes\"),\n",
    "    await get_async(\"key_exist\"),\n",
    ")"
   ]
  },
  {
   "cell_type": "code",
   "execution_count": null,
   "id": "b4011836-6682-4680-8484-01ab110f3fdf",
   "metadata": {},
   "outputs": [],
   "source": []
  }
 ],
 "metadata": {
  "kernelspec": {
   "display_name": "rag-course",
   "language": "python",
   "name": "rag-course"
  },
  "language_info": {
   "codemirror_mode": {
    "name": "ipython",
    "version": 3
   },
   "file_extension": ".py",
   "mimetype": "text/x-python",
   "name": "python",
   "nbconvert_exporter": "python",
   "pygments_lexer": "ipython3",
   "version": "3.12.11"
  }
 },
 "nbformat": 4,
 "nbformat_minor": 5
}
