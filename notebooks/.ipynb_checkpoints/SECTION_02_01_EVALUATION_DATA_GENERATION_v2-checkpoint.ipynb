{
 "cells": [
  {
   "cell_type": "markdown",
   "id": "892105ce-f8b6-4cd5-80c8-0abca5987b05",
   "metadata": {},
   "source": [
    "# Load API Keys"
   ]
  },
  {
   "cell_type": "code",
   "execution_count": 1,
   "id": "82b38784-25e1-46d8-8d18-26181922d170",
   "metadata": {},
   "outputs": [
    {
     "data": {
      "text/plain": [
       "True"
      ]
     },
     "execution_count": 1,
     "metadata": {},
     "output_type": "execute_result"
    }
   ],
   "source": [
    "from dotenv import load_dotenv\n",
    "\n",
    "load_dotenv()"
   ]
  },
  {
   "cell_type": "markdown",
   "id": "5b1b8d13-009e-4589-a593-215b90675e31",
   "metadata": {},
   "source": [
    "# Tracing"
   ]
  },
  {
   "cell_type": "code",
   "execution_count": 2,
   "id": "4e223b2f-4045-446a-8393-f678211a26a1",
   "metadata": {},
   "outputs": [],
   "source": [
    "from langfuse.openai import AsyncOpenAI  # autoinstrmenttion"
   ]
  },
  {
   "cell_type": "markdown",
   "id": "abdbf19d-9643-464a-9645-893865380296",
   "metadata": {},
   "source": [
    "# Setup LLM Call Helpers"
   ]
  },
  {
   "cell_type": "code",
   "execution_count": 3,
   "id": "4cff8e79-588c-4586-90ea-fa556824be06",
   "metadata": {},
   "outputs": [],
   "source": [
    "client = AsyncOpenAI()"
   ]
  },
  {
   "cell_type": "code",
   "execution_count": 4,
   "id": "f622e028-248d-411c-be07-ceb07cbb983d",
   "metadata": {},
   "outputs": [],
   "source": [
    "GPT4O_MINI = \"gpt-4o-mini-2024-07-18\""
   ]
  },
  {
   "cell_type": "code",
   "execution_count": 5,
   "id": "ac4177a2-f8d6-4507-b8d0-0a48f1384013",
   "metadata": {},
   "outputs": [],
   "source": [
    "def _msg(role, content):\n",
    "    return {'role': role, 'content': content}\n",
    "\n",
    "def system(content):\n",
    "    return _msg('system', content)\n",
    "\n",
    "def user(content):\n",
    "    return _msg('user', content)\n",
    "\n",
    "def assistant(content):\n",
    "    return _msg('assistant', content)"
   ]
  },
  {
   "cell_type": "markdown",
   "id": "8faf523b-5001-456a-972a-537e9b85bfbd",
   "metadata": {},
   "source": [
    "# Cache System "
   ]
  },
  {
   "cell_type": "code",
   "execution_count": 6,
   "id": "e974b152-059a-4927-af65-ca3e4fad9864",
   "metadata": {},
   "outputs": [],
   "source": [
    "from diskcache import Cache"
   ]
  },
  {
   "cell_type": "code",
   "execution_count": 7,
   "id": "12234460-2cf8-44ae-b47e-299340c3e711",
   "metadata": {},
   "outputs": [],
   "source": [
    "cache = Cache(directory=\".cache_course\")"
   ]
  },
  {
   "cell_type": "code",
   "execution_count": 8,
   "id": "a964f6a8-f2fb-4990-892e-f754d0aee253",
   "metadata": {},
   "outputs": [],
   "source": [
    "import asyncio"
   ]
  },
  {
   "cell_type": "code",
   "execution_count": 9,
   "id": "cce28600-6e67-4857-a970-6dca9ee307bd",
   "metadata": {},
   "outputs": [],
   "source": [
    "async def set_async(key, val, **kwargs):\n",
    "    return await asyncio.to_thread(cache.set, key, val, **kwargs)\n",
    "\n",
    "async def get_async(key, default=None, **kwargs):\n",
    "    return await asyncio.to_thread(cache.get, key, default, **kwargs)"
   ]
  },
  {
   "cell_type": "markdown",
   "id": "2d45d042-aa12-41f8-9415-1b5b98c30a85",
   "metadata": {},
   "source": [
    "# Implementing Cached, Retried and Traced Structured Ouputs completion"
   ]
  },
  {
   "cell_type": "code",
   "execution_count": 10,
   "id": "e834cfcf-56b1-4519-8abf-b7f316b99294",
   "metadata": {},
   "outputs": [],
   "source": [
    "import json\n",
    "from hashlib import md5\n",
    "\n",
    "def make_cache_key(key_name, **kwargs):\n",
    "    kwargs_string = json.dumps(kwargs, sort_keys=True)\n",
    "    kwargs_hash = md5(kwargs_string.encode('utf-8')).hexdigest()\n",
    "    cache_key = f\"{key_name}__{kwargs_hash}\"\n",
    "    return cache_key"
   ]
  },
  {
   "cell_type": "code",
   "execution_count": 11,
   "id": "95eec4f7-c72a-4adc-8226-b769d6742db7",
   "metadata": {},
   "outputs": [],
   "source": [
    "from pydantic import BaseModel\n",
    "\n",
    "def _make_key_for_cached_chat_completion_parsed_with_retry(\n",
    "    *,\n",
    "    model,\n",
    "    messages,\n",
    "    response_format: BaseModel,\n",
    "    **kwargs,\n",
    "):\n",
    "    return make_cache_key(\n",
    "        \"openai_parsed_chat\",\n",
    "        model=model,\n",
    "        messages=messages,\n",
    "        response_format=response_format.model_json_schema(),\n",
    "        **kwargs\n",
    "    )"
   ]
  },
  {
   "cell_type": "code",
   "execution_count": 12,
   "id": "75621a9d-a4ba-46f8-ba63-cf544a12fbbd",
   "metadata": {},
   "outputs": [],
   "source": [
    "from openai.types.chat import ParsedChatCompletion\n",
    "from functools import wraps\n",
    "from openai import APITimeoutError, RateLimitError\n",
    "from pydantic import BaseModel\n",
    "from typing_extensions import TypeVar\n",
    "import backoff\n",
    "\n",
    "ResponseFormatT = TypeVar(\"ResponseFormatT\", bound=BaseModel)\n",
    "\n",
    "CACHE_MISS_SENTINEL = object()\n",
    "\n",
    "\n",
    "@wraps(client.chat.completions.parse)\n",
    "async def cached_chat_completion_parsed_with_retry(\n",
    "    *,\n",
    "    model,\n",
    "    messages,\n",
    "    response_format: ResponseFormatT,\n",
    "    **kwargs,\n",
    ") -> ParsedChatCompletion[ResponseFormatT]:\n",
    "    # CREATE CACHE KEY\n",
    "    cache_key = _make_key_for_cached_chat_completion_parsed_with_retry(\n",
    "        model=model,\n",
    "        messages=messages,\n",
    "        response_format=response_format,\n",
    "        **kwargs\n",
    "    )\n",
    "\n",
    "    cached_value = await get_async(cache_key, default=CACHE_MISS_SENTINEL)\n",
    "    # CACHE MISS\n",
    "    if cached_value is CACHE_MISS_SENTINEL:\n",
    "        @backoff.on_exception(\n",
    "            backoff.expo,\n",
    "            (APITimeoutError, RateLimitError)\n",
    "        )\n",
    "        async def do_call():\n",
    "            return await client.chat.completions.parse(\n",
    "                model=model,\n",
    "                messages=messages,\n",
    "                response_format=response_format,\n",
    "                **kwargs\n",
    "            )\n",
    "        completion = await do_call()\n",
    "        await set_async(cache_key, completion.model_dump_json())\n",
    "        return completion\n",
    "    # CACHE HIT\n",
    "    else:\n",
    "        # TODO: Tracing Code (next section)\n",
    "        # return \n",
    "        completion = ParsedChatCompletion.model_validate(json.loads(cached_value))\n",
    "        for choice in completion.choices:\n",
    "            if not choice.message.refusal:\n",
    "                choice.message.parsed = response_format.model_validate(\n",
    "                    choice.message.parsed\n",
    "                )\n",
    "        return completion\n",
    "        \n",
    "        "
   ]
  },
  {
   "cell_type": "markdown",
   "id": "f4773a04-c0fe-4e74-a78f-650fc5db47cf",
   "metadata": {},
   "source": [
    "# DATA_GENERATION"
   ]
  },
  {
   "cell_type": "markdown",
   "id": "38473841-8156-434d-845f-177cbcab3b82",
   "metadata": {},
   "source": [
    "## Load the Dataset"
   ]
  },
  {
   "cell_type": "code",
   "execution_count": 13,
   "id": "66af2453-2ea2-4986-a0d3-067bb11b5027",
   "metadata": {},
   "outputs": [],
   "source": [
    "import pandas as pd"
   ]
  },
  {
   "cell_type": "code",
   "execution_count": 14,
   "id": "fb6d8ee2-e481-468d-b19d-5824738c828b",
   "metadata": {},
   "outputs": [],
   "source": [
    "emails = pd.read_csv(\"paul_allen_sent_emails.csv\")"
   ]
  },
  {
   "cell_type": "code",
   "execution_count": 15,
   "id": "d0bc8f83-970a-406f-af0a-1bbc0b3da48c",
   "metadata": {},
   "outputs": [
    {
     "data": {
      "text/html": [
       "<div>\n",
       "<style scoped>\n",
       "    .dataframe tbody tr th:only-of-type {\n",
       "        vertical-align: middle;\n",
       "    }\n",
       "\n",
       "    .dataframe tbody tr th {\n",
       "        vertical-align: top;\n",
       "    }\n",
       "\n",
       "    .dataframe thead th {\n",
       "        text-align: right;\n",
       "    }\n",
       "</style>\n",
       "<table border=\"1\" class=\"dataframe\">\n",
       "  <thead>\n",
       "    <tr style=\"text-align: right;\">\n",
       "      <th></th>\n",
       "      <th>content</th>\n",
       "      <th>Message-ID</th>\n",
       "      <th>Date</th>\n",
       "      <th>Correspondants</th>\n",
       "    </tr>\n",
       "  </thead>\n",
       "  <tbody>\n",
       "    <tr>\n",
       "      <th>0</th>\n",
       "      <td>jeff, i want to bid $2.8 for sagewood with a r...</td>\n",
       "      <td>&lt;13537630.1075855669909.JavaMail.evans@thyme</td>\n",
       "      <td>Mon, 31 Dec 1979 16:00:00 -0800 (PST</td>\n",
       "      <td>Jeff Smith</td>\n",
       "    </tr>\n",
       "    <tr>\n",
       "      <th>1</th>\n",
       "      <td>attached is the systems wish list for the gas ...</td>\n",
       "      <td>&lt;27903020.1075855669931.JavaMail.evans@thyme</td>\n",
       "      <td>Mon, 31 Dec 1979 16:00:00 -0800 (PST</td>\n",
       "      <td>John J Lavorato, Beth Perlman, Hunter S Shivel...</td>\n",
       "    </tr>\n",
       "    <tr>\n",
       "      <th>2</th>\n",
       "      <td>how is your racing going? what category are yo...</td>\n",
       "      <td>&lt;12929996.1075855668941.JavaMail.evans@thyme</td>\n",
       "      <td>Mon, 31 Dec 1979 16:00:00 -0800 (PST</td>\n",
       "      <td>muller@thedoghousemail.co</td>\n",
       "    </tr>\n",
       "    <tr>\n",
       "      <th>3</th>\n",
       "      <td>eol report for tv in conference on 33 cash -he...</td>\n",
       "      <td>&lt;29770699.1075855669609.JavaMail.evans@thyme</td>\n",
       "      <td>Mon, 31 Dec 1979 16:00:00 -0800 (PST</td>\n",
       "      <td>Stephen Harrington, Mar</td>\n",
       "    </tr>\n",
       "    <tr>\n",
       "      <th>4</th>\n",
       "      <td>mary, it is ok to buy a carpet shampooer. abou...</td>\n",
       "      <td>&lt;17449361.1075855672476.JavaMail.evans@thyme</td>\n",
       "      <td>Mon, 31 Dec 1979 16:00:00 -0800 (PST</td>\n",
       "      <td>mary richards</td>\n",
       "    </tr>\n",
       "    <tr>\n",
       "      <th>...</th>\n",
       "      <td>...</td>\n",
       "      <td>...</td>\n",
       "      <td>...</td>\n",
       "      <td>...</td>\n",
       "    </tr>\n",
       "    <tr>\n",
       "      <th>391</th>\n",
       "      <td>can you guys coordinate to make sure someone l...</td>\n",
       "      <td>&lt;2313514.1075855693911.JavaMail.evans@thyme</td>\n",
       "      <td>Mon, 7 May 2001 02:28:00 -0700 (PDT</td>\n",
       "      <td>Matthew Lenhart, Jay Reitmeyer, Matt Smit</td>\n",
       "    </tr>\n",
       "    <tr>\n",
       "      <th>392</th>\n",
       "      <td>the west desk would like 2 analysts.</td>\n",
       "      <td>&lt;10598636.1075855693867.JavaMail.evans@thyme</td>\n",
       "      <td>Wed, 9 May 2001 05:13:00 -0700 (PDT</td>\n",
       "      <td>John J Lavorat</td>\n",
       "    </tr>\n",
       "    <tr>\n",
       "      <th>393</th>\n",
       "      <td>jeff, jacques craig will draw up a release. wh...</td>\n",
       "      <td>&lt;5195408.1075855693846.JavaMail.evans@thyme</td>\n",
       "      <td>Thu, 10 May 2001 00:50:00 -0700 (PDT</td>\n",
       "      <td>jsmith@austintx.co</td>\n",
       "    </tr>\n",
       "    <tr>\n",
       "      <th>394</th>\n",
       "      <td>let me know when you get the quotes from pauli...</td>\n",
       "      <td>&lt;7510478.1075855693794.JavaMail.evans@thyme</td>\n",
       "      <td>Thu, 10 May 2001 23:26:00 -0700 (PDT</td>\n",
       "      <td>jsmith@austintx.co</td>\n",
       "    </tr>\n",
       "    <tr>\n",
       "      <th>395</th>\n",
       "      <td>here is our forecast</td>\n",
       "      <td>&lt;20840552.1075855693485.JavaMail.evans@thyme</td>\n",
       "      <td>Mon, 14 May 2001 06:39:00 -0700 (PDT</td>\n",
       "      <td>Tim Belde</td>\n",
       "    </tr>\n",
       "  </tbody>\n",
       "</table>\n",
       "<p>396 rows × 4 columns</p>\n",
       "</div>"
      ],
      "text/plain": [
       "                                               content  \\\n",
       "0    jeff, i want to bid $2.8 for sagewood with a r...   \n",
       "1    attached is the systems wish list for the gas ...   \n",
       "2    how is your racing going? what category are yo...   \n",
       "3    eol report for tv in conference on 33 cash -he...   \n",
       "4    mary, it is ok to buy a carpet shampooer. abou...   \n",
       "..                                                 ...   \n",
       "391  can you guys coordinate to make sure someone l...   \n",
       "392               the west desk would like 2 analysts.   \n",
       "393  jeff, jacques craig will draw up a release. wh...   \n",
       "394  let me know when you get the quotes from pauli...   \n",
       "395                               here is our forecast   \n",
       "\n",
       "                                       Message-ID  \\\n",
       "0    <13537630.1075855669909.JavaMail.evans@thyme   \n",
       "1    <27903020.1075855669931.JavaMail.evans@thyme   \n",
       "2    <12929996.1075855668941.JavaMail.evans@thyme   \n",
       "3    <29770699.1075855669609.JavaMail.evans@thyme   \n",
       "4    <17449361.1075855672476.JavaMail.evans@thyme   \n",
       "..                                            ...   \n",
       "391   <2313514.1075855693911.JavaMail.evans@thyme   \n",
       "392  <10598636.1075855693867.JavaMail.evans@thyme   \n",
       "393   <5195408.1075855693846.JavaMail.evans@thyme   \n",
       "394   <7510478.1075855693794.JavaMail.evans@thyme   \n",
       "395  <20840552.1075855693485.JavaMail.evans@thyme   \n",
       "\n",
       "                                     Date  \\\n",
       "0    Mon, 31 Dec 1979 16:00:00 -0800 (PST   \n",
       "1    Mon, 31 Dec 1979 16:00:00 -0800 (PST   \n",
       "2    Mon, 31 Dec 1979 16:00:00 -0800 (PST   \n",
       "3    Mon, 31 Dec 1979 16:00:00 -0800 (PST   \n",
       "4    Mon, 31 Dec 1979 16:00:00 -0800 (PST   \n",
       "..                                    ...   \n",
       "391   Mon, 7 May 2001 02:28:00 -0700 (PDT   \n",
       "392   Wed, 9 May 2001 05:13:00 -0700 (PDT   \n",
       "393  Thu, 10 May 2001 00:50:00 -0700 (PDT   \n",
       "394  Thu, 10 May 2001 23:26:00 -0700 (PDT   \n",
       "395  Mon, 14 May 2001 06:39:00 -0700 (PDT   \n",
       "\n",
       "                                        Correspondants  \n",
       "0                                           Jeff Smith  \n",
       "1    John J Lavorato, Beth Perlman, Hunter S Shivel...  \n",
       "2                            muller@thedoghousemail.co  \n",
       "3                              Stephen Harrington, Mar  \n",
       "4                                        mary richards  \n",
       "..                                                 ...  \n",
       "391          Matthew Lenhart, Jay Reitmeyer, Matt Smit  \n",
       "392                                     John J Lavorat  \n",
       "393                                 jsmith@austintx.co  \n",
       "394                                 jsmith@austintx.co  \n",
       "395                                          Tim Belde  \n",
       "\n",
       "[396 rows x 4 columns]"
      ]
     },
     "execution_count": 15,
     "metadata": {},
     "output_type": "execute_result"
    }
   ],
   "source": [
    "emails"
   ]
  },
  {
   "cell_type": "markdown",
   "id": "0b861b66-a89b-44db-ba1b-e44c416bb52b",
   "metadata": {},
   "source": [
    "# Prompt Engineering"
   ]
  },
  {
   "cell_type": "code",
   "execution_count": 16,
   "id": "72ebb3b1-e11e-42a6-9782-386b64ada179",
   "metadata": {},
   "outputs": [],
   "source": [
    "from jinja2 import Template"
   ]
  },
  {
   "cell_type": "code",
   "execution_count": 17,
   "id": "2144fddb-bc21-41c7-a695-04c82dbffd6b",
   "metadata": {},
   "outputs": [],
   "source": [
    "from textwrap import dedent"
   ]
  },
  {
   "cell_type": "code",
   "execution_count": 18,
   "id": "65463fc7-84b6-4cfe-96c3-cfd8e489111b",
   "metadata": {},
   "outputs": [],
   "source": [
    "from pydantic import BaseModel\n",
    "\n",
    "class GenerateQuestions(BaseModel):\n",
    "    useless_to_recall: bool\n",
    "    questions: list[str]"
   ]
  },
  {
   "cell_type": "code",
   "execution_count": 19,
   "id": "e71c16ec-10f5-4351-bcb9-6d8b97fe6e27",
   "metadata": {},
   "outputs": [],
   "source": [
    "prompt_template = Template(dedent(\"\"\"\\\n",
    "    You are Paul Allen, also known as Phillip Allen, and you sent this email:\n",
    "    \n",
    "    <email>\n",
    "    {{ email_content }}\n",
    "    </email>\n",
    "    \n",
    "   Task:\n",
    "   Generate questions to recall the details of the email. Only generate questions if the email content is useful to recall.\n",
    "\n",
    "   Guidelines:\n",
    "   - \"Useful to recall\" means the email contains specific details, facts, or information that are important for later retrieval. Exeamples include figures, dates, instructions, terms or critical decisions.\n",
    "   - An email is \"useless to recall\" if:\n",
    "     - It references external content (e.g., attachments) without providing details within the email itself.\n",
    "     - It is vague or incomplete, lacking sufficient information to form meaningful questions.\n",
    "     - The content is trivial, casual, or irrelevant, such as personal inquiries, greetings, or non-substantive commentary.\n",
    "     - The email discusses routine or obvious information that doesn't need to be remembered for future reference.\n",
    "   - If the email is \"useless to recall\", set \"useless_to_recall\": true and do not generate any questions.\n",
    "\n",
    "   Output in JSON:\n",
    "   ```json\n",
    "   {\n",
    "       \"useless_to_recall\": boolean,\n",
    "       \"questions\": [\"string 1\", \"string 2\", ...]\n",
    "   }\n",
    "   ```\n",
    "\"\"\"))"
   ]
  },
  {
   "cell_type": "markdown",
   "id": "952c11be-f0d0-4455-9825-5be2b20a91dc",
   "metadata": {},
   "source": [
    "# Iterate on the prompt"
   ]
  },
  {
   "cell_type": "code",
   "execution_count": 20,
   "id": "e064a684-7c61-43c9-932f-91dec22740a4",
   "metadata": {},
   "outputs": [],
   "source": [
    "email = emails.iloc[0]"
   ]
  },
  {
   "cell_type": "code",
   "execution_count": 21,
   "id": "24a07a4b-5361-4f1e-9f3d-7b06a966b904",
   "metadata": {},
   "outputs": [
    {
     "data": {
      "text/plain": [
       "'jeff, i want to bid $2.8 for sagewood with a rate 8.5% or less and dependent on 30 year term'"
      ]
     },
     "execution_count": 21,
     "metadata": {},
     "output_type": "execute_result"
    }
   ],
   "source": [
    "email.content"
   ]
  },
  {
   "cell_type": "code",
   "execution_count": 22,
   "id": "6eec04e5-92f7-4e9d-9611-29a14adfe9c6",
   "metadata": {},
   "outputs": [],
   "source": [
    "prompt = prompt_template.render(\n",
    "    email_content=email.content\n",
    ")"
   ]
  },
  {
   "cell_type": "code",
   "execution_count": 23,
   "id": "0a9446c1-81fa-42be-9d37-422cbf177cd6",
   "metadata": {},
   "outputs": [
    {
     "data": {
      "text/plain": [
       "' You are Paul Allen, also known as Phillip Allen, and you sent this email:\\n\\n <email>\\n jeff, i want to bid $2.8 for sagewood with a rate 8.5% or less and dependent on 30 year term\\n </email>\\n\\nTask:\\nGenerate questions to recall the details of the email. Only generate questions if the email content is useful to recall.\\n\\nGuidelines:\\n- \"Useful to recall\" means the email contains specific details, facts, or information that are important for later retrieval. Exeamples include figures, dates, instructions, terms or critical decisions.\\n- An email is \"useless to recall\" if:\\n  - It references external content (e.g., attachments) without providing details within the email itself.\\n  - It is vague or incomplete, lacking sufficient information to form meaningful questions.\\n  - The content is trivial, casual, or irrelevant, such as personal inquiries, greetings, or non-substantive commentary.\\n  - The email discusses routine or obvious information that doesn\\'t need to be remembered for future reference.\\n- If the email is \"useless to recall\", set \"useless_to_recall\": true and do not generate any questions.\\n\\nOutput in JSON:\\n```json\\n{\\n    \"useless_to_recall\": boolean,\\n    \"questions\": [\"string 1\", \"string 2\", ...]\\n}\\n```'"
      ]
     },
     "execution_count": 23,
     "metadata": {},
     "output_type": "execute_result"
    }
   ],
   "source": [
    "prompt"
   ]
  },
  {
   "cell_type": "code",
   "execution_count": 24,
   "id": "fe1d67d6-d08a-42f3-8cb7-428751cfb5dc",
   "metadata": {},
   "outputs": [],
   "source": [
    "MODEL = GPT4O_MINI"
   ]
  },
  {
   "cell_type": "code",
   "execution_count": 25,
   "id": "d1fe8639-24e3-4623-b912-24abc937a2a9",
   "metadata": {},
   "outputs": [],
   "source": [
    "completion = await cached_chat_completion_parsed_with_retry(\n",
    "    model=MODEL,\n",
    "    messages=[user(prompt)],\n",
    "    response_format=GenerateQuestions\n",
    ")"
   ]
  },
  {
   "cell_type": "code",
   "execution_count": 26,
   "id": "20310750-a197-4920-97de-fe19c813d381",
   "metadata": {},
   "outputs": [
    {
     "data": {
      "text/plain": [
       "['What is the bid amount Paul Allen is proposing for Sagewood?',\n",
       " 'What interest rate is Paul Allen requesting for the bid?',\n",
       " 'What is the term length specified in the email regarding the bid?']"
      ]
     },
     "execution_count": 26,
     "metadata": {},
     "output_type": "execute_result"
    }
   ],
   "source": [
    "completion.choices[0].message.parsed.questions"
   ]
  },
  {
   "cell_type": "code",
   "execution_count": 27,
   "id": "fb9cb602-e255-44c2-bf4e-85ff97aa46bc",
   "metadata": {},
   "outputs": [],
   "source": [
    "async def try_the_prompt(i):\n",
    "    email = emails.iloc[i]\n",
    "    prompt = prompt_template.render(\n",
    "        email_content=email.content\n",
    "    )\n",
    "    \n",
    "    completion = await cached_chat_completion_parsed_with_retry(\n",
    "        model=MODEL,\n",
    "        messages=[user(prompt)],\n",
    "        response_format=GenerateQuestions\n",
    "    )\n",
    "    \n",
    "    return completion.choices[0].message.parsed, email.content"
   ]
  },
  {
   "cell_type": "code",
   "execution_count": 28,
   "id": "383fcedf-b988-4347-9779-89585b472b0c",
   "metadata": {},
   "outputs": [],
   "source": [
    "r, e = await try_the_prompt(1)"
   ]
  },
  {
   "cell_type": "code",
   "execution_count": 29,
   "id": "42ba4e2e-3884-4672-9d55-bc23734502a5",
   "metadata": {},
   "outputs": [
    {
     "data": {
      "text/plain": [
       "'attached is the systems wish list for the gas basis and physical trading'"
      ]
     },
     "execution_count": 29,
     "metadata": {},
     "output_type": "execute_result"
    }
   ],
   "source": [
    "e"
   ]
  },
  {
   "cell_type": "code",
   "execution_count": 30,
   "id": "5399baf1-82b6-4592-8178-a89274d53ec3",
   "metadata": {},
   "outputs": [
    {
     "data": {
      "text/plain": [
       "[]"
      ]
     },
     "execution_count": 30,
     "metadata": {},
     "output_type": "execute_result"
    }
   ],
   "source": [
    "r.questions"
   ]
  },
  {
   "cell_type": "code",
   "execution_count": 31,
   "id": "aa161898-6a3f-42eb-bda0-fe02ede4240e",
   "metadata": {},
   "outputs": [
    {
     "data": {
      "text/plain": [
       "True"
      ]
     },
     "execution_count": 31,
     "metadata": {},
     "output_type": "execute_result"
    }
   ],
   "source": [
    "r.useless_to_recall"
   ]
  },
  {
   "cell_type": "markdown",
   "id": "47077ce7-d907-49fd-825a-610f825fa3e9",
   "metadata": {},
   "source": [
    "### notes on what we don't like in the inputs\n",
    "\n",
    "'attached is the systems wish list for the gas basis and physical trading' -> useless because we don't have access to the attachment\n",
    "'how is your racing going? what category are you up to? i' -> generated ['How is your racing going?', 'What category are you up to?']: bad questions (it is useless to recall this)"
   ]
  },
  {
   "cell_type": "markdown",
   "id": "5cde9a23-e3e4-4f80-8d01-c791e3b4f65f",
   "metadata": {},
   "source": [
    "# Batching calls"
   ]
  },
  {
   "cell_type": "markdown",
   "id": "0bff1688-7044-42bb-9c3a-6e2e06bf67b9",
   "metadata": {},
   "source": [
    "## Create the task function"
   ]
  },
  {
   "cell_type": "code",
   "execution_count": 32,
   "id": "35b89bc9-ef8c-494b-8d12-f2f5ead36dc3",
   "metadata": {},
   "outputs": [],
   "source": [
    "import traceback\n",
    "\n",
    "async def try_the_prompt(i):\n",
    "    email = emails.iloc[i]\n",
    "    prompt = prompt_template.render(\n",
    "        email_content=email.content\n",
    "    )\n",
    "    \n",
    "    completion = await cached_chat_completion_parsed_with_retry(\n",
    "        model=MODEL,\n",
    "        messages=[user(prompt)],\n",
    "        response_format=GenerateQuestions\n",
    "    )\n",
    "    \n",
    "    return completion.choices[0].message.parsed, email.content\n",
    "\n",
    "async def maybe_try_the_prompt(i):\n",
    "    try:\n",
    "        return await try_the_prompt(i)\n",
    "    except Exception as e:\n",
    "        return(i, e, traceback.format_exc())"
   ]
  },
  {
   "cell_type": "code",
   "execution_count": 33,
   "id": "017d0ebb-08e2-4721-8208-b98251c95d58",
   "metadata": {},
   "outputs": [],
   "source": [
    "tasks = [maybe_try_the_prompt(i) for i in range(10)]\n",
    "\n",
    "results = await asyncio.gather(*tasks)"
   ]
  },
  {
   "cell_type": "code",
   "execution_count": 34,
   "id": "d0b2e749-d21d-4019-8d9b-01dfaeed609a",
   "metadata": {},
   "outputs": [
    {
     "data": {
      "text/plain": [
       "'len(failed)=0, len(results)=10'"
      ]
     },
     "execution_count": 34,
     "metadata": {},
     "output_type": "execute_result"
    }
   ],
   "source": [
    "failed = [r for r in results if isinstance(r[0], int)]\n",
    "f\"{len(failed)=}, {len(results)=}\""
   ]
  },
  {
   "cell_type": "code",
   "execution_count": 35,
   "id": "b5b3e80d-bf38-44a4-b532-22bfd956d5b6",
   "metadata": {},
   "outputs": [
    {
     "data": {
      "text/plain": [
       "[(GenerateQuestions(useless_to_recall=False, questions=['What is the bid amount Paul Allen is proposing for Sagewood?', 'What interest rate is Paul Allen requesting for the bid?', 'What is the term length specified in the email regarding the bid?']),\n",
       "  'jeff, i want to bid $2.8 for sagewood with a rate 8.5% or less and dependent on 30 year term'),\n",
       " (GenerateQuestions(useless_to_recall=True, questions=[]),\n",
       "  'attached is the systems wish list for the gas basis and physical trading'),\n",
       " (GenerateQuestions(useless_to_recall=True, questions=[]),\n",
       "  'how is your racing going? what category are you up to? i'),\n",
       " (GenerateQuestions(useless_to_recall=False, questions=['What is the significance of the EOL report mentioned in the email?', \"What does 'tv in conference' refer to in this context?\", \"What does '33 cash' indicate regarding the report?\", 'Can you elaborate on the locations mentioned: hehub, Chicago, pepl, Katy, and waha?', \"What time frame does 'prompt month' refer to in relation to 'nymex'?\"]),\n",
       "  'eol report for tv in conference on 33 cash -hehub -chicago -pepl -katy -waha prompt month nymex'),\n",
       " (GenerateQuestions(useless_to_recall=False, questions=['What decision was made regarding the carpet shampooer?', 'What is the context or status of the W-2s mentioned in the email?', 'What additional information about the W-2s does Mary need to provide?', 'Is there a deadline for addressing the W-2s mentioned in the email?']),\n",
       "  \"mary, it is ok to buy a carpet shampooer. about the w-2's, how would you\"),\n",
       " (GenerateQuestions(useless_to_recall=True, questions=[]),\n",
       "  'scott, thanks for the email. i have two questions: 1. the'),\n",
       " (GenerateQuestions(useless_to_recall=False, questions=['Who are the two analysts mentioned in the email?', 'Which analyst is represented by Jeff Shankman?', 'When did Vishal Apte join the group?', 'What group was Vishal Apte in for the first nine months?', \"Who did Paul Allen speak to about Vishal's performance rating?\", 'What performance category was agreed upon for Vishal Apte?', \"Why does Paul Allen express concern about Vishal Apte's representation?\"]),\n",
       "  \"naomi, the two analysts that i have had contact with are matt lenhart and vishal apte. matt will be represented by jeff shankman. vishal joined our group in october. he was in the power trading group for the first 9 months. i spoke to jim fallon and we agreed that he should be in the excellent category. i just don't want vishal to go unrepresented since he changed groups mid year. call me with questions.(x37041) phillip allen west gas trading\"),\n",
       " (GenerateQuestions(useless_to_recall=True, questions=[]),\n",
       "  'what did mary write? stage misses you? i sent 2 emails. maybe mary is stalking gary'),\n",
       " (GenerateQuestions(useless_to_recall=True, questions=[]),\n",
       "  'received the file. it worked. good job.'),\n",
       " (GenerateQuestions(useless_to_recall=False, questions=['Who is the recipient of the email?', 'What date was the email sent?', 'What was the issue with the email received by Mary?', 'What action does Phillip request regarding the email to Mary?', 'What specific message was missing from the email sent to Mary?']),\n",
       "  'mary received an email from you on 1/7, but there was no message. please try again. phillip')]"
      ]
     },
     "execution_count": 35,
     "metadata": {},
     "output_type": "execute_result"
    }
   ],
   "source": [
    "results"
   ]
  },
  {
   "cell_type": "code",
   "execution_count": 36,
   "id": "4b4c2e15-47f5-40d3-a9a2-844069d5fea8",
   "metadata": {},
   "outputs": [],
   "source": [
    "from pprint import pprint"
   ]
  },
  {
   "cell_type": "code",
   "execution_count": null,
   "id": "4917a614-54b7-413a-88f0-43dbb31698a0",
   "metadata": {},
   "outputs": [],
   "source": []
  },
  {
   "cell_type": "code",
   "execution_count": 37,
   "id": "5876036b-9ffe-4647-be1a-e2c76f9a9fce",
   "metadata": {},
   "outputs": [
    {
     "name": "stdout",
     "output_type": "stream",
     "text": [
      "[('jeff, i want to bid $2.8 for sagewood with a rate 8.5% or less and '\n",
      "  'dependent on 30 year term',\n",
      "  {'questions': ['What is the bid amount Paul Allen is proposing for Sagewood?',\n",
      "                 'What interest rate is Paul Allen requesting for the bid?',\n",
      "                 'What is the term length specified in the email regarding the '\n",
      "                 'bid?'],\n",
      "   'useless_to_recall': False}),\n",
      " ('attached is the systems wish list for the gas basis and physical trading',\n",
      "  {'questions': [], 'useless_to_recall': True}),\n",
      " ('how is your racing going? what category are you up to? i',\n",
      "  {'questions': [], 'useless_to_recall': True}),\n",
      " ('eol report for tv in conference on 33 cash -hehub -chicago -pepl -katy '\n",
      "  '-waha prompt month nymex',\n",
      "  {'questions': ['What is the significance of the EOL report mentioned in the '\n",
      "                 'email?',\n",
      "                 \"What does 'tv in conference' refer to in this context?\",\n",
      "                 \"What does '33 cash' indicate regarding the report?\",\n",
      "                 'Can you elaborate on the locations mentioned: hehub, '\n",
      "                 'Chicago, pepl, Katy, and waha?',\n",
      "                 \"What time frame does 'prompt month' refer to in relation to \"\n",
      "                 \"'nymex'?\"],\n",
      "   'useless_to_recall': False}),\n",
      " (\"mary, it is ok to buy a carpet shampooer. about the w-2's, how would you\",\n",
      "  {'questions': ['What decision was made regarding the carpet shampooer?',\n",
      "                 'What is the context or status of the W-2s mentioned in the '\n",
      "                 'email?',\n",
      "                 'What additional information about the W-2s does Mary need to '\n",
      "                 'provide?',\n",
      "                 'Is there a deadline for addressing the W-2s mentioned in the '\n",
      "                 'email?'],\n",
      "   'useless_to_recall': False}),\n",
      " ('scott, thanks for the email. i have two questions: 1. the',\n",
      "  {'questions': [], 'useless_to_recall': True}),\n",
      " ('naomi, the two analysts that i have had contact with are matt lenhart and '\n",
      "  'vishal apte. matt will be represented by jeff shankman. vishal joined our '\n",
      "  'group in october. he was in the power trading group for the first 9 months. '\n",
      "  'i spoke to jim fallon and we agreed that he should be in the excellent '\n",
      "  \"category. i just don't want vishal to go unrepresented since he changed \"\n",
      "  'groups mid year. call me with questions.(x37041) phillip allen west gas '\n",
      "  'trading',\n",
      "  {'questions': ['Who are the two analysts mentioned in the email?',\n",
      "                 'Which analyst is represented by Jeff Shankman?',\n",
      "                 'When did Vishal Apte join the group?',\n",
      "                 'What group was Vishal Apte in for the first nine months?',\n",
      "                 \"Who did Paul Allen speak to about Vishal's performance \"\n",
      "                 'rating?',\n",
      "                 'What performance category was agreed upon for Vishal Apte?',\n",
      "                 \"Why does Paul Allen express concern about Vishal Apte's \"\n",
      "                 'representation?'],\n",
      "   'useless_to_recall': False}),\n",
      " ('what did mary write? stage misses you? i sent 2 emails. maybe mary is '\n",
      "  'stalking gary',\n",
      "  {'questions': [], 'useless_to_recall': True}),\n",
      " ('received the file. it worked. good job.',\n",
      "  {'questions': [], 'useless_to_recall': True}),\n",
      " ('mary received an email from you on 1/7, but there was no message. please '\n",
      "  'try again. phillip',\n",
      "  {'questions': ['Who is the recipient of the email?',\n",
      "                 'What date was the email sent?',\n",
      "                 'What was the issue with the email received by Mary?',\n",
      "                 'What action does Phillip request regarding the email to '\n",
      "                 'Mary?',\n",
      "                 'What specific message was missing from the email sent to '\n",
      "                 'Mary?'],\n",
      "   'useless_to_recall': False})]\n"
     ]
    }
   ],
   "source": [
    "pprint([(r[1], r[0].model_dump()) for r in results])"
   ]
  },
  {
   "cell_type": "markdown",
   "id": "526a317d-8ad2-470e-ae08-cbaa3f5e6081",
   "metadata": {},
   "source": [
    "# Run against the full dataset"
   ]
  },
  {
   "cell_type": "code",
   "execution_count": 38,
   "id": "3e873491-2bba-4c5a-bbfc-daa84431e797",
   "metadata": {},
   "outputs": [],
   "source": [
    "tasks = [maybe_try_the_prompt(i) for i in range(20)]\n",
    "\n",
    "results = await asyncio.gather(*tasks)"
   ]
  },
  {
   "cell_type": "code",
   "execution_count": 39,
   "id": "dc3efa52-9d95-426d-b82e-78cc74a61813",
   "metadata": {},
   "outputs": [],
   "source": [
    "from tqdm.notebook import tqdm\n",
    "from tqdm.asyncio import tqdm_asyncio"
   ]
  },
  {
   "cell_type": "code",
   "execution_count": 40,
   "id": "23dc4105-c922-45bb-b40e-3e4f94879acd",
   "metadata": {},
   "outputs": [
    {
     "name": "stderr",
     "output_type": "stream",
     "text": [
      "100%|██████████| 396/396 [00:00<00:00, 943.48it/s] \n"
     ]
    }
   ],
   "source": [
    "tasks = [maybe_try_the_prompt(i) for i in range(len(emails))]\n",
    "\n",
    "results = await tqdm_asyncio.gather(*tasks)"
   ]
  },
  {
   "cell_type": "code",
   "execution_count": 41,
   "id": "c85a5a4f-81f0-4aac-9234-0c555893191f",
   "metadata": {},
   "outputs": [
    {
     "data": {
      "text/plain": [
       "'len(failed)=0, len(results)=396'"
      ]
     },
     "execution_count": 41,
     "metadata": {},
     "output_type": "execute_result"
    }
   ],
   "source": [
    "failed = [r for r in results if isinstance(r[0], int)]\n",
    "f\"{len(failed)=}, {len(results)=}\""
   ]
  },
  {
   "cell_type": "code",
   "execution_count": 42,
   "id": "22514197-edbc-4420-9f0d-51bedfb5836d",
   "metadata": {},
   "outputs": [
    {
     "data": {
      "text/plain": [
       "(GenerateQuestions(useless_to_recall=False, questions=['What is the bid amount Paul Allen is proposing for Sagewood?', 'What interest rate is Paul Allen requesting for the bid?', 'What is the term length specified in the email regarding the bid?']),\n",
       " 'jeff, i want to bid $2.8 for sagewood with a rate 8.5% or less and dependent on 30 year term')"
      ]
     },
     "execution_count": 42,
     "metadata": {},
     "output_type": "execute_result"
    }
   ],
   "source": [
    "results[0]"
   ]
  },
  {
   "cell_type": "markdown",
   "id": "2d2e74b1-c352-45cb-ae9c-146b3fe82949",
   "metadata": {},
   "source": [
    "## join with email and save"
   ]
  },
  {
   "cell_type": "code",
   "execution_count": 43,
   "id": "3483098f-d204-43c3-8310-47cd4cab11da",
   "metadata": {},
   "outputs": [],
   "source": [
    "col_useless_to_recall = []\n",
    "col_questions = []\n",
    "\n",
    "for (generated_questions, _) in results:\n",
    "    col_useless_to_recall.append(generated_questions.useless_to_recall)\n",
    "    col_questions.append(generated_questions.questions)"
   ]
  },
  {
   "cell_type": "code",
   "execution_count": 44,
   "id": "50a09e57-eee1-4b12-913c-ca0d51adefbe",
   "metadata": {},
   "outputs": [
    {
     "data": {
      "text/plain": [
       "396"
      ]
     },
     "execution_count": 44,
     "metadata": {},
     "output_type": "execute_result"
    }
   ],
   "source": [
    "len(col_questions)"
   ]
  },
  {
   "cell_type": "code",
   "execution_count": 45,
   "id": "d65e7d91-bef5-40dd-801a-d4dd4016f76b",
   "metadata": {},
   "outputs": [
    {
     "data": {
      "text/plain": [
       "396"
      ]
     },
     "execution_count": 45,
     "metadata": {},
     "output_type": "execute_result"
    }
   ],
   "source": [
    "len(col_useless_to_recall)"
   ]
  },
  {
   "cell_type": "code",
   "execution_count": 46,
   "id": "e4798813-e3a4-4533-b8ed-558762b86046",
   "metadata": {},
   "outputs": [
    {
     "data": {
      "text/plain": [
       "396"
      ]
     },
     "execution_count": 46,
     "metadata": {},
     "output_type": "execute_result"
    }
   ],
   "source": [
    "len(emails)"
   ]
  },
  {
   "cell_type": "code",
   "execution_count": 47,
   "id": "80b2411f-12a1-465d-b6ad-e1333e971996",
   "metadata": {},
   "outputs": [],
   "source": [
    "emails['useless_to_recall'] = col_useless_to_recall"
   ]
  },
  {
   "cell_type": "code",
   "execution_count": 48,
   "id": "1ba71fb6-4116-45f3-aad4-0386c60b6136",
   "metadata": {},
   "outputs": [],
   "source": [
    "emails['questions'] = col_questions"
   ]
  },
  {
   "cell_type": "code",
   "execution_count": 49,
   "id": "a4a90f05-9793-4b77-8f09-8e151a2a3878",
   "metadata": {},
   "outputs": [],
   "source": [
    "emails.to_csv('paul_allen_sent_email_with_questions_v1.csv', index=False)"
   ]
  },
  {
   "cell_type": "code",
   "execution_count": null,
   "id": "9f44361f-d123-4b45-8f9b-09bc6a863eff",
   "metadata": {},
   "outputs": [],
   "source": []
  },
  {
   "cell_type": "code",
   "execution_count": null,
   "id": "b3da8a8f-6bc9-4b31-88b5-46a855081acc",
   "metadata": {},
   "outputs": [],
   "source": []
  }
 ],
 "metadata": {
  "kernelspec": {
   "display_name": "rag-course",
   "language": "python",
   "name": "rag-course"
  },
  "language_info": {
   "codemirror_mode": {
    "name": "ipython",
    "version": 3
   },
   "file_extension": ".py",
   "mimetype": "text/x-python",
   "name": "python",
   "nbconvert_exporter": "python",
   "pygments_lexer": "ipython3",
   "version": "3.12.11"
  }
 },
 "nbformat": 4,
 "nbformat_minor": 5
}
