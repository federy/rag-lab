{
 "cells": [
  {
   "cell_type": "markdown",
   "id": "e91fee8c-293e-4c7c-83d6-cda3e0d6a830",
   "metadata": {},
   "source": [
    "<h1>Load API Keys</h1>"
   ]
  },
  {
   "cell_type": "code",
   "execution_count": 1,
   "id": "46e94240-2c02-4d6f-a7ca-5706c0f2b160",
   "metadata": {},
   "outputs": [],
   "source": [
    "from dotenv import load_dotenv"
   ]
  },
  {
   "cell_type": "code",
   "execution_count": 2,
   "id": "bd51bd99-de7f-46ff-88f1-3d6007e159ff",
   "metadata": {},
   "outputs": [
    {
     "data": {
      "text/plain": [
       "True"
      ]
     },
     "execution_count": 2,
     "metadata": {},
     "output_type": "execute_result"
    }
   ],
   "source": [
    "load_dotenv()"
   ]
  },
  {
   "cell_type": "code",
   "execution_count": null,
   "id": "28369eff-68f9-4b5d-9f28-1dbd59fa317e",
   "metadata": {},
   "outputs": [],
   "source": []
  }
 ],
 "metadata": {
  "kernelspec": {
   "display_name": "rag-course",
   "language": "python",
   "name": "rag-course"
  },
  "language_info": {
   "codemirror_mode": {
    "name": "ipython",
    "version": 3
   },
   "file_extension": ".py",
   "mimetype": "text/x-python",
   "name": "python",
   "nbconvert_exporter": "python",
   "pygments_lexer": "ipython3",
   "version": "3.12.11"
  }
 },
 "nbformat": 4,
 "nbformat_minor": 5
}
