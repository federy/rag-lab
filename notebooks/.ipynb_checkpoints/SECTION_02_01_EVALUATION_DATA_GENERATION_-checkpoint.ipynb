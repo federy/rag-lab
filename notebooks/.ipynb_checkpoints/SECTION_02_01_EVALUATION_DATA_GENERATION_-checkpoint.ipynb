{
 "cells": [
  {
   "cell_type": "markdown",
   "id": "892105ce-f8b6-4cd5-80c8-0abca5987b05",
   "metadata": {},
   "source": [
    "# Load API Keys"
   ]
  },
  {
   "cell_type": "code",
   "execution_count": 1,
   "id": "82b38784-25e1-46d8-8d18-26181922d170",
   "metadata": {},
   "outputs": [
    {
     "data": {
      "text/plain": [
       "True"
      ]
     },
     "execution_count": 1,
     "metadata": {},
     "output_type": "execute_result"
    }
   ],
   "source": [
    "from dotenv import load_dotenv\n",
    "\n",
    "load_dotenv()"
   ]
  },
  {
   "cell_type": "markdown",
   "id": "5b1b8d13-009e-4589-a593-215b90675e31",
   "metadata": {},
   "source": [
    "# Tracing"
   ]
  },
  {
   "cell_type": "code",
   "execution_count": 2,
   "id": "4e223b2f-4045-446a-8393-f678211a26a1",
   "metadata": {},
   "outputs": [],
   "source": [
    "from langfuse.openai import AsyncOpenAI  # autoinstrmenttion"
   ]
  },
  {
   "cell_type": "markdown",
   "id": "abdbf19d-9643-464a-9645-893865380296",
   "metadata": {},
   "source": [
    "# Setup LLM Call Helpers"
   ]
  },
  {
   "cell_type": "code",
   "execution_count": 3,
   "id": "4cff8e79-588c-4586-90ea-fa556824be06",
   "metadata": {},
   "outputs": [],
   "source": [
    "client = AsyncOpenAI()"
   ]
  },
  {
   "cell_type": "code",
   "execution_count": 4,
   "id": "f622e028-248d-411c-be07-ceb07cbb983d",
   "metadata": {},
   "outputs": [],
   "source": [
    "GPT4O_MINI = \"gpt-4o-mini-2024-07-18\""
   ]
  },
  {
   "cell_type": "code",
   "execution_count": 5,
   "id": "ac4177a2-f8d6-4507-b8d0-0a48f1384013",
   "metadata": {},
   "outputs": [],
   "source": [
    "def _msg(role, content):\n",
    "    return {'role': role, 'content': content}\n",
    "\n",
    "def system(content):\n",
    "    return _msg('system', content)\n",
    "\n",
    "def user(content):\n",
    "    return _msg('user', content)\n",
    "\n",
    "def assistant(content):\n",
    "    return _msg('assistant', content)"
   ]
  },
  {
   "cell_type": "markdown",
   "id": "8faf523b-5001-456a-972a-537e9b85bfbd",
   "metadata": {},
   "source": [
    "# Cache System "
   ]
  },
  {
   "cell_type": "code",
   "execution_count": 6,
   "id": "e974b152-059a-4927-af65-ca3e4fad9864",
   "metadata": {},
   "outputs": [],
   "source": [
    "from diskcache import Cache"
   ]
  },
  {
   "cell_type": "code",
   "execution_count": 7,
   "id": "12234460-2cf8-44ae-b47e-299340c3e711",
   "metadata": {},
   "outputs": [],
   "source": [
    "cache = Cache(directory=\".cache_course\")"
   ]
  },
  {
   "cell_type": "code",
   "execution_count": 8,
   "id": "a964f6a8-f2fb-4990-892e-f754d0aee253",
   "metadata": {},
   "outputs": [],
   "source": [
    "import asyncio"
   ]
  },
  {
   "cell_type": "code",
   "execution_count": 9,
   "id": "cce28600-6e67-4857-a970-6dca9ee307bd",
   "metadata": {},
   "outputs": [],
   "source": [
    "async def set_async(key, val, **kwargs):\n",
    "    return await asyncio.to_thread(cache.set, key, val, **kwargs)\n",
    "\n",
    "async def get_async(key, default=None, **kwargs):\n",
    "    return await asyncio.to_thread(cache.get, key, default, **kwargs)"
   ]
  },
  {
   "cell_type": "markdown",
   "id": "2d45d042-aa12-41f8-9415-1b5b98c30a85",
   "metadata": {},
   "source": [
    "# Implementing Cached, Retried and Traced Structured Ouputs completion"
   ]
  },
  {
   "cell_type": "code",
   "execution_count": 10,
   "id": "e834cfcf-56b1-4519-8abf-b7f316b99294",
   "metadata": {},
   "outputs": [],
   "source": [
    "import json\n",
    "from hashlib import md5\n",
    "\n",
    "def make_cache_key(key_name, **kwargs):\n",
    "    kwargs_string = json.dumps(kwargs, sort_keys=True)\n",
    "    kwargs_hash = md5(kwargs_string.encode('utf-8')).hexdigest()\n",
    "    cache_key = f\"{key_name}__{kwargs_hash}\"\n",
    "    return cache_key"
   ]
  },
  {
   "cell_type": "code",
   "execution_count": 11,
   "id": "95eec4f7-c72a-4adc-8226-b769d6742db7",
   "metadata": {},
   "outputs": [],
   "source": [
    "from pydantic import BaseModel\n",
    "\n",
    "def _make_key_for_cached_chat_completion_parsed_with_retry(\n",
    "    *,\n",
    "    model,\n",
    "    messages,\n",
    "    response_format: BaseModel,\n",
    "    **kwargs,\n",
    "):\n",
    "    return make_cache_key(\n",
    "        \"openai_parsed_chat\",\n",
    "        model=model,\n",
    "        messages=messages,\n",
    "        response_format=response_format.model_json_schema(),\n",
    "        **kwargs\n",
    "    )"
   ]
  },
  {
   "cell_type": "code",
   "execution_count": 12,
   "id": "75621a9d-a4ba-46f8-ba63-cf544a12fbbd",
   "metadata": {},
   "outputs": [],
   "source": [
    "from openai.types.chat import ParsedChatCompletion\n",
    "from functools import wraps\n",
    "from openai import APITimeoutError, RateLimitError\n",
    "from pydantic import BaseModel\n",
    "from typing_extensions import TypeVar\n",
    "import backoff\n",
    "\n",
    "ResponseFormatT = TypeVar(\"ResponseFormatT\", bound=BaseModel)\n",
    "\n",
    "CACHE_MISS_SENTINEL = object()\n",
    "\n",
    "\n",
    "@wraps(client.chat.completions.parse)\n",
    "async def cached_chat_completion_parsed_with_retry(\n",
    "    *,\n",
    "    model,\n",
    "    messages,\n",
    "    response_format: ResponseFormatT,\n",
    "    **kwargs,\n",
    ") -> ParsedChatCompletion[ResponseFormatT]:\n",
    "    # CREATE CACHE KEY\n",
    "    cache_key = _make_key_for_cached_chat_completion_parsed_with_retry(\n",
    "        model=model,\n",
    "        messages=messages,\n",
    "        response_format=response_format,\n",
    "        **kwargs\n",
    "    )\n",
    "\n",
    "    cached_value = await get_async(cache_key, default=CACHE_MISS_SENTINEL)\n",
    "    # CACHE MISS\n",
    "    if cached_value is CACHE_MISS_SENTINEL:\n",
    "        @backoff.on_exception(\n",
    "            backoff.expo,\n",
    "            (APITimeoutError, RateLimitError)\n",
    "        )\n",
    "        async def do_call():\n",
    "            return await client.chat.completions.parse(\n",
    "                model=model,\n",
    "                messages=messages,\n",
    "                response_format=response_format,\n",
    "                **kwargs\n",
    "            )\n",
    "        completion = await do_call()\n",
    "        await set_async(cache_key, completion.model_dump_json())\n",
    "        return completion\n",
    "    # CACHE HIT\n",
    "    else:\n",
    "        # TODO: Tracing Code (next section)\n",
    "        # return \n",
    "        completion = ParsedChatCompletion.model_validate(json.loads(cached_value))\n",
    "        for choice in completion.choices:\n",
    "            if not choice.message.refusal:\n",
    "                choice.message.parsed = response_format.model_validate(\n",
    "                    choice.message.parsed\n",
    "                )\n",
    "        return completion\n",
    "        \n",
    "        "
   ]
  },
  {
   "cell_type": "markdown",
   "id": "f4773a04-c0fe-4e74-a78f-650fc5db47cf",
   "metadata": {},
   "source": [
    "# DATA_GENERATION"
   ]
  },
  {
   "cell_type": "markdown",
   "id": "38473841-8156-434d-845f-177cbcab3b82",
   "metadata": {},
   "source": [
    "## Load the Dataset"
   ]
  },
  {
   "cell_type": "code",
   "execution_count": 13,
   "id": "66af2453-2ea2-4986-a0d3-067bb11b5027",
   "metadata": {},
   "outputs": [],
   "source": [
    "import pandas as pd"
   ]
  },
  {
   "cell_type": "code",
   "execution_count": 14,
   "id": "fb6d8ee2-e481-468d-b19d-5824738c828b",
   "metadata": {},
   "outputs": [],
   "source": [
    "emails = pd.read_csv(\"paul_allen_sent_emails.csv\")"
   ]
  },
  {
   "cell_type": "code",
   "execution_count": 15,
   "id": "d0bc8f83-970a-406f-af0a-1bbc0b3da48c",
   "metadata": {},
   "outputs": [
    {
     "data": {
      "text/html": [
       "<div>\n",
       "<style scoped>\n",
       "    .dataframe tbody tr th:only-of-type {\n",
       "        vertical-align: middle;\n",
       "    }\n",
       "\n",
       "    .dataframe tbody tr th {\n",
       "        vertical-align: top;\n",
       "    }\n",
       "\n",
       "    .dataframe thead th {\n",
       "        text-align: right;\n",
       "    }\n",
       "</style>\n",
       "<table border=\"1\" class=\"dataframe\">\n",
       "  <thead>\n",
       "    <tr style=\"text-align: right;\">\n",
       "      <th></th>\n",
       "      <th>content</th>\n",
       "      <th>Message-ID</th>\n",
       "      <th>Date</th>\n",
       "      <th>Correspondants</th>\n",
       "    </tr>\n",
       "  </thead>\n",
       "  <tbody>\n",
       "    <tr>\n",
       "      <th>0</th>\n",
       "      <td>jeff, i want to bid $2.8 for sagewood with a r...</td>\n",
       "      <td>&lt;13537630.1075855669909.JavaMail.evans@thyme</td>\n",
       "      <td>Mon, 31 Dec 1979 16:00:00 -0800 (PST</td>\n",
       "      <td>Jeff Smith</td>\n",
       "    </tr>\n",
       "    <tr>\n",
       "      <th>1</th>\n",
       "      <td>attached is the systems wish list for the gas ...</td>\n",
       "      <td>&lt;27903020.1075855669931.JavaMail.evans@thyme</td>\n",
       "      <td>Mon, 31 Dec 1979 16:00:00 -0800 (PST</td>\n",
       "      <td>John J Lavorato, Beth Perlman, Hunter S Shivel...</td>\n",
       "    </tr>\n",
       "    <tr>\n",
       "      <th>2</th>\n",
       "      <td>how is your racing going? what category are yo...</td>\n",
       "      <td>&lt;12929996.1075855668941.JavaMail.evans@thyme</td>\n",
       "      <td>Mon, 31 Dec 1979 16:00:00 -0800 (PST</td>\n",
       "      <td>muller@thedoghousemail.co</td>\n",
       "    </tr>\n",
       "    <tr>\n",
       "      <th>3</th>\n",
       "      <td>eol report for tv in conference on 33 cash -he...</td>\n",
       "      <td>&lt;29770699.1075855669609.JavaMail.evans@thyme</td>\n",
       "      <td>Mon, 31 Dec 1979 16:00:00 -0800 (PST</td>\n",
       "      <td>Stephen Harrington, Mar</td>\n",
       "    </tr>\n",
       "    <tr>\n",
       "      <th>4</th>\n",
       "      <td>mary, it is ok to buy a carpet shampooer. abou...</td>\n",
       "      <td>&lt;17449361.1075855672476.JavaMail.evans@thyme</td>\n",
       "      <td>Mon, 31 Dec 1979 16:00:00 -0800 (PST</td>\n",
       "      <td>mary richards</td>\n",
       "    </tr>\n",
       "    <tr>\n",
       "      <th>...</th>\n",
       "      <td>...</td>\n",
       "      <td>...</td>\n",
       "      <td>...</td>\n",
       "      <td>...</td>\n",
       "    </tr>\n",
       "    <tr>\n",
       "      <th>391</th>\n",
       "      <td>can you guys coordinate to make sure someone l...</td>\n",
       "      <td>&lt;2313514.1075855693911.JavaMail.evans@thyme</td>\n",
       "      <td>Mon, 7 May 2001 02:28:00 -0700 (PDT</td>\n",
       "      <td>Matthew Lenhart, Jay Reitmeyer, Matt Smit</td>\n",
       "    </tr>\n",
       "    <tr>\n",
       "      <th>392</th>\n",
       "      <td>the west desk would like 2 analysts.</td>\n",
       "      <td>&lt;10598636.1075855693867.JavaMail.evans@thyme</td>\n",
       "      <td>Wed, 9 May 2001 05:13:00 -0700 (PDT</td>\n",
       "      <td>John J Lavorat</td>\n",
       "    </tr>\n",
       "    <tr>\n",
       "      <th>393</th>\n",
       "      <td>jeff, jacques craig will draw up a release. wh...</td>\n",
       "      <td>&lt;5195408.1075855693846.JavaMail.evans@thyme</td>\n",
       "      <td>Thu, 10 May 2001 00:50:00 -0700 (PDT</td>\n",
       "      <td>jsmith@austintx.co</td>\n",
       "    </tr>\n",
       "    <tr>\n",
       "      <th>394</th>\n",
       "      <td>let me know when you get the quotes from pauli...</td>\n",
       "      <td>&lt;7510478.1075855693794.JavaMail.evans@thyme</td>\n",
       "      <td>Thu, 10 May 2001 23:26:00 -0700 (PDT</td>\n",
       "      <td>jsmith@austintx.co</td>\n",
       "    </tr>\n",
       "    <tr>\n",
       "      <th>395</th>\n",
       "      <td>here is our forecast</td>\n",
       "      <td>&lt;20840552.1075855693485.JavaMail.evans@thyme</td>\n",
       "      <td>Mon, 14 May 2001 06:39:00 -0700 (PDT</td>\n",
       "      <td>Tim Belde</td>\n",
       "    </tr>\n",
       "  </tbody>\n",
       "</table>\n",
       "<p>396 rows × 4 columns</p>\n",
       "</div>"
      ],
      "text/plain": [
       "                                               content  \\\n",
       "0    jeff, i want to bid $2.8 for sagewood with a r...   \n",
       "1    attached is the systems wish list for the gas ...   \n",
       "2    how is your racing going? what category are yo...   \n",
       "3    eol report for tv in conference on 33 cash -he...   \n",
       "4    mary, it is ok to buy a carpet shampooer. abou...   \n",
       "..                                                 ...   \n",
       "391  can you guys coordinate to make sure someone l...   \n",
       "392               the west desk would like 2 analysts.   \n",
       "393  jeff, jacques craig will draw up a release. wh...   \n",
       "394  let me know when you get the quotes from pauli...   \n",
       "395                               here is our forecast   \n",
       "\n",
       "                                       Message-ID  \\\n",
       "0    <13537630.1075855669909.JavaMail.evans@thyme   \n",
       "1    <27903020.1075855669931.JavaMail.evans@thyme   \n",
       "2    <12929996.1075855668941.JavaMail.evans@thyme   \n",
       "3    <29770699.1075855669609.JavaMail.evans@thyme   \n",
       "4    <17449361.1075855672476.JavaMail.evans@thyme   \n",
       "..                                            ...   \n",
       "391   <2313514.1075855693911.JavaMail.evans@thyme   \n",
       "392  <10598636.1075855693867.JavaMail.evans@thyme   \n",
       "393   <5195408.1075855693846.JavaMail.evans@thyme   \n",
       "394   <7510478.1075855693794.JavaMail.evans@thyme   \n",
       "395  <20840552.1075855693485.JavaMail.evans@thyme   \n",
       "\n",
       "                                     Date  \\\n",
       "0    Mon, 31 Dec 1979 16:00:00 -0800 (PST   \n",
       "1    Mon, 31 Dec 1979 16:00:00 -0800 (PST   \n",
       "2    Mon, 31 Dec 1979 16:00:00 -0800 (PST   \n",
       "3    Mon, 31 Dec 1979 16:00:00 -0800 (PST   \n",
       "4    Mon, 31 Dec 1979 16:00:00 -0800 (PST   \n",
       "..                                    ...   \n",
       "391   Mon, 7 May 2001 02:28:00 -0700 (PDT   \n",
       "392   Wed, 9 May 2001 05:13:00 -0700 (PDT   \n",
       "393  Thu, 10 May 2001 00:50:00 -0700 (PDT   \n",
       "394  Thu, 10 May 2001 23:26:00 -0700 (PDT   \n",
       "395  Mon, 14 May 2001 06:39:00 -0700 (PDT   \n",
       "\n",
       "                                        Correspondants  \n",
       "0                                           Jeff Smith  \n",
       "1    John J Lavorato, Beth Perlman, Hunter S Shivel...  \n",
       "2                            muller@thedoghousemail.co  \n",
       "3                              Stephen Harrington, Mar  \n",
       "4                                        mary richards  \n",
       "..                                                 ...  \n",
       "391          Matthew Lenhart, Jay Reitmeyer, Matt Smit  \n",
       "392                                     John J Lavorat  \n",
       "393                                 jsmith@austintx.co  \n",
       "394                                 jsmith@austintx.co  \n",
       "395                                          Tim Belde  \n",
       "\n",
       "[396 rows x 4 columns]"
      ]
     },
     "execution_count": 15,
     "metadata": {},
     "output_type": "execute_result"
    }
   ],
   "source": [
    "emails"
   ]
  },
  {
   "cell_type": "markdown",
   "id": "0b861b66-a89b-44db-ba1b-e44c416bb52b",
   "metadata": {},
   "source": [
    "# Prompt Engineering"
   ]
  },
  {
   "cell_type": "code",
   "execution_count": 16,
   "id": "72ebb3b1-e11e-42a6-9782-386b64ada179",
   "metadata": {},
   "outputs": [],
   "source": [
    "from jinja2 import Template"
   ]
  },
  {
   "cell_type": "code",
   "execution_count": 17,
   "id": "2144fddb-bc21-41c7-a695-04c82dbffd6b",
   "metadata": {},
   "outputs": [],
   "source": [
    "from textwrap import dedent"
   ]
  },
  {
   "cell_type": "code",
   "execution_count": 18,
   "id": "65463fc7-84b6-4cfe-96c3-cfd8e489111b",
   "metadata": {},
   "outputs": [],
   "source": [
    "from pydantic import BaseModel\n",
    "\n",
    "class GenerateQuestions(BaseModel):\n",
    "    useless_to_recall: bool\n",
    "    questions: list[str]"
   ]
  },
  {
   "cell_type": "code",
   "execution_count": 19,
   "id": "e71c16ec-10f5-4351-bcb9-6d8b97fe6e27",
   "metadata": {},
   "outputs": [],
   "source": [
    "prompt_template = Template(dedent(\n",
    "    \"\"\"\\\n",
    "    You are Paul Allen, also known as Phillip Allen, and you sent this email:\n",
    "    <email content>\n",
    "    {{ email_content }}\n",
    "    </email content>\n",
    "    \n",
    "    Your task is to generate about 10 questions that you could ask about the email, as if you are trying to remember the specific details mentioned in the email.\n",
    "    \n",
    "    Guidelines:\n",
    "    - ONLY ask questions directly related to the information explicitly mentioned in the email content.\n",
    "    - DO NOT ask clarifying questions or anything that assumes additional information (e.g., \"Who is Sarah?\" or \"What measurement is 15 units referring to?\").\n",
    "    - DO NOT ask speculative questions that involve imagining future actions or decisions (e.g., \"What will be the outcome?\" or \"How might the project progress?\").\n",
    "    - DO NOT ask questions that reference information not contained within the email (e.g., \"Was there a previous discussion about this topic?\" or \"What did John say in his earlier message?\").\n",
    "    - Focus on recalling the exact figures, terms, and conditions mentioned in the email.\n",
    "    \n",
    "    Your output should be in JSON format, using the following schema:\n",
    "    ```json\n",
    "    {\n",
    "        \"useless_to_recall\": boolean\n",
    "        \"questions\": [\"string 1\", \"string 2\", ...]\n",
    "    }\n",
    "    ```\n",
    "    \"\"\"))"
   ]
  },
  {
   "cell_type": "markdown",
   "id": "952c11be-f0d0-4455-9825-5be2b20a91dc",
   "metadata": {},
   "source": [
    "# Iterate on the prompt"
   ]
  },
  {
   "cell_type": "code",
   "execution_count": 20,
   "id": "e064a684-7c61-43c9-932f-91dec22740a4",
   "metadata": {},
   "outputs": [],
   "source": [
    "email = emails.iloc[0]"
   ]
  },
  {
   "cell_type": "code",
   "execution_count": 21,
   "id": "24a07a4b-5361-4f1e-9f3d-7b06a966b904",
   "metadata": {},
   "outputs": [
    {
     "data": {
      "text/plain": [
       "'jeff, i want to bid $2.8 for sagewood with a rate 8.5% or less and dependent on 30 year term'"
      ]
     },
     "execution_count": 21,
     "metadata": {},
     "output_type": "execute_result"
    }
   ],
   "source": [
    "email.content"
   ]
  },
  {
   "cell_type": "code",
   "execution_count": 22,
   "id": "6eec04e5-92f7-4e9d-9611-29a14adfe9c6",
   "metadata": {},
   "outputs": [],
   "source": [
    "prompt = prompt_template.render(\n",
    "    email_content=email.content\n",
    ")"
   ]
  },
  {
   "cell_type": "code",
   "execution_count": 23,
   "id": "0a9446c1-81fa-42be-9d37-422cbf177cd6",
   "metadata": {},
   "outputs": [
    {
     "data": {
      "text/plain": [
       "'    You are Paul Allen, also known as Phillip Allen, and you sent this email:\\n\\n<email content>\\njeff, i want to bid $2.8 for sagewood with a rate 8.5% or less and dependent on 30 year term\\n</email content>\\n\\nYou are a precise question generator. You will read an email and produce concise recall questions\\nwhose answers are contained **verbatim** in the email.\\n\\nROLE: You are Paul Allen (aka Phillip Allen) and you sent this email.\\n\\n<email content>\\njeff, i want to bid $2.8 for sagewood with a rate 8.5% or less and dependent on 30 year term\\n</email content>\\n\\nOBJECTIVE:\\nGenerate about 10 short questions that help recall specific details from the email.\\n\\nSTRICT RULES:\\n- SOURCE BOUNDARY: Only use information explicitly present in the email body above.\\n- NO CONTEXT LEAPS: Do not assume prior threads, external people, or history.\\n- ONE FACT PER QUESTION: Target a single atomic item (amount, date, deadline, quantity, item, doc name, term, condition).\\n- NO META: Never ask about sender/recipient, message headers, or who received/sent the email.\\n- NO SPECULATION: No future predictions or hypotheticals.\\n- NO ANSWERS INSIDE QUESTIONS: Do not include any hints, quoted answers, or parentheticals like “(Sagewood)”.\\n- NO LEADING/BINARY WHEN A FACT EXISTS: Prefer “What is the total bid amount?” over “Is the bid X?”\\n- NO UNRELATED LINKS: Don’t combine two topics unless the email explicitly links them.\\n- STYLE: Each question ≤ 20 words, clear, and self-contained. Avoid duplicates and rephrasings.\\n\\nGOOD TARGETS (if present):\\n- Exact figures (prices, totals, rates, percentages), units, counts\\n- Dates/times, deadlines, delivery windows, validity periods\\n- Named items (documents, attachments, SKUs, project names—without revealing the answer)\\n- Addresses, locations, URLs explicitly in the email\\n- Terms, clauses, requirements, conditions, approvals, next steps explicitly stated\\n\\nOUTPUT FORMAT (JSON only, no commentary):\\n{\\n  \"questions\": [\\n    \"Question 1?\",\\n    \"Question 2?\",\\n    ...\\n  ]\\n}\\n\\nSELF-CHECK BEFORE OUTPUT (do not print this list):\\n- [ ] Every question answerable strictly from the email text\\n- [ ] No sender/recipient/meta questions\\n- [ ] No answers or hints inside the questions\\n- [ ] One fact per question; under 20 words each\\n- [ ] No speculative or future-oriented wording\\n- [ ] No unrelated topic linking'"
      ]
     },
     "execution_count": 23,
     "metadata": {},
     "output_type": "execute_result"
    }
   ],
   "source": [
    "prompt"
   ]
  },
  {
   "cell_type": "code",
   "execution_count": 24,
   "id": "fe1d67d6-d08a-42f3-8cb7-428751cfb5dc",
   "metadata": {},
   "outputs": [],
   "source": [
    "MODEL = GPT4O_MINI"
   ]
  },
  {
   "cell_type": "code",
   "execution_count": 25,
   "id": "d1fe8639-24e3-4623-b912-24abc937a2a9",
   "metadata": {},
   "outputs": [],
   "source": [
    "completion = await cached_chat_completion_parsed_with_retry(\n",
    "    model=MODEL,\n",
    "    messages=[user(prompt)],\n",
    "    response_format=GenerateQuestions\n",
    ")"
   ]
  },
  {
   "cell_type": "code",
   "execution_count": 26,
   "id": "20310750-a197-4920-97de-fe19c813d381",
   "metadata": {},
   "outputs": [
    {
     "data": {
      "text/plain": [
       "['What is the total bid amount?',\n",
       " 'What is the required rate for the bid?',\n",
       " 'What is the maximum percentage rate allowed?',\n",
       " 'What is the term dependent condition for the bid?',\n",
       " 'What property is being bid on?',\n",
       " 'Is the rate required to be greater than 8.5%?',\n",
       " 'Is the bid amount greater than $2.5?',\n",
       " 'What is the duration for the term specified?',\n",
       " 'Is the rate required to be 8.5% or less?',\n",
       " 'Who is the recipient of the email?']"
      ]
     },
     "execution_count": 26,
     "metadata": {},
     "output_type": "execute_result"
    }
   ],
   "source": [
    "completion.choices[0].message.parsed.questions"
   ]
  },
  {
   "cell_type": "markdown",
   "id": "05feabaa-c226-467d-8645-0c1f9e7d2ed2",
   "metadata": {},
   "source": [
    "# Bad questions category"
   ]
  },
  {
   "cell_type": "markdown",
   "id": "3cb37eae-ccf7-4b9b-aa45-9afe2bd0a388",
   "metadata": {},
   "source": [
    "'Who is the recipient of the email?'\n",
    "'Is the bid dependent on a 30-year term?'\n",
    "'What is the name associated with the bid (Sagewood)?'\n",
    "'What is the relation between the bid and the interest rate mentioned?'"
   ]
  },
  {
   "cell_type": "code",
   "execution_count": 27,
   "id": "fb9cb602-e255-44c2-bf4e-85ff97aa46bc",
   "metadata": {},
   "outputs": [],
   "source": [
    "async def try_the_prompt(i):\n",
    "    email = emails.iloc[i]\n",
    "    prompt = prompt_template.render(\n",
    "        email_content=email.content\n",
    "    )\n",
    "    \n",
    "    completion = await cached_chat_completion_parsed_with_retry(\n",
    "        model=MODEL,\n",
    "        messages=[user(prompt)],\n",
    "        response_format=GenerateQuestions\n",
    "    )\n",
    "    \n",
    "    return completion.choices[0].message.parsed.questions, email.content"
   ]
  },
  {
   "cell_type": "code",
   "execution_count": 28,
   "id": "383fcedf-b988-4347-9779-89585b472b0c",
   "metadata": {},
   "outputs": [],
   "source": [
    "r, e = await try_the_prompt(10)"
   ]
  },
  {
   "cell_type": "code",
   "execution_count": 29,
   "id": "42ba4e2e-3884-4672-9d55-bc23734502a5",
   "metadata": {},
   "outputs": [
    {
     "data": {
      "text/plain": [
       "'jeff/brenda, please authorize and forward to tara sweitzer. please set up the following with the ability to setup and manage products in stack manager: steve south tory kuykendall janie tholt frank ermis matt lenhart note: the type of product these traders will be managing is less than 1 month physical in the west. also please grant access & passwords to enable the above traders to execute book to book trades on eol. if possible restrict their execution authority to products in the first 3 months. thank you phillip allen'"
      ]
     },
     "execution_count": 29,
     "metadata": {},
     "output_type": "execute_result"
    }
   ],
   "source": [
    "e"
   ]
  },
  {
   "cell_type": "code",
   "execution_count": 30,
   "id": "5399baf1-82b6-4592-8178-a89274d53ec3",
   "metadata": {},
   "outputs": [
    {
     "data": {
      "text/plain": [
       "['Who should authorize and forward the request to Tara Sweitzer?',\n",
       " 'What is the management tool mentioned in the email?',\n",
       " 'Who are the traders to set up and manage products?',\n",
       " 'What type of product will the traders manage?',\n",
       " 'What is the duration of physical products these traders will manage?',\n",
       " 'What access is requested for the traders on EOL?',\n",
       " 'What type of trades are the traders supposed to execute?',\n",
       " 'How long should the execution authority be restricted to?',\n",
       " 'How many traders are listed in the email?',\n",
       " 'Who sent the email?']"
      ]
     },
     "execution_count": 30,
     "metadata": {},
     "output_type": "execute_result"
    }
   ],
   "source": [
    "r"
   ]
  },
  {
   "cell_type": "code",
   "execution_count": null,
   "id": "aa161898-6a3f-42eb-bda0-fe02ede4240e",
   "metadata": {},
   "outputs": [],
   "source": []
  }
 ],
 "metadata": {
  "kernelspec": {
   "display_name": "rag-course",
   "language": "python",
   "name": "rag-course"
  },
  "language_info": {
   "codemirror_mode": {
    "name": "ipython",
    "version": 3
   },
   "file_extension": ".py",
   "mimetype": "text/x-python",
   "name": "python",
   "nbconvert_exporter": "python",
   "pygments_lexer": "ipython3",
   "version": "3.12.11"
  }
 },
 "nbformat": 4,
 "nbformat_minor": 5
}
