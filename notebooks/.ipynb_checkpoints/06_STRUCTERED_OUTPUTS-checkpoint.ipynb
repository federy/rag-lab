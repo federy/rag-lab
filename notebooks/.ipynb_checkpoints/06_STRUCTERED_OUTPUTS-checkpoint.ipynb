{
 "cells": [
  {
   "cell_type": "markdown",
   "id": "4bcec85d-3315-4c45-9f15-22343f2aa758",
   "metadata": {},
   "source": [
    "# Load API Keys"
   ]
  },
  {
   "cell_type": "code",
   "execution_count": 1,
   "id": "fbebdac8-ab74-4300-8cf3-ba68f84b790d",
   "metadata": {},
   "outputs": [
    {
     "data": {
      "text/plain": [
       "True"
      ]
     },
     "execution_count": 1,
     "metadata": {},
     "output_type": "execute_result"
    }
   ],
   "source": [
    "from dotenv import load_dotenv\n",
    "\n",
    "load_dotenv()"
   ]
  },
  {
   "cell_type": "markdown",
   "id": "23954bce-b5f7-445c-9c1e-243f8760a989",
   "metadata": {},
   "source": [
    "# Tracing"
   ]
  },
  {
   "cell_type": "code",
   "execution_count": 2,
   "id": "ae7c7d9c-8755-489a-85da-59302fbee896",
   "metadata": {},
   "outputs": [],
   "source": [
    "from langfuse.openai import AsyncOpenAI"
   ]
  },
  {
   "cell_type": "markdown",
   "id": "1c06cbf8-de1b-4ebf-9cd6-8745cbea2825",
   "metadata": {},
   "source": [
    "# Setup LLM Call Helpers"
   ]
  },
  {
   "cell_type": "code",
   "execution_count": 3,
   "id": "b1ebff70-90a5-40c7-b51d-e266a5fd7dda",
   "metadata": {},
   "outputs": [],
   "source": [
    "client = AsyncOpenAI()"
   ]
  },
  {
   "cell_type": "code",
   "execution_count": 4,
   "id": "53d41df5-18d6-4f10-b80e-d92ef89aea36",
   "metadata": {},
   "outputs": [],
   "source": [
    "GPT4O_MINI = \"o4-mini-2025-04-16\""
   ]
  },
  {
   "cell_type": "code",
   "execution_count": 5,
   "id": "d3e5947d-7728-4016-b44e-41fc7471100d",
   "metadata": {},
   "outputs": [],
   "source": [
    "def _msg(role, content):\n",
    "    return {'role': role, 'content': content}\n",
    "\n",
    "def system(content):\n",
    "    return _msg('system', content)\n",
    "\n",
    "def user(content):\n",
    "    return _msg('user', content)\n",
    "\n",
    "def assistant(content):\n",
    "    return _msg('assistant', content)"
   ]
  },
  {
   "cell_type": "markdown",
   "id": "8711385f-a56c-413c-9864-d3eb7f675e1c",
   "metadata": {},
   "source": [
    "# Demo"
   ]
  },
  {
   "cell_type": "code",
   "execution_count": 6,
   "id": "46a93873-52bd-4cb4-b634-0ba201b594a0",
   "metadata": {},
   "outputs": [],
   "source": [
    "# instead of\n",
    "# client.chat.completions.create\n",
    "# use:\n",
    "from pydantic import BaseModel\n",
    "\n",
    "class CalendarEvent(BaseModel):                 #####################################\n",
    "    name: str                                   ############# SCHEMA ################\n",
    "    date: str                                   #####################################\n",
    "    participants: list[str]                     #####################################\n",
    "\n",
    "response = await client.responses.parse(\n",
    "    model=GPT4O_MINI,\n",
    "    input=[\n",
    "        {\"role\": \"system\", \"content\": \"Extract the event information.\"},\n",
    "        {\n",
    "            \"role\": \"user\",\n",
    "            \"content\": \"Alice and Bob are going to a science fair on Friday.\",\n",
    "        },\n",
    "    ],\n",
    "    text_format=CalendarEvent,\n",
    "    # max_output_tokens=5  ### WILL NOT WORK because not enough tokens to output the full json string\n",
    ")\n",
    "\n",
    "event = response.output_parsed"
   ]
  },
  {
   "cell_type": "code",
   "execution_count": 8,
   "id": "7ed56b91-ee7e-4785-be13-4072bf29580e",
   "metadata": {},
   "outputs": [
    {
     "name": "stderr",
     "output_type": "stream",
     "text": [
      "/tmp/ipykernel_3821735/2916566430.py:1: PydanticDeprecatedSince20: The `json` method is deprecated; use `model_dump_json` instead. Deprecated in Pydantic V2.0 to be removed in V3.0. See Pydantic V2 Migration Guide at https://errors.pydantic.dev/2.11/migration/\n",
      "  event.json()\n"
     ]
    },
    {
     "data": {
      "text/plain": [
       "'{\"name\":\"Science fair\",\"date\":\"Friday\",\"participants\":[\"Alice\",\"Bob\"]}'"
      ]
     },
     "execution_count": 8,
     "metadata": {},
     "output_type": "execute_result"
    }
   ],
   "source": [
    "event.json()"
   ]
  },
  {
   "cell_type": "code",
   "execution_count": 14,
   "id": "0a7991bb-9757-4deb-80da-989176d8d151",
   "metadata": {},
   "outputs": [
    {
     "name": "stderr",
     "output_type": "stream",
     "text": [
      "/tmp/ipykernel_3821735/2035221343.py:3: PydanticDeprecatedSince20: The `json` method is deprecated; use `model_dump_json` instead. Deprecated in Pydantic V2.0 to be removed in V3.0. See Pydantic V2 Migration Guide at https://errors.pydantic.dev/2.11/migration/\n",
      "  response_as_dict = json.loads(event.json())\n"
     ]
    }
   ],
   "source": [
    "import json\n",
    "\n",
    "response_as_dict = json.loads(event.json())"
   ]
  },
  {
   "cell_type": "code",
   "execution_count": 16,
   "id": "f8de54e0-9f5e-484e-828c-e10a8d4ba0b0",
   "metadata": {},
   "outputs": [
    {
     "name": "stderr",
     "output_type": "stream",
     "text": [
      "/tmp/ipykernel_3821735/330563950.py:1: PydanticDeprecatedSince20: The `validate` method is deprecated; use `model_validate` instead. Deprecated in Pydantic V2.0 to be removed in V3.0. See Pydantic V2 Migration Guide at https://errors.pydantic.dev/2.11/migration/\n",
      "  event = CalendarEvent.validate(response_as_dict)\n"
     ]
    }
   ],
   "source": [
    "event = CalendarEvent.validate(response_as_dict)"
   ]
  },
  {
   "cell_type": "code",
   "execution_count": 17,
   "id": "3de05d2c-3ad8-4276-ac16-c73632e2313c",
   "metadata": {},
   "outputs": [
    {
     "data": {
      "text/plain": [
       "'Science fair'"
      ]
     },
     "execution_count": 17,
     "metadata": {},
     "output_type": "execute_result"
    }
   ],
   "source": [
    "event.name"
   ]
  },
  {
   "cell_type": "code",
   "execution_count": 18,
   "id": "27262d97-6307-4d73-b620-6ba9b3a79ae8",
   "metadata": {},
   "outputs": [
    {
     "data": {
      "text/plain": [
       "'Friday'"
      ]
     },
     "execution_count": 18,
     "metadata": {},
     "output_type": "execute_result"
    }
   ],
   "source": [
    "event.date"
   ]
  },
  {
   "cell_type": "code",
   "execution_count": 19,
   "id": "281a4920-5904-4f6f-82f9-2af18df71147",
   "metadata": {},
   "outputs": [
    {
     "data": {
      "text/plain": [
       "['Alice', 'Bob']"
      ]
     },
     "execution_count": 19,
     "metadata": {},
     "output_type": "execute_result"
    }
   ],
   "source": [
    "event.participants"
   ]
  },
  {
   "cell_type": "code",
   "execution_count": null,
   "id": "0fce7b4f-1b60-4593-b0b3-b2751e3b576e",
   "metadata": {},
   "outputs": [],
   "source": []
  }
 ],
 "metadata": {
  "kernelspec": {
   "display_name": "rag-course",
   "language": "python",
   "name": "rag-course"
  },
  "language_info": {
   "codemirror_mode": {
    "name": "ipython",
    "version": 3
   },
   "file_extension": ".py",
   "mimetype": "text/x-python",
   "name": "python",
   "nbconvert_exporter": "python",
   "pygments_lexer": "ipython3",
   "version": "3.12.11"
  }
 },
 "nbformat": 4,
 "nbformat_minor": 5
}
