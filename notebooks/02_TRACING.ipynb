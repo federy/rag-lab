{
 "cells": [
  {
   "cell_type": "markdown",
   "id": "d03aff5e-4626-4c29-adb5-6a0cccf7aefd",
   "metadata": {},
   "source": [
    "# Get API Keys"
   ]
  },
  {
   "cell_type": "code",
   "execution_count": 1,
   "id": "1e4bf905-8e64-4f94-9da5-a8de7d5c4e97",
   "metadata": {},
   "outputs": [
    {
     "data": {
      "text/plain": [
       "True"
      ]
     },
     "execution_count": 1,
     "metadata": {},
     "output_type": "execute_result"
    }
   ],
   "source": [
    "from dotenv import load_dotenv\n",
    "\n",
    "load_dotenv()"
   ]
  },
  {
   "cell_type": "code",
   "execution_count": 2,
   "id": "ec5dadde-367b-41c4-812e-aafcb2e8d691",
   "metadata": {},
   "outputs": [],
   "source": [
    "# from openai import AsyncOpenAI\n",
    "from langfuse.openai import AsyncOpenAI"
   ]
  },
  {
   "cell_type": "markdown",
   "id": "ee8ca306-ff00-4612-b582-1889299f72f7",
   "metadata": {},
   "source": [
    "# Chat Helper"
   ]
  },
  {
   "cell_type": "code",
   "execution_count": 3,
   "id": "996a4d01-314c-4dce-9002-fee1ec9ac0fb",
   "metadata": {},
   "outputs": [],
   "source": [
    "client = AsyncOpenAI()"
   ]
  },
  {
   "cell_type": "code",
   "execution_count": 4,
   "id": "1f60a868-7cd0-4d54-bdf1-306b3407cfe0",
   "metadata": {},
   "outputs": [],
   "source": [
    "GPT4O_MINI = \"o4-mini-2025-04-16\""
   ]
  },
  {
   "cell_type": "code",
   "execution_count": 5,
   "id": "5e751ba5-8207-43c4-8f3a-e3a7928c2dc7",
   "metadata": {},
   "outputs": [],
   "source": [
    "def _msg(role, content):\n",
    "    return {'role': role, 'content': content}\n",
    "\n",
    "def system(content):\n",
    "    return _msg('system', content)\n",
    "\n",
    "def user(content):\n",
    "    return _msg('user', content)\n",
    "\n",
    "def assistant(content):\n",
    "    return _msg('assistant', content)"
   ]
  },
  {
   "cell_type": "markdown",
   "id": "dc892c73-c3d5-407a-9616-1e68c46b2384",
   "metadata": {},
   "source": [
    "# Tracing"
   ]
  },
  {
   "cell_type": "code",
   "execution_count": 18,
   "id": "7c19d180-f9c5-411a-b7e2-d5ce855b4d2a",
   "metadata": {},
   "outputs": [],
   "source": [
    "for _ in range(2):\n",
    "    await client.chat.completions.create(\n",
    "        messages=[user(\"What is the paarameter temperature in client.chat.completions.create?\")],\n",
    "        model=GPT4O_MINI,\n",
    "        max_completion_tokens=1000,\n",
    "        temperature=1\n",
    "    )"
   ]
  },
  {
   "cell_type": "code",
   "execution_count": null,
   "id": "3d24fc68-2d4f-40ef-ad18-0289e23d8b8d",
   "metadata": {},
   "outputs": [],
   "source": []
  }
 ],
 "metadata": {
  "kernelspec": {
   "display_name": "rag-course",
   "language": "python",
   "name": "rag-course"
  },
  "language_info": {
   "codemirror_mode": {
    "name": "ipython",
    "version": 3
   },
   "file_extension": ".py",
   "mimetype": "text/x-python",
   "name": "python",
   "nbconvert_exporter": "python",
   "pygments_lexer": "ipython3",
   "version": "3.12.11"
  }
 },
 "nbformat": 4,
 "nbformat_minor": 5
}
